{
  "nbformat": 4,
  "nbformat_minor": 0,
  "metadata": {
    "kernelspec": {
      "display_name": "Python 3",
      "language": "python",
      "name": "python3"
    },
    "language_info": {
      "codemirror_mode": {
        "name": "ipython",
        "version": 3
      },
      "file_extension": ".py",
      "mimetype": "text/x-python",
      "name": "python",
      "nbconvert_exporter": "python",
      "pygments_lexer": "ipython3",
      "version": "3.7.3"
    },
    "colab": {
      "name": "Keras_functional_model_with_multiple_input.ipynb",
      "provenance": [],
      "collapsed_sections": []
    }
  },
  "cells": [
    {
      "cell_type": "markdown",
      "metadata": {
        "id": "nxvZN20NBV3Q"
      },
      "source": [
        "## [Problem](https://www.kaggle.com/c/mercari-price-suggestion-challenge/overview)"
      ]
    },
    {
      "cell_type": "markdown",
      "metadata": {
        "id": "-MeIPlAMBUFj"
      },
      "source": [
        "It can be hard to know how much something’s really worth. Small details can mean big differences in pricing. For example, one of these sweaters cost $335 and the other cost $9.99. Can you guess which one’s which?\n",
        "\n",
        "Product pricing gets even harder at scale, considering just how many products are sold online. Clothing has strong seasonal pricing trends and is heavily influenced by brand names, while electronics have fluctuating prices based on product specs.\n",
        "\n",
        "Mercari, Japan’s biggest community-powered shopping app, knows this problem deeply. They’d like to offer pricing suggestions to sellers, but this is tough because their sellers are enabled to put just about anything, or any bundle of things, on Mercari's marketplace.\n",
        "\n",
        "In this competition, Mercari’s challenging you to build an algorithm that automatically suggests the right product prices. You’ll be provided user-inputted text descriptions of their products, including details like product category name, brand name, and item condition.\n",
        "\n",
        "Note that, because of the public nature of this data, this competition is a “Kernels Only” competition. In the second stage of the challenge, files will only be available through Kernels and you will not be able to modify your approach in response to new data. Read more details in the data tab and Kernels FAQ page. "
      ]
    },
    {
      "cell_type": "markdown",
      "metadata": {
        "id": "Onr3P5Oyu2On"
      },
      "source": [
        "\n",
        "## Call libraries"
      ]
    },
    {
      "cell_type": "code",
      "metadata": {
        "_cell_guid": "f49a0842-1c3d-4bee-8b3e-3caf6111bb60",
        "_uuid": "e4561cb64722ffd7adb74a8800f89973bc3fe87a",
        "id": "XDTbAXJGYCFQ"
      },
      "source": [
        "# 1.0 Call libraries\n",
        "# 1.1 Data manipulation libraries\n",
        "import numpy as np\n",
        "import pandas as pd\n",
        "\n",
        "# 1.2 sklearn libraries\n",
        "from sklearn.preprocessing import LabelEncoder, MinMaxScaler, StandardScaler\n",
        "from sklearn.model_selection import train_test_split\n",
        "\n",
        "# 1.3 For plotting NN model\n",
        "\n",
        "#  conda install -c anaconda graphviz\n",
        "#  conda install -c anaconda pydot\n",
        "from skimage import io\n",
        "import pydot\n",
        "\n",
        "# 1.4 Keras model components\n",
        "from tensorflow.keras.models import Model\n",
        "from tensorflow.keras.layers import Input, Dropout, Dense, concatenate, GRU, Embedding, Flatten\n",
        "from tensorflow.keras.callbacks import ModelCheckpoint, Callback, EarlyStopping\n",
        "\n",
        "# 1.4.1 For text (word) to integer transformation\n",
        "from tensorflow.keras.preprocessing.text import Tokenizer\n",
        "\n",
        "# 1.4.2 For making all integer sequences of equal length\n",
        "from tensorflow.keras.preprocessing.sequence import pad_sequences\n",
        "\n",
        "# 1.4.3 Import backend to invoke tensorflow commands to manipulate tensors\n",
        "from tensorflow.keras import backend as K\n",
        "\n",
        "# 1.5 Plotting libraries\n",
        "from tensorflow.keras.utils import plot_model\n",
        "import matplotlib.pyplot as plt\n",
        "%matplotlib inline \n",
        "\n",
        "# 1.6 Misc\n",
        "import math, time, os,gc"
      ],
      "execution_count": 1,
      "outputs": []
    },
    {
      "cell_type": "code",
      "metadata": {
        "id": "QiagwG_h1Re1"
      },
      "source": [
        "# 1.7 Print all outputs from a cell\n",
        "\n",
        "from IPython.core.interactiveshell import InteractiveShell\n",
        "InteractiveShell.ast_node_interactivity = \"all\""
      ],
      "execution_count": 2,
      "outputs": []
    },
    {
      "cell_type": "code",
      "metadata": {
        "colab": {
          "base_uri": "https://localhost:8080/"
        },
        "id": "BEO5v381Nas_",
        "outputId": "46a7036f-e941-41dd-d0ab-df97a36efbc1"
      },
      "source": [
        "# 1.8 Underestimate by 400\n",
        "#     More penalized:\n",
        "\n",
        "p = 600\n",
        "a = 1000\n",
        "(math.log(p) - math.log(a))**2\n"
      ],
      "execution_count": 3,
      "outputs": [
        {
          "output_type": "execute_result",
          "data": {
            "text/plain": [
              "0.2609428178959133"
            ]
          },
          "metadata": {},
          "execution_count": 3
        }
      ]
    },
    {
      "cell_type": "code",
      "metadata": {
        "colab": {
          "base_uri": "https://localhost:8080/"
        },
        "id": "Kt6JupfQNw4G",
        "outputId": "ab5f8352-4859-4b7a-b2ef-a3f39410c14c"
      },
      "source": [
        "# 1.9 Overestimate by 400\n",
        "\n",
        "p =  1400\n",
        "a = 1000\n",
        "(math.log(p) - math.log(a))**2\n"
      ],
      "execution_count": 4,
      "outputs": [
        {
          "output_type": "execute_result",
          "data": {
            "text/plain": [
              "0.11321356601688151"
            ]
          },
          "metadata": {},
          "execution_count": 4
        }
      ]
    },
    {
      "cell_type": "markdown",
      "metadata": {
        "id": "IlhEDj9NyM89"
      },
      "source": [
        "### Define rmsle()"
      ]
    },
    {
      "cell_type": "code",
      "metadata": {
        "_cell_guid": "17b85633-4dae-4a49-9573-5d5c3b1b9699",
        "_uuid": "56874f4a359241631a1f1e4788da09e7b09182b8",
        "id": "Pns2fIoMYCFR"
      },
      "source": [
        "# 2. Write a function to calculate Root Mean Squared Logarithmic Error (RMSLE)\n",
        "#    Why use RMSLE?\n",
        "#    Ref: https://stats.stackexchange.com/a/110610\n",
        "\n",
        "def rmsle(y, y_pred):\n",
        "    # 2.1 Check if lengths are both arrays are same\n",
        "    assert len(y) == len(y_pred)\n",
        "    # 2.2 Get a list of squared differences of logs\n",
        "    to_sum = [(math.log(y_pred[i] + 1) - math.log(y[i] + 1)) ** 2.0 for i,pred in enumerate(y_pred)]\n",
        "    # 2.3 Sum up all squared differences, take a mean and then square root \n",
        "    return (sum(to_sum) * (1.0/len(y))) ** 0.5\n",
        "    \n",
        "#Source: https://www.kaggle.com/marknagelberg/rmsle-function"
      ],
      "execution_count": 5,
      "outputs": []
    },
    {
      "cell_type": "markdown",
      "metadata": {
        "id": "--0Sz50kyQbV"
      },
      "source": [
        "## Mount gdrive"
      ]
    },
    {
      "cell_type": "code",
      "metadata": {
        "id": "EKEVrHU5YdXj",
        "colab": {
          "base_uri": "https://localhost:8080/"
        },
        "outputId": "aa708247-0a2e-4dd4-9a7c-ebad59f5ebe0"
      },
      "source": [
        "# 2.4\n",
        "from google.colab import drive\n",
        "drive.mount('/gdrive')"
      ],
      "execution_count": 6,
      "outputs": [
        {
          "output_type": "stream",
          "name": "stdout",
          "text": [
            "Mounted at /gdrive\n"
          ]
        }
      ]
    },
    {
      "cell_type": "markdown",
      "metadata": {
        "id": "oYeSyGfbyUks"
      },
      "source": [
        "## Read data\n"
      ]
    },
    {
      "cell_type": "code",
      "metadata": {
        "id": "bjVJkwvEP3Jb",
        "colab": {
          "base_uri": "https://localhost:8080/"
        },
        "outputId": "e059230f-4865-443c-ec1c-37eb02b9a89b"
      },
      "source": [
        "from google.colab import drive\n",
        "drive.mount('/content/drive')"
      ],
      "execution_count": 7,
      "outputs": [
        {
          "output_type": "stream",
          "name": "stdout",
          "text": [
            "Mounted at /content/drive\n"
          ]
        }
      ]
    },
    {
      "cell_type": "code",
      "metadata": {
        "id": "vH8NDMHpcnuJ",
        "colab": {
          "base_uri": "https://localhost:8080/"
        },
        "outputId": "7de71f35-3acd-4fca-f2b5-110084ab8717"
      },
      "source": [
        "# 3.1 Set path to train and test data\n",
        "print(\"Loading data...\")\n",
        "path = \"/gdrive/MyDrive/fa\" \n",
        "#os.chdir(path)"
      ],
      "execution_count": 8,
      "outputs": [
        {
          "output_type": "stream",
          "name": "stdout",
          "text": [
            "Loading data...\n"
          ]
        }
      ]
    },
    {
      "cell_type": "code",
      "metadata": {
        "id": "o-S7qG0kzWGd"
      },
      "source": [
        "# 3.1 Set path to train and test data\n",
        "path = \"/gdrive/MyDrive/fa\""
      ],
      "execution_count": 9,
      "outputs": []
    },
    {
      "cell_type": "code",
      "metadata": {
        "_cell_guid": "a76efe2c-34bb-458a-8611-1dcabda65b31",
        "_uuid": "80cd3abaf2d32b2c8133719d9a7bbb977adf91cb",
        "id": "GA5MMsT-YCFS",
        "colab": {
          "base_uri": "https://localhost:8080/"
        },
        "outputId": "def6e90f-2e09-437c-8437-4e9e49693a7e"
      },
      "source": [
        "# 3.2 Read datasets\n",
        "%%time\n",
        "\n",
        "print(\"---Loading data---\")\n",
        "\n",
        "train = pd.read_table(\"/content/drive/MyDrive/fa/train.tsv.zip\")\n",
        "test = pd.read_table(\"/content/drive/MyDrive/fa/test.tsv.zip\")\n",
        "\n",
        "print(\"---finished reading---\")"
      ],
      "execution_count": 11,
      "outputs": [
        {
          "output_type": "stream",
          "name": "stdout",
          "text": [
            "---Loading data---\n",
            "---finished reading---\n",
            "CPU times: user 10.3 s, sys: 706 ms, total: 11 s\n",
            "Wall time: 16.4 s\n"
          ]
        }
      ]
    },
    {
      "cell_type": "code",
      "metadata": {
        "id": "koySgJelBwvJ",
        "colab": {
          "base_uri": "https://localhost:8080/",
          "height": 352
        },
        "outputId": "93de4c40-d1c9-48dc-bad5-1be4ec1d0aae"
      },
      "source": [
        "# 3.2.1\n",
        "train.head(10)"
      ],
      "execution_count": 12,
      "outputs": [
        {
          "output_type": "execute_result",
          "data": {
            "text/html": [
              "<div>\n",
              "<style scoped>\n",
              "    .dataframe tbody tr th:only-of-type {\n",
              "        vertical-align: middle;\n",
              "    }\n",
              "\n",
              "    .dataframe tbody tr th {\n",
              "        vertical-align: top;\n",
              "    }\n",
              "\n",
              "    .dataframe thead th {\n",
              "        text-align: right;\n",
              "    }\n",
              "</style>\n",
              "<table border=\"1\" class=\"dataframe\">\n",
              "  <thead>\n",
              "    <tr style=\"text-align: right;\">\n",
              "      <th></th>\n",
              "      <th>train_id</th>\n",
              "      <th>name</th>\n",
              "      <th>item_condition_id</th>\n",
              "      <th>category_name</th>\n",
              "      <th>brand_name</th>\n",
              "      <th>price</th>\n",
              "      <th>shipping</th>\n",
              "      <th>item_description</th>\n",
              "    </tr>\n",
              "  </thead>\n",
              "  <tbody>\n",
              "    <tr>\n",
              "      <th>0</th>\n",
              "      <td>0</td>\n",
              "      <td>MLB Cincinnati Reds T Shirt Size XL</td>\n",
              "      <td>3</td>\n",
              "      <td>Men/Tops/T-shirts</td>\n",
              "      <td>NaN</td>\n",
              "      <td>10.0</td>\n",
              "      <td>1</td>\n",
              "      <td>No description yet</td>\n",
              "    </tr>\n",
              "    <tr>\n",
              "      <th>1</th>\n",
              "      <td>1</td>\n",
              "      <td>Razer BlackWidow Chroma Keyboard</td>\n",
              "      <td>3</td>\n",
              "      <td>Electronics/Computers &amp; Tablets/Components &amp; P...</td>\n",
              "      <td>Razer</td>\n",
              "      <td>52.0</td>\n",
              "      <td>0</td>\n",
              "      <td>This keyboard is in great condition and works ...</td>\n",
              "    </tr>\n",
              "    <tr>\n",
              "      <th>2</th>\n",
              "      <td>2</td>\n",
              "      <td>AVA-VIV Blouse</td>\n",
              "      <td>1</td>\n",
              "      <td>Women/Tops &amp; Blouses/Blouse</td>\n",
              "      <td>Target</td>\n",
              "      <td>10.0</td>\n",
              "      <td>1</td>\n",
              "      <td>Adorable top with a hint of lace and a key hol...</td>\n",
              "    </tr>\n",
              "    <tr>\n",
              "      <th>3</th>\n",
              "      <td>3</td>\n",
              "      <td>Leather Horse Statues</td>\n",
              "      <td>1</td>\n",
              "      <td>Home/Home Décor/Home Décor Accents</td>\n",
              "      <td>NaN</td>\n",
              "      <td>35.0</td>\n",
              "      <td>1</td>\n",
              "      <td>New with tags. Leather horses. Retail for [rm]...</td>\n",
              "    </tr>\n",
              "    <tr>\n",
              "      <th>4</th>\n",
              "      <td>4</td>\n",
              "      <td>24K GOLD plated rose</td>\n",
              "      <td>1</td>\n",
              "      <td>Women/Jewelry/Necklaces</td>\n",
              "      <td>NaN</td>\n",
              "      <td>44.0</td>\n",
              "      <td>0</td>\n",
              "      <td>Complete with certificate of authenticity</td>\n",
              "    </tr>\n",
              "    <tr>\n",
              "      <th>5</th>\n",
              "      <td>5</td>\n",
              "      <td>Bundled items requested for Ruie</td>\n",
              "      <td>3</td>\n",
              "      <td>Women/Other/Other</td>\n",
              "      <td>NaN</td>\n",
              "      <td>59.0</td>\n",
              "      <td>0</td>\n",
              "      <td>Banana republic bottoms, Candies skirt with ma...</td>\n",
              "    </tr>\n",
              "    <tr>\n",
              "      <th>6</th>\n",
              "      <td>6</td>\n",
              "      <td>Acacia pacific tides santorini top</td>\n",
              "      <td>3</td>\n",
              "      <td>Women/Swimwear/Two-Piece</td>\n",
              "      <td>Acacia Swimwear</td>\n",
              "      <td>64.0</td>\n",
              "      <td>0</td>\n",
              "      <td>Size small but straps slightly shortened to fi...</td>\n",
              "    </tr>\n",
              "    <tr>\n",
              "      <th>7</th>\n",
              "      <td>7</td>\n",
              "      <td>Girls cheer and tumbling bundle of 7</td>\n",
              "      <td>3</td>\n",
              "      <td>Sports &amp; Outdoors/Apparel/Girls</td>\n",
              "      <td>Soffe</td>\n",
              "      <td>6.0</td>\n",
              "      <td>1</td>\n",
              "      <td>You get three pairs of Sophie cheer shorts siz...</td>\n",
              "    </tr>\n",
              "    <tr>\n",
              "      <th>8</th>\n",
              "      <td>8</td>\n",
              "      <td>Girls Nike Pro shorts</td>\n",
              "      <td>3</td>\n",
              "      <td>Sports &amp; Outdoors/Apparel/Girls</td>\n",
              "      <td>Nike</td>\n",
              "      <td>19.0</td>\n",
              "      <td>0</td>\n",
              "      <td>Girls Size small Plus green. Three shorts total.</td>\n",
              "    </tr>\n",
              "    <tr>\n",
              "      <th>9</th>\n",
              "      <td>9</td>\n",
              "      <td>Porcelain clown doll checker pants VTG</td>\n",
              "      <td>3</td>\n",
              "      <td>Vintage &amp; Collectibles/Collectibles/Doll</td>\n",
              "      <td>NaN</td>\n",
              "      <td>8.0</td>\n",
              "      <td>0</td>\n",
              "      <td>I realized his pants are on backwards after th...</td>\n",
              "    </tr>\n",
              "  </tbody>\n",
              "</table>\n",
              "</div>"
            ],
            "text/plain": [
              "   train_id  ...                                   item_description\n",
              "0         0  ...                                 No description yet\n",
              "1         1  ...  This keyboard is in great condition and works ...\n",
              "2         2  ...  Adorable top with a hint of lace and a key hol...\n",
              "3         3  ...  New with tags. Leather horses. Retail for [rm]...\n",
              "4         4  ...          Complete with certificate of authenticity\n",
              "5         5  ...  Banana republic bottoms, Candies skirt with ma...\n",
              "6         6  ...  Size small but straps slightly shortened to fi...\n",
              "7         7  ...  You get three pairs of Sophie cheer shorts siz...\n",
              "8         8  ...   Girls Size small Plus green. Three shorts total.\n",
              "9         9  ...  I realized his pants are on backwards after th...\n",
              "\n",
              "[10 rows x 8 columns]"
            ]
          },
          "metadata": {},
          "execution_count": 12
        }
      ]
    },
    {
      "cell_type": "code",
      "metadata": {
        "id": "aCjr8vQVYCFT",
        "colab": {
          "base_uri": "https://localhost:8080/"
        },
        "outputId": "aebe8e58-6b28-4259-acf1-e8f616450314"
      },
      "source": [
        "# 3.3 Print some information about datasets\n",
        "#     In this data target is 'price'\n",
        "print(\"---\")\n",
        "print(f\"train shape: {train.shape}\")\n",
        "print(f\"Test shape: {test.shape}\")\n",
        "print(\"---\\n\")\n",
        "\n",
        "# 3.3.1\n",
        "print(f\"train Memory Usage : {sum(train.memory_usage())/10**6} MB\")   # In MB\n",
        "print(f\"test Memory Usage : {sum(test.memory_usage())/10**6} MB\")    # In MB\n",
        "print(\"-----\\n\")\n",
        "\n",
        "# 3.3.2\n",
        "print(f\"Train Null columns: {train.isnull().sum().sort_values()}\")\n",
        "print(f\"Test Null columns: {train.isnull().sum().sort_values()}\" )"
      ],
      "execution_count": 13,
      "outputs": [
        {
          "output_type": "stream",
          "name": "stdout",
          "text": [
            "---\n",
            "train shape: (1482535, 8)\n",
            "Test shape: (693359, 7)\n",
            "---\n",
            "\n",
            "train Memory Usage : 94.882368 MB\n",
            "test Memory Usage : 38.828232 MB\n",
            "-----\n",
            "\n",
            "Train Null columns: train_id                  0\n",
            "name                      0\n",
            "item_condition_id         0\n",
            "price                     0\n",
            "shipping                  0\n",
            "item_description          4\n",
            "category_name          6327\n",
            "brand_name           632682\n",
            "dtype: int64\n",
            "Test Null columns: train_id                  0\n",
            "name                      0\n",
            "item_condition_id         0\n",
            "price                     0\n",
            "shipping                  0\n",
            "item_description          4\n",
            "category_name          6327\n",
            "brand_name           632682\n",
            "dtype: int64\n"
          ]
        }
      ]
    },
    {
      "cell_type": "code",
      "metadata": {
        "id": "Z_19JJQn1DGs",
        "colab": {
          "base_uri": "https://localhost:8080/"
        },
        "outputId": "dfaded96-3ed4-42f7-cb67-6f5c3bea8f41"
      },
      "source": [
        "# 3.4 All columns but 'price' and shipping are categorical\n",
        "train.dtypes\n",
        "#test.dtypes\n",
        "train.columns.values"
      ],
      "execution_count": 14,
      "outputs": [
        {
          "output_type": "execute_result",
          "data": {
            "text/plain": [
              "train_id               int64\n",
              "name                  object\n",
              "item_condition_id      int64\n",
              "category_name         object\n",
              "brand_name            object\n",
              "price                float64\n",
              "shipping               int64\n",
              "item_description      object\n",
              "dtype: object"
            ]
          },
          "metadata": {},
          "execution_count": 14
        },
        {
          "output_type": "execute_result",
          "data": {
            "text/plain": [
              "array(['train_id', 'name', 'item_condition_id', 'category_name',\n",
              "       'brand_name', 'price', 'shipping', 'item_description'],\n",
              "      dtype=object)"
            ]
          },
          "metadata": {},
          "execution_count": 14
        }
      ]
    },
    {
      "cell_type": "markdown",
      "metadata": {
        "id": "-AqPoy7PdDsY"
      },
      "source": [
        "## Data pre-processing\n",
        ">1. Missing values (three)<br>\n",
        ">2. Label Encoding of categorical columns (three)<br>\n",
        ">3. Transform fields having descriptive text to int sequences (two)<br>\n",
        ">4. In each text field, find the length of int sequence with max  length<br>\n",
        ">5. Scale numeric fields (1 + 1)<br>\n",
        ">6. Create one random numeric field<br>"
      ]
    },
    {
      "cell_type": "markdown",
      "metadata": {
        "id": "sA-eZn6ReoQG"
      },
      "source": [
        "### Missing values\n",
        "Fill missing values with constants\n"
      ]
    },
    {
      "cell_type": "code",
      "metadata": {
        "id": "5E9wY8I7GNUr"
      },
      "source": [
        "# 4.0 Fill missing values\n",
        "#     Define a function to fill missing values\n",
        "#     We use pandas methods df.fillna()\n",
        "#     Fields: category_name, brand_name, item_description\n",
        "\n",
        "def fill_missing(dataset):\n",
        "    dataset.category_name.fillna(value=\"missing\", inplace=True)\n",
        "    dataset.brand_name.fillna(value=\"missing\", inplace=True)\n",
        "    dataset.item_description.fillna(value=\"missing\", inplace=True)\n",
        "    return (dataset)"
      ],
      "execution_count": 15,
      "outputs": []
    },
    {
      "cell_type": "code",
      "metadata": {
        "_cell_guid": "4e506bee-5541-4879-aaea-159dee4416b8",
        "_uuid": "967a5f2b26862be11cdae8cb0fb7402fd486135c",
        "id": "Ln5BDHHyYCFU"
      },
      "source": [
        "# 4.1 Fill missing values now in train and test\n",
        "train = fill_missing(train)\n",
        "test = fill_missing(test)"
      ],
      "execution_count": 16,
      "outputs": []
    },
    {
      "cell_type": "code",
      "metadata": {
        "id": "mRLcbfKfGU_2",
        "colab": {
          "base_uri": "https://localhost:8080/",
          "height": 525
        },
        "outputId": "9aac29ae-1ae2-4aba-f02b-3d284c7c07b3"
      },
      "source": [
        "# 4.2 Check if any value is still missing\n",
        "train.isnull().sum()\n",
        "test.isnull().sum()\n",
        "\n",
        "# 4.3 Look at datasets now\n",
        "train.head(3)\n",
        "test.head(3)"
      ],
      "execution_count": 17,
      "outputs": [
        {
          "output_type": "execute_result",
          "data": {
            "text/plain": [
              "train_id             0\n",
              "name                 0\n",
              "item_condition_id    0\n",
              "category_name        0\n",
              "brand_name           0\n",
              "price                0\n",
              "shipping             0\n",
              "item_description     0\n",
              "dtype: int64"
            ]
          },
          "metadata": {},
          "execution_count": 17
        },
        {
          "output_type": "execute_result",
          "data": {
            "text/plain": [
              "test_id              0\n",
              "name                 0\n",
              "item_condition_id    0\n",
              "category_name        0\n",
              "brand_name           0\n",
              "shipping             0\n",
              "item_description     0\n",
              "dtype: int64"
            ]
          },
          "metadata": {},
          "execution_count": 17
        },
        {
          "output_type": "execute_result",
          "data": {
            "text/html": [
              "<div>\n",
              "<style scoped>\n",
              "    .dataframe tbody tr th:only-of-type {\n",
              "        vertical-align: middle;\n",
              "    }\n",
              "\n",
              "    .dataframe tbody tr th {\n",
              "        vertical-align: top;\n",
              "    }\n",
              "\n",
              "    .dataframe thead th {\n",
              "        text-align: right;\n",
              "    }\n",
              "</style>\n",
              "<table border=\"1\" class=\"dataframe\">\n",
              "  <thead>\n",
              "    <tr style=\"text-align: right;\">\n",
              "      <th></th>\n",
              "      <th>train_id</th>\n",
              "      <th>name</th>\n",
              "      <th>item_condition_id</th>\n",
              "      <th>category_name</th>\n",
              "      <th>brand_name</th>\n",
              "      <th>price</th>\n",
              "      <th>shipping</th>\n",
              "      <th>item_description</th>\n",
              "    </tr>\n",
              "  </thead>\n",
              "  <tbody>\n",
              "    <tr>\n",
              "      <th>0</th>\n",
              "      <td>0</td>\n",
              "      <td>MLB Cincinnati Reds T Shirt Size XL</td>\n",
              "      <td>3</td>\n",
              "      <td>Men/Tops/T-shirts</td>\n",
              "      <td>missing</td>\n",
              "      <td>10.0</td>\n",
              "      <td>1</td>\n",
              "      <td>No description yet</td>\n",
              "    </tr>\n",
              "    <tr>\n",
              "      <th>1</th>\n",
              "      <td>1</td>\n",
              "      <td>Razer BlackWidow Chroma Keyboard</td>\n",
              "      <td>3</td>\n",
              "      <td>Electronics/Computers &amp; Tablets/Components &amp; P...</td>\n",
              "      <td>Razer</td>\n",
              "      <td>52.0</td>\n",
              "      <td>0</td>\n",
              "      <td>This keyboard is in great condition and works ...</td>\n",
              "    </tr>\n",
              "    <tr>\n",
              "      <th>2</th>\n",
              "      <td>2</td>\n",
              "      <td>AVA-VIV Blouse</td>\n",
              "      <td>1</td>\n",
              "      <td>Women/Tops &amp; Blouses/Blouse</td>\n",
              "      <td>Target</td>\n",
              "      <td>10.0</td>\n",
              "      <td>1</td>\n",
              "      <td>Adorable top with a hint of lace and a key hol...</td>\n",
              "    </tr>\n",
              "  </tbody>\n",
              "</table>\n",
              "</div>"
            ],
            "text/plain": [
              "   train_id  ...                                   item_description\n",
              "0         0  ...                                 No description yet\n",
              "1         1  ...  This keyboard is in great condition and works ...\n",
              "2         2  ...  Adorable top with a hint of lace and a key hol...\n",
              "\n",
              "[3 rows x 8 columns]"
            ]
          },
          "metadata": {},
          "execution_count": 17
        },
        {
          "output_type": "execute_result",
          "data": {
            "text/html": [
              "<div>\n",
              "<style scoped>\n",
              "    .dataframe tbody tr th:only-of-type {\n",
              "        vertical-align: middle;\n",
              "    }\n",
              "\n",
              "    .dataframe tbody tr th {\n",
              "        vertical-align: top;\n",
              "    }\n",
              "\n",
              "    .dataframe thead th {\n",
              "        text-align: right;\n",
              "    }\n",
              "</style>\n",
              "<table border=\"1\" class=\"dataframe\">\n",
              "  <thead>\n",
              "    <tr style=\"text-align: right;\">\n",
              "      <th></th>\n",
              "      <th>test_id</th>\n",
              "      <th>name</th>\n",
              "      <th>item_condition_id</th>\n",
              "      <th>category_name</th>\n",
              "      <th>brand_name</th>\n",
              "      <th>shipping</th>\n",
              "      <th>item_description</th>\n",
              "    </tr>\n",
              "  </thead>\n",
              "  <tbody>\n",
              "    <tr>\n",
              "      <th>0</th>\n",
              "      <td>0</td>\n",
              "      <td>Breast cancer \"I fight like a girl\" ring</td>\n",
              "      <td>1</td>\n",
              "      <td>Women/Jewelry/Rings</td>\n",
              "      <td>missing</td>\n",
              "      <td>1</td>\n",
              "      <td>Size 7</td>\n",
              "    </tr>\n",
              "    <tr>\n",
              "      <th>1</th>\n",
              "      <td>1</td>\n",
              "      <td>25 pcs NEW 7.5\"x12\" Kraft Bubble Mailers</td>\n",
              "      <td>1</td>\n",
              "      <td>Other/Office supplies/Shipping Supplies</td>\n",
              "      <td>missing</td>\n",
              "      <td>1</td>\n",
              "      <td>25 pcs NEW 7.5\"x12\" Kraft Bubble Mailers Lined...</td>\n",
              "    </tr>\n",
              "    <tr>\n",
              "      <th>2</th>\n",
              "      <td>2</td>\n",
              "      <td>Coach bag</td>\n",
              "      <td>1</td>\n",
              "      <td>Vintage &amp; Collectibles/Bags and Purses/Handbag</td>\n",
              "      <td>Coach</td>\n",
              "      <td>1</td>\n",
              "      <td>Brand new coach bag. Bought for [rm] at a Coac...</td>\n",
              "    </tr>\n",
              "  </tbody>\n",
              "</table>\n",
              "</div>"
            ],
            "text/plain": [
              "   test_id  ...                                   item_description\n",
              "0        0  ...                                             Size 7\n",
              "1        1  ...  25 pcs NEW 7.5\"x12\" Kraft Bubble Mailers Lined...\n",
              "2        2  ...  Brand new coach bag. Bought for [rm] at a Coac...\n",
              "\n",
              "[3 rows x 7 columns]"
            ]
          },
          "metadata": {},
          "execution_count": 17
        }
      ]
    },
    {
      "cell_type": "markdown",
      "metadata": {
        "id": "xhOU6FUOeuM-"
      },
      "source": [
        "### Label Encoding of categorical data\n",
        "Label encode `category_name` and `brand_name` fields"
      ]
    },
    {
      "cell_type": "code",
      "metadata": {
        "id": "LSXuIqXZYCFV",
        "colab": {
          "base_uri": "https://localhost:8080/"
        },
        "outputId": "d3c366e4-2ff3-4adc-be86-4da9d1f36f34"
      },
      "source": [
        "# 4.4 Label Encode categorical values\n",
        "#     Two columns: category_name and brand_name\n",
        "\n",
        "# 4.4.1 Look at train/test category_name data. Each is 1D array:\n",
        "train.category_name.values.shape        # 1D (1482535,)\n",
        "test.category_name.values.shape         # 1D (693359,)"
      ],
      "execution_count": 18,
      "outputs": [
        {
          "output_type": "execute_result",
          "data": {
            "text/plain": [
              "(1482535,)"
            ]
          },
          "metadata": {},
          "execution_count": 18
        },
        {
          "output_type": "execute_result",
          "data": {
            "text/plain": [
              "(693359,)"
            ]
          },
          "metadata": {},
          "execution_count": 18
        }
      ]
    },
    {
      "cell_type": "code",
      "metadata": {
        "id": "vsU-WkHHHO9m"
      },
      "source": [
        "# 4.4.2 Merge 1D category_name data of train & test into one array:\n",
        "catname_array = np.hstack([train.category_name.values, test.category_name.values])\n",
        "\n",
        "\n",
        "# 4.4.3 Also merge brand_name data into one dimensional array\n",
        "brname_array = np.hstack([train.brand_name.values, test.brand_name.values])"
      ],
      "execution_count": 19,
      "outputs": []
    },
    {
      "cell_type": "code",
      "metadata": {
        "id": "hF1RrzcGHI-R",
        "colab": {
          "base_uri": "https://localhost:8080/"
        },
        "outputId": "ca42e37a-9ce3-445e-93bd-2a158accbb0f"
      },
      "source": [
        "# 4.4.4 So final shapes:\n",
        "catname_array.shape        # 1D array, (2175894,)\n",
        "brname_array.shape         # 1D array, (2175894,)\n",
        "\n",
        "# 4.4.5 And some values\n",
        "catname_array[:3]\n",
        "brname_array[:3]"
      ],
      "execution_count": 20,
      "outputs": [
        {
          "output_type": "execute_result",
          "data": {
            "text/plain": [
              "(2175894,)"
            ]
          },
          "metadata": {},
          "execution_count": 20
        },
        {
          "output_type": "execute_result",
          "data": {
            "text/plain": [
              "(2175894,)"
            ]
          },
          "metadata": {},
          "execution_count": 20
        },
        {
          "output_type": "execute_result",
          "data": {
            "text/plain": [
              "array(['Men/Tops/T-shirts',\n",
              "       'Electronics/Computers & Tablets/Components & Parts',\n",
              "       'Women/Tops & Blouses/Blouse'], dtype=object)"
            ]
          },
          "metadata": {},
          "execution_count": 20
        },
        {
          "output_type": "execute_result",
          "data": {
            "text/plain": [
              "array(['missing', 'Razer', 'Target'], dtype=object)"
            ]
          },
          "metadata": {},
          "execution_count": 20
        }
      ]
    },
    {
      "cell_type": "code",
      "metadata": {
        "_cell_guid": "204de9ca-7ea5-481b-9039-743bbab1084f",
        "_uuid": "cf9985161bcd94612b1359177e23124efd3410cb",
        "id": "SKvg6Q6cYCFV",
        "colab": {
          "base_uri": "https://localhost:8080/"
        },
        "outputId": "c3ff507d-0fc2-49c6-9e1f-7bb7f35c32ea"
      },
      "source": [
        "# 5.0 Label or integer encode each category and brand name\n",
        "\n",
        "# 5.1 Instantiate object for category name transformation\n",
        "le = LabelEncoder()\n",
        "\n",
        "# 5.2 Training first\n",
        "le.fit(catname_array)\n",
        "\n",
        "# 5.3 Next transformation\n",
        "train.category_name = le.transform(train.category_name.values)\n",
        "test.category_name = le.transform(test.category_name.values)"
      ],
      "execution_count": 21,
      "outputs": [
        {
          "output_type": "execute_result",
          "data": {
            "text/plain": [
              "LabelEncoder()"
            ]
          },
          "metadata": {},
          "execution_count": 21
        }
      ]
    },
    {
      "cell_type": "code",
      "metadata": {
        "id": "YRgZA5CKe1uY",
        "colab": {
          "base_uri": "https://localhost:8080/"
        },
        "outputId": "62a0ad28-48ef-467c-cedb-14d3907d5f03"
      },
      "source": [
        "# 5.4 Instantiate another object for brand name transformation\n",
        "le = LabelEncoder()\n",
        "\n",
        "# 5.5 fit and transform\n",
        "le.fit(brname_array)\n",
        "train.brand_name = le.transform(train.brand_name.values)\n",
        "test.brand_name = le.transform(test.brand_name.values)"
      ],
      "execution_count": 22,
      "outputs": [
        {
          "output_type": "execute_result",
          "data": {
            "text/plain": [
              "LabelEncoder()"
            ]
          },
          "metadata": {},
          "execution_count": 22
        }
      ]
    },
    {
      "cell_type": "code",
      "metadata": {
        "colab": {
          "base_uri": "https://localhost:8080/"
        },
        "id": "i1U1srBDQfQn",
        "outputId": "2e34bd22-7e94-4ff3-b744-b25b06b3f298"
      },
      "source": [
        "# 5.6 How label encoder works:\n",
        "#     Transforms alphabetically not by frequency\n",
        "#     Coding starts from 0\n",
        "a = ['zx', 'zx', 'az', 'bb', 'bb', 'bb']\n",
        "le1 = LabelEncoder()\n",
        "print(le1.fit_transform(a))\n",
        "\n",
        "# 5.6.1\n",
        "b = ['zx', 'zx','zx','zx', 'az', 'bb', 'bb', 'bb']\n",
        "le2 = LabelEncoder()\n",
        "print(le2.fit_transform(b))\n"
      ],
      "execution_count": 23,
      "outputs": [
        {
          "output_type": "stream",
          "name": "stdout",
          "text": [
            "[2 2 0 1 1 1]\n",
            "[2 2 2 2 0 1 1 1]\n"
          ]
        }
      ]
    },
    {
      "cell_type": "code",
      "metadata": {
        "id": "Lb0Nmz3le5B-",
        "colab": {
          "base_uri": "https://localhost:8080/"
        },
        "outputId": "c98517ec-8aed-4faf-b257-93016233ec71"
      },
      "source": [
        "# 5.7 Delete objects not needed\n",
        "print(np.max(catname_array),np.max(brname_array))\n",
        "del le, catname_array, brname_array\n",
        "gc.collect()"
      ],
      "execution_count": 24,
      "outputs": [
        {
          "output_type": "stream",
          "name": "stdout",
          "text": [
            "missing wallis\n"
          ]
        },
        {
          "output_type": "execute_result",
          "data": {
            "text/plain": [
              "309"
            ]
          },
          "metadata": {},
          "execution_count": 24
        }
      ]
    },
    {
      "cell_type": "code",
      "metadata": {
        "id": "D4afLQoDfFZl",
        "colab": {
          "base_uri": "https://localhost:8080/",
          "height": 262
        },
        "outputId": "7022843e-b2c3-4b02-862b-0ff4a6b9b8ea"
      },
      "source": [
        "# 5.8 Finally look at transformed data:\n",
        "\n",
        "train.head(3)\n",
        "test.head(3)"
      ],
      "execution_count": 25,
      "outputs": [
        {
          "output_type": "execute_result",
          "data": {
            "text/html": [
              "<div>\n",
              "<style scoped>\n",
              "    .dataframe tbody tr th:only-of-type {\n",
              "        vertical-align: middle;\n",
              "    }\n",
              "\n",
              "    .dataframe tbody tr th {\n",
              "        vertical-align: top;\n",
              "    }\n",
              "\n",
              "    .dataframe thead th {\n",
              "        text-align: right;\n",
              "    }\n",
              "</style>\n",
              "<table border=\"1\" class=\"dataframe\">\n",
              "  <thead>\n",
              "    <tr style=\"text-align: right;\">\n",
              "      <th></th>\n",
              "      <th>train_id</th>\n",
              "      <th>name</th>\n",
              "      <th>item_condition_id</th>\n",
              "      <th>category_name</th>\n",
              "      <th>brand_name</th>\n",
              "      <th>price</th>\n",
              "      <th>shipping</th>\n",
              "      <th>item_description</th>\n",
              "    </tr>\n",
              "  </thead>\n",
              "  <tbody>\n",
              "    <tr>\n",
              "      <th>0</th>\n",
              "      <td>0</td>\n",
              "      <td>MLB Cincinnati Reds T Shirt Size XL</td>\n",
              "      <td>3</td>\n",
              "      <td>829</td>\n",
              "      <td>5265</td>\n",
              "      <td>10.0</td>\n",
              "      <td>1</td>\n",
              "      <td>No description yet</td>\n",
              "    </tr>\n",
              "    <tr>\n",
              "      <th>1</th>\n",
              "      <td>1</td>\n",
              "      <td>Razer BlackWidow Chroma Keyboard</td>\n",
              "      <td>3</td>\n",
              "      <td>86</td>\n",
              "      <td>3889</td>\n",
              "      <td>52.0</td>\n",
              "      <td>0</td>\n",
              "      <td>This keyboard is in great condition and works ...</td>\n",
              "    </tr>\n",
              "    <tr>\n",
              "      <th>2</th>\n",
              "      <td>2</td>\n",
              "      <td>AVA-VIV Blouse</td>\n",
              "      <td>1</td>\n",
              "      <td>1277</td>\n",
              "      <td>4588</td>\n",
              "      <td>10.0</td>\n",
              "      <td>1</td>\n",
              "      <td>Adorable top with a hint of lace and a key hol...</td>\n",
              "    </tr>\n",
              "  </tbody>\n",
              "</table>\n",
              "</div>"
            ],
            "text/plain": [
              "   train_id  ...                                   item_description\n",
              "0         0  ...                                 No description yet\n",
              "1         1  ...  This keyboard is in great condition and works ...\n",
              "2         2  ...  Adorable top with a hint of lace and a key hol...\n",
              "\n",
              "[3 rows x 8 columns]"
            ]
          },
          "metadata": {},
          "execution_count": 25
        },
        {
          "output_type": "execute_result",
          "data": {
            "text/html": [
              "<div>\n",
              "<style scoped>\n",
              "    .dataframe tbody tr th:only-of-type {\n",
              "        vertical-align: middle;\n",
              "    }\n",
              "\n",
              "    .dataframe tbody tr th {\n",
              "        vertical-align: top;\n",
              "    }\n",
              "\n",
              "    .dataframe thead th {\n",
              "        text-align: right;\n",
              "    }\n",
              "</style>\n",
              "<table border=\"1\" class=\"dataframe\">\n",
              "  <thead>\n",
              "    <tr style=\"text-align: right;\">\n",
              "      <th></th>\n",
              "      <th>test_id</th>\n",
              "      <th>name</th>\n",
              "      <th>item_condition_id</th>\n",
              "      <th>category_name</th>\n",
              "      <th>brand_name</th>\n",
              "      <th>shipping</th>\n",
              "      <th>item_description</th>\n",
              "    </tr>\n",
              "  </thead>\n",
              "  <tbody>\n",
              "    <tr>\n",
              "      <th>0</th>\n",
              "      <td>0</td>\n",
              "      <td>Breast cancer \"I fight like a girl\" ring</td>\n",
              "      <td>1</td>\n",
              "      <td>1205</td>\n",
              "      <td>5265</td>\n",
              "      <td>1</td>\n",
              "      <td>Size 7</td>\n",
              "    </tr>\n",
              "    <tr>\n",
              "      <th>1</th>\n",
              "      <td>1</td>\n",
              "      <td>25 pcs NEW 7.5\"x12\" Kraft Bubble Mailers</td>\n",
              "      <td>1</td>\n",
              "      <td>899</td>\n",
              "      <td>5265</td>\n",
              "      <td>1</td>\n",
              "      <td>25 pcs NEW 7.5\"x12\" Kraft Bubble Mailers Lined...</td>\n",
              "    </tr>\n",
              "    <tr>\n",
              "      <th>2</th>\n",
              "      <td>2</td>\n",
              "      <td>Coach bag</td>\n",
              "      <td>1</td>\n",
              "      <td>1000</td>\n",
              "      <td>1094</td>\n",
              "      <td>1</td>\n",
              "      <td>Brand new coach bag. Bought for [rm] at a Coac...</td>\n",
              "    </tr>\n",
              "  </tbody>\n",
              "</table>\n",
              "</div>"
            ],
            "text/plain": [
              "   test_id  ...                                   item_description\n",
              "0        0  ...                                             Size 7\n",
              "1        1  ...  25 pcs NEW 7.5\"x12\" Kraft Bubble Mailers Lined...\n",
              "2        2  ...  Brand new coach bag. Bought for [rm] at a Coac...\n",
              "\n",
              "[3 rows x 7 columns]"
            ]
          },
          "metadata": {},
          "execution_count": 25
        }
      ]
    },
    {
      "cell_type": "markdown",
      "metadata": {
        "id": "aIdqXCClf3ne"
      },
      "source": [
        "### Transform text fields to integer sequences\n",
        "Takes time<br>\n",
        "Fields are `item_description` and `name`. <br>\n",
        "By default, `Tokenizer()` removes all punctuation, turning the texts into space-separated sequences of words (words maybe include the ' character). These sequences are then split into lists of tokens. They are then indexed.\n"
      ]
    },
    {
      "cell_type": "code",
      "metadata": {
        "id": "U-MPzSZ6YCFW"
      },
      "source": [
        "# 6. Vectorize into integers text data\n",
        "#    Two columns: item_description, name\n",
        "\n",
        "# 6.1 We assume that words in 'item_description' and 'name'\n",
        "#     columns are same or iterchangeable. This assumption\n",
        "#     is made for simplification. Thst is, T-shirt, if\n",
        "#     coded as 57 in item_decription' will also be coded \n",
        "#     as 57 in 'name' field.\n",
        "#     (Correct approach would have been to treat the two fields separately)\n",
        "\n",
        "# 6.2 Stack two columns, item_Description and name, as arrays, end-to-end in 1D array\n",
        "#     We could also have stacked here: test.item_description.values, test.name.values\n",
        "\n",
        "raw_text = np.hstack(\n",
        "                     [\n",
        "                       train.item_description.values,\n",
        "                       train.name.values,\n",
        "                       test.item_description.values,\n",
        "                       test.name.values\n",
        "                      ]\n",
        "                     )\n",
        "\n"
      ],
      "execution_count": 26,
      "outputs": []
    },
    {
      "cell_type": "code",
      "metadata": {
        "id": "7UXHq61YI0oQ",
        "colab": {
          "base_uri": "https://localhost:8080/"
        },
        "outputId": "893312ae-271a-440f-e90d-fa0db514f0fc"
      },
      "source": [
        "# 6.3 Train tokenizer\n",
        "#     https://www.tensorflow.org/api_docs/python/tf/keras/preprocessing/text/Tokenizer\n",
        "#     Tokenizer filters punctuation, tabs and line-breaks\n",
        "#\n",
        "%%time\n",
        "\n",
        "tok_raw = Tokenizer()           # Create Tokenizer() object\n",
        "tok_raw.fit_on_texts(raw_text)  # Just training. No transformation as yet\n"
      ],
      "execution_count": 27,
      "outputs": [
        {
          "output_type": "stream",
          "name": "stdout",
          "text": [
            "CPU times: user 1min 34s, sys: 440 ms, total: 1min 35s\n",
            "Wall time: 1min 35s\n"
          ]
        }
      ]
    },
    {
      "cell_type": "code",
      "metadata": {
        "id": "Rzf8nTLkYCFW",
        "colab": {
          "base_uri": "https://localhost:8080/"
        },
        "outputId": "396e503c-d285-4e88-aa13-f032a86243b8"
      },
      "source": [
        "# 7. Transform 'item_description' to integer sequences\n",
        "#    Our trained object tok_raw uses texts_to_sequences()\n",
        "#    for the purpose:\n",
        "\n",
        "# 7.1\n",
        "print(\"Transforming of text to int seq for column, 'seq_item_desc'\")\n",
        "print(\"Transform train first to int sequences...\")\n",
        "train[\"seq_item_description\"] = tok_raw.texts_to_sequences(train.item_description.values)\n",
        "print(\"-----\\n\")\n",
        "# 7.2\n",
        "print(\"Transform test, next, to int sequences...\")\n",
        "test[\"seq_item_description\"] = tok_raw.texts_to_sequences(test.item_description.values)\n",
        "print(\"-----\")"
      ],
      "execution_count": 28,
      "outputs": [
        {
          "output_type": "stream",
          "name": "stdout",
          "text": [
            "Transforming of text to int seq for column, 'seq_item_desc'\n",
            "Transform train first to int sequences...\n",
            "-----\n",
            "\n",
            "Transform test, next, to int sequences...\n",
            "-----\n"
          ]
        }
      ]
    },
    {
      "cell_type": "code",
      "metadata": {
        "id": "CTGV3l_b4HUC",
        "colab": {
          "base_uri": "https://localhost:8080/",
          "height": 140
        },
        "outputId": "ef6d6afa-1330-4175-b4cd-26c9182f8411"
      },
      "source": [
        "\n",
        "\n",
        "\n",
        "# 7.3 Check transformed data:\n",
        "\n",
        "train.head(3)"
      ],
      "execution_count": 29,
      "outputs": [
        {
          "output_type": "execute_result",
          "data": {
            "text/html": [
              "<div>\n",
              "<style scoped>\n",
              "    .dataframe tbody tr th:only-of-type {\n",
              "        vertical-align: middle;\n",
              "    }\n",
              "\n",
              "    .dataframe tbody tr th {\n",
              "        vertical-align: top;\n",
              "    }\n",
              "\n",
              "    .dataframe thead th {\n",
              "        text-align: right;\n",
              "    }\n",
              "</style>\n",
              "<table border=\"1\" class=\"dataframe\">\n",
              "  <thead>\n",
              "    <tr style=\"text-align: right;\">\n",
              "      <th></th>\n",
              "      <th>train_id</th>\n",
              "      <th>name</th>\n",
              "      <th>item_condition_id</th>\n",
              "      <th>category_name</th>\n",
              "      <th>brand_name</th>\n",
              "      <th>price</th>\n",
              "      <th>shipping</th>\n",
              "      <th>item_description</th>\n",
              "      <th>seq_item_description</th>\n",
              "    </tr>\n",
              "  </thead>\n",
              "  <tbody>\n",
              "    <tr>\n",
              "      <th>0</th>\n",
              "      <td>0</td>\n",
              "      <td>MLB Cincinnati Reds T Shirt Size XL</td>\n",
              "      <td>3</td>\n",
              "      <td>829</td>\n",
              "      <td>5265</td>\n",
              "      <td>10.0</td>\n",
              "      <td>1</td>\n",
              "      <td>No description yet</td>\n",
              "      <td>[12, 68, 79]</td>\n",
              "    </tr>\n",
              "    <tr>\n",
              "      <th>1</th>\n",
              "      <td>1</td>\n",
              "      <td>Razer BlackWidow Chroma Keyboard</td>\n",
              "      <td>3</td>\n",
              "      <td>86</td>\n",
              "      <td>3889</td>\n",
              "      <td>52.0</td>\n",
              "      <td>0</td>\n",
              "      <td>This keyboard is in great condition and works ...</td>\n",
              "      <td>[29, 2667, 10, 7, 38, 17, 1, 206, 51, 19, 1098...</td>\n",
              "    </tr>\n",
              "    <tr>\n",
              "      <th>2</th>\n",
              "      <td>2</td>\n",
              "      <td>AVA-VIV Blouse</td>\n",
              "      <td>1</td>\n",
              "      <td>1277</td>\n",
              "      <td>4588</td>\n",
              "      <td>10.0</td>\n",
              "      <td>1</td>\n",
              "      <td>Adorable top with a hint of lace and a key hol...</td>\n",
              "      <td>[596, 60, 9, 4, 5354, 11, 192, 1, 4, 900, 1298...</td>\n",
              "    </tr>\n",
              "  </tbody>\n",
              "</table>\n",
              "</div>"
            ],
            "text/plain": [
              "   train_id  ...                               seq_item_description\n",
              "0         0  ...                                       [12, 68, 79]\n",
              "1         1  ...  [29, 2667, 10, 7, 38, 17, 1, 206, 51, 19, 1098...\n",
              "2         2  ...  [596, 60, 9, 4, 5354, 11, 192, 1, 4, 900, 1298...\n",
              "\n",
              "[3 rows x 9 columns]"
            ]
          },
          "metadata": {},
          "execution_count": 29
        }
      ]
    },
    {
      "cell_type": "code",
      "metadata": {
        "_cell_guid": "b122ac7a-c203-463f-aa92-b843b039fce3",
        "_uuid": "ff62bf6d3681b84510026bfa3514963513f2e8f2",
        "id": "lQtKODLBYCFX",
        "colab": {
          "base_uri": "https://localhost:8080/"
        },
        "outputId": "cfbdec9a-a529-49f2-8038-a6a69cd57d94"
      },
      "source": [
        "# 8.0 Similarly transform 'name' to integer sequences\n",
        "\n",
        "# 8.1\n",
        "print(\"Transforming of text to integer seq...for column, 'name'\")\n",
        "print(\"Transform train first..\")\n",
        "train[\"seq_name\"] = tok_raw.texts_to_sequences(train.name.values)\n",
        "print(\"-----\\n\")\n",
        "\n",
        "# 8.2\n",
        "print(\"Transform test next to integer seq..\")\n",
        "test[\"seq_name\"] = tok_raw.texts_to_sequences(test.name.values)\n",
        "print(\"Done... print Ist few rows. Check new columns seq_name\")"
      ],
      "execution_count": 30,
      "outputs": [
        {
          "output_type": "stream",
          "name": "stdout",
          "text": [
            "Transforming of text to integer seq...for column, 'name'\n",
            "Transform train first..\n",
            "-----\n",
            "\n",
            "Transform test next to integer seq..\n",
            "Done... print Ist few rows. Check new columns seq_name\n"
          ]
        }
      ]
    },
    {
      "cell_type": "code",
      "metadata": {
        "id": "k4xwUSGG4plt",
        "colab": {
          "base_uri": "https://localhost:8080/",
          "height": 189
        },
        "outputId": "be299321-97be-4f38-ff4e-637e7bed8553"
      },
      "source": [
        "# 8.3 Look at data again:\n",
        "\n",
        "train.head(3)"
      ],
      "execution_count": 31,
      "outputs": [
        {
          "output_type": "execute_result",
          "data": {
            "text/html": [
              "<div>\n",
              "<style scoped>\n",
              "    .dataframe tbody tr th:only-of-type {\n",
              "        vertical-align: middle;\n",
              "    }\n",
              "\n",
              "    .dataframe tbody tr th {\n",
              "        vertical-align: top;\n",
              "    }\n",
              "\n",
              "    .dataframe thead th {\n",
              "        text-align: right;\n",
              "    }\n",
              "</style>\n",
              "<table border=\"1\" class=\"dataframe\">\n",
              "  <thead>\n",
              "    <tr style=\"text-align: right;\">\n",
              "      <th></th>\n",
              "      <th>train_id</th>\n",
              "      <th>name</th>\n",
              "      <th>item_condition_id</th>\n",
              "      <th>category_name</th>\n",
              "      <th>brand_name</th>\n",
              "      <th>price</th>\n",
              "      <th>shipping</th>\n",
              "      <th>item_description</th>\n",
              "      <th>seq_item_description</th>\n",
              "      <th>seq_name</th>\n",
              "    </tr>\n",
              "  </thead>\n",
              "  <tbody>\n",
              "    <tr>\n",
              "      <th>0</th>\n",
              "      <td>0</td>\n",
              "      <td>MLB Cincinnati Reds T Shirt Size XL</td>\n",
              "      <td>3</td>\n",
              "      <td>829</td>\n",
              "      <td>5265</td>\n",
              "      <td>10.0</td>\n",
              "      <td>1</td>\n",
              "      <td>No description yet</td>\n",
              "      <td>[12, 68, 79]</td>\n",
              "      <td>[3878, 8988, 6978, 208, 84, 6, 155]</td>\n",
              "    </tr>\n",
              "    <tr>\n",
              "      <th>1</th>\n",
              "      <td>1</td>\n",
              "      <td>Razer BlackWidow Chroma Keyboard</td>\n",
              "      <td>3</td>\n",
              "      <td>86</td>\n",
              "      <td>3889</td>\n",
              "      <td>52.0</td>\n",
              "      <td>0</td>\n",
              "      <td>This keyboard is in great condition and works ...</td>\n",
              "      <td>[29, 2667, 10, 7, 38, 17, 1, 206, 51, 19, 1098...</td>\n",
              "      <td>[11404, 27915, 17355, 2667]</td>\n",
              "    </tr>\n",
              "    <tr>\n",
              "      <th>2</th>\n",
              "      <td>2</td>\n",
              "      <td>AVA-VIV Blouse</td>\n",
              "      <td>1</td>\n",
              "      <td>1277</td>\n",
              "      <td>4588</td>\n",
              "      <td>10.0</td>\n",
              "      <td>1</td>\n",
              "      <td>Adorable top with a hint of lace and a key hol...</td>\n",
              "      <td>[596, 60, 9, 4, 5354, 11, 192, 1, 4, 900, 1298...</td>\n",
              "      <td>[7812, 10862, 666]</td>\n",
              "    </tr>\n",
              "  </tbody>\n",
              "</table>\n",
              "</div>"
            ],
            "text/plain": [
              "   train_id  ...                             seq_name\n",
              "0         0  ...  [3878, 8988, 6978, 208, 84, 6, 155]\n",
              "1         1  ...          [11404, 27915, 17355, 2667]\n",
              "2         2  ...                   [7812, 10862, 666]\n",
              "\n",
              "[3 rows x 10 columns]"
            ]
          },
          "metadata": {},
          "execution_count": 31
        }
      ]
    },
    {
      "cell_type": "markdown",
      "metadata": {
        "id": "_Plkuyym9eWo"
      },
      "source": [
        "#### **Problem**: In a pandas series of Integer sequences, find the highest integer. Simple: max of max:\n",
        "seq_name<br>\n",
        "[4,5,6]<br>\n",
        "[10,34,1]<br>\n",
        "[1,12,1]<br>\n",
        "Answer: 34<br>"
      ]
    },
    {
      "cell_type": "code",
      "metadata": {
        "id": "ZYmxwEggYCFY",
        "colab": {
          "base_uri": "https://localhost:8080/"
        },
        "outputId": "fb90036d-0ba4-423b-8d83-c1a2df916a4c"
      },
      "source": [
        "# 8.4 Here are data samples of transformed columns\n",
        "train.seq_name[:10]\n",
        "\n",
        "# 8.4.1 See below how max() behaves:\n",
        "#       It prints that sequence which has the\n",
        "#       maximum value:\n",
        "print(\"\\n\\n---Seq having largest integer---\\n\")\n",
        "print(train.seq_name[:10].max())\n",
        "\n",
        "# 8.4.2 In that particular sequence,\n",
        "#       fimd the maximum value:\n",
        "print(\"\\n--Highest ----\\n\")\n",
        "print(np.max(train.seq_name[:10].max()))\n"
      ],
      "execution_count": 32,
      "outputs": [
        {
          "output_type": "execute_result",
          "data": {
            "text/plain": [
              "0    [3878, 8988, 6978, 208, 84, 6, 155]\n",
              "1            [11404, 27915, 17355, 2667]\n",
              "2                     [7812, 10862, 666]\n",
              "3                     [178, 2603, 14009]\n",
              "4                 [4962, 103, 1032, 280]\n",
              "5              [912, 85, 3582, 3, 93914]\n",
              "6         [4845, 4896, 21493, 21865, 60]\n",
              "7      [264, 3696, 1, 26513, 27, 11, 64]\n",
              "8                    [264, 89, 501, 129]\n",
              "9    [4051, 8980, 595, 11977, 181, 4806]\n",
              "Name: seq_name, dtype: object"
            ]
          },
          "metadata": {},
          "execution_count": 32
        },
        {
          "output_type": "stream",
          "name": "stdout",
          "text": [
            "\n",
            "\n",
            "---Seq having largest integer---\n",
            "\n",
            "[11404, 27915, 17355, 2667]\n",
            "\n",
            "--Highest ----\n",
            "\n",
            "27915\n"
          ]
        }
      ]
    },
    {
      "cell_type": "code",
      "metadata": {
        "id": "lXq8b3nkYCFY",
        "colab": {
          "base_uri": "https://localhost:8080/"
        },
        "outputId": "553989af-69e5-473f-ae67-2ea77894f7b0"
      },
      "source": [
        "# 8.5 Here are data samples of seq_item_desc\n",
        "train.seq_item_description[:10]\n",
        "\n",
        "# 8.5.1 See below how max behaves:\n",
        "print(\"\\n\\n---Seq having largest integer---\\n\")\n",
        "print(train.seq_item_description[:10].max())\n"
      ],
      "execution_count": 33,
      "outputs": [
        {
          "output_type": "execute_result",
          "data": {
            "text/plain": [
              "0                                         [12, 68, 79]\n",
              "1    [29, 2667, 10, 7, 38, 17, 1, 206, 51, 19, 1098...\n",
              "2    [596, 60, 9, 4, 5354, 11, 192, 1, 4, 900, 1298...\n",
              "3    [5, 9, 61, 178, 6618, 229, 3, 21, 166, 1087, 2...\n",
              "4                             [801, 9, 7025, 11, 2013]\n",
              "5    [1320, 1722, 624, 5133, 327, 9, 778, 1967, 636...\n",
              "6    [6, 44, 39, 468, 752, 15282, 8, 99, 179, 2829,...\n",
              "7    [18, 145, 502, 351, 11, 9123, 3696, 129, 6, 44...\n",
              "8                [264, 6, 44, 119, 148, 502, 129, 505]\n",
              "9    [15, 3545, 1742, 181, 26, 14, 11440, 286, 2, 2...\n",
              "Name: seq_item_description, dtype: object"
            ]
          },
          "metadata": {},
          "execution_count": 33
        },
        {
          "output_type": "stream",
          "name": "stdout",
          "text": [
            "\n",
            "\n",
            "---Seq having largest integer---\n",
            "\n",
            "[1320, 1722, 624, 5133, 327, 9, 778, 1967, 6364, 54729, 625, 2357, 624, 1, 2889, 60]\n"
          ]
        }
      ]
    },
    {
      "cell_type": "markdown",
      "metadata": {
        "id": "pCKwkI6qNkcO"
      },
      "source": [
        "#### Get max integer values now\n",
        "This will give us an idea of vocabulary"
      ]
    },
    {
      "cell_type": "code",
      "metadata": {
        "id": "-to2bCunLJls",
        "colab": {
          "base_uri": "https://localhost:8080/"
        },
        "outputId": "5b31823e-23fa-4ad1-a080-72026177a613"
      },
      "source": [
        "# 9.0  Vocabulary sizes of all text-sequences and all label-encoded\n",
        "#      caregories\n",
        "#      This would be max integer value used in any column.\n",
        "#      Because conversion to integer sequence starts from 1 \n",
        "\n",
        "\n",
        "# 9.1 Columns seq_name and seq_item_description\n",
        "MAX_TEXT_VOC = np.max([train.explode('seq_name')['seq_name'].max(),\n",
        "                       test.explode('seq_name')['seq_name'].max(),\n",
        "                       train.explode('seq_item_description')['seq_item_description'].max(),\n",
        "                       test.explode('seq_item_description')['seq_item_description'].max(),\n",
        "                      ]\n",
        "                     ) + 2\n",
        "\n",
        "print(f\"Maximum Vocabulary size in seq_name is {MAX_TEXT_VOC}\")\n"
      ],
      "execution_count": 34,
      "outputs": [
        {
          "output_type": "stream",
          "name": "stdout",
          "text": [
            "Maximum Vocabulary size in seq_name is 322001\n"
          ]
        }
      ]
    },
    {
      "cell_type": "code",
      "metadata": {
        "id": "Kv-StLqmNJVI",
        "colab": {
          "base_uri": "https://localhost:8080/"
        },
        "outputId": "33d80822-db73-4764-9a5b-741bc6933b55"
      },
      "source": [
        "\n",
        "# 9.2 Column category_name (transformed by label encoder)\n",
        "MAX_CATEGORY_VOC = np.max(\n",
        "                           [\n",
        "                             train.category_name.max(),\n",
        "                             test.category_name.max()\n",
        "                           ]\n",
        "                          ) + 1\n",
        "\n",
        "\n",
        "print(f\"Maximum Vocabulary size in category_name is {MAX_CATEGORY_VOC}\")"
      ],
      "execution_count": 35,
      "outputs": [
        {
          "output_type": "stream",
          "name": "stdout",
          "text": [
            "Maximum Vocabulary size in category_name is 1311\n"
          ]
        }
      ]
    },
    {
      "cell_type": "code",
      "metadata": {
        "id": "VSvIEnstNCUj",
        "colab": {
          "base_uri": "https://localhost:8080/"
        },
        "outputId": "301ea7b8-a8c4-4ed1-a33d-a21efefef2d8"
      },
      "source": [
        "# 9.3 Column brand_name (transformed by label encoder)\n",
        "MAX_BRAND_VOC =   np.max([\n",
        "                           train.brand_name.max(),\n",
        "                           test.brand_name.max()\n",
        "                         ]\n",
        "                        ) + 1\n",
        "\n",
        "print(f\"Maximum Vocabulary size in brand_name is {MAX_BRAND_VOC}\")\n"
      ],
      "execution_count": 36,
      "outputs": [
        {
          "output_type": "stream",
          "name": "stdout",
          "text": [
            "Maximum Vocabulary size in brand_name is 5290\n"
          ]
        }
      ]
    },
    {
      "cell_type": "code",
      "metadata": {
        "id": "bH1QMl7-NQow",
        "colab": {
          "base_uri": "https://localhost:8080/"
        },
        "outputId": "9a2ba50c-2bda-4794-8b05-0d3659ad601e"
      },
      "source": [
        "\n",
        "# 9.4 Column, item_condition, already in integer format\n",
        "MAX_CONDITION_VOC = np.max([\n",
        "                            train.item_condition_id.max(),\n",
        "                            test.item_condition_id.max()\n",
        "                           ]\n",
        "                          ) + 1\n",
        "\n",
        "print(f\"Maximum Vocabulary size in item_condition_id is {MAX_CONDITION_VOC} \")"
      ],
      "execution_count": 37,
      "outputs": [
        {
          "output_type": "stream",
          "name": "stdout",
          "text": [
            "Maximum Vocabulary size in item_condition_id is 6 \n"
          ]
        }
      ]
    },
    {
      "cell_type": "markdown",
      "metadata": {
        "id": "hNYXzSS8r5nB"
      },
      "source": [
        "### **Problem:** Find length of int sequence having max length\n",
        "In both the fields `seq_item_description` and in `seq_name` find the max length of sequences."
      ]
    },
    {
      "cell_type": "code",
      "metadata": {
        "id": "RCarCk8iYCFZ",
        "colab": {
          "base_uri": "https://localhost:8080/",
          "height": 267
        },
        "outputId": "7bd0a663-f23d-447f-86e7-77b9b4f21e71"
      },
      "source": [
        "# 10.0 Behaviour of method: Series.max()\n",
        "#     Create a sample one-column dataframe:\n",
        "\n",
        "t = pd.DataFrame({'a' : [[2,2],[2,3],[3,5,2], [4,0],[3,10,1,1]]})\n",
        "t\n",
        "\n",
        "# Returns that row which has first value as maximum\n",
        "#  When for two cases, 1st values are equal then IInd value is seen\n",
        "#print(t.a.max())\n",
        "print(\"\\n\")\n",
        "print(t.explode('a').max())"
      ],
      "execution_count": 38,
      "outputs": [
        {
          "output_type": "execute_result",
          "data": {
            "text/html": [
              "<div>\n",
              "<style scoped>\n",
              "    .dataframe tbody tr th:only-of-type {\n",
              "        vertical-align: middle;\n",
              "    }\n",
              "\n",
              "    .dataframe tbody tr th {\n",
              "        vertical-align: top;\n",
              "    }\n",
              "\n",
              "    .dataframe thead th {\n",
              "        text-align: right;\n",
              "    }\n",
              "</style>\n",
              "<table border=\"1\" class=\"dataframe\">\n",
              "  <thead>\n",
              "    <tr style=\"text-align: right;\">\n",
              "      <th></th>\n",
              "      <th>a</th>\n",
              "    </tr>\n",
              "  </thead>\n",
              "  <tbody>\n",
              "    <tr>\n",
              "      <th>0</th>\n",
              "      <td>[2, 2]</td>\n",
              "    </tr>\n",
              "    <tr>\n",
              "      <th>1</th>\n",
              "      <td>[2, 3]</td>\n",
              "    </tr>\n",
              "    <tr>\n",
              "      <th>2</th>\n",
              "      <td>[3, 5, 2]</td>\n",
              "    </tr>\n",
              "    <tr>\n",
              "      <th>3</th>\n",
              "      <td>[4, 0]</td>\n",
              "    </tr>\n",
              "    <tr>\n",
              "      <th>4</th>\n",
              "      <td>[3, 10, 1, 1]</td>\n",
              "    </tr>\n",
              "  </tbody>\n",
              "</table>\n",
              "</div>"
            ],
            "text/plain": [
              "               a\n",
              "0         [2, 2]\n",
              "1         [2, 3]\n",
              "2      [3, 5, 2]\n",
              "3         [4, 0]\n",
              "4  [3, 10, 1, 1]"
            ]
          },
          "metadata": {},
          "execution_count": 38
        },
        {
          "output_type": "stream",
          "name": "stdout",
          "text": [
            "\n",
            "\n",
            "a    10.0\n",
            "dtype: float64\n"
          ]
        }
      ]
    },
    {
      "cell_type": "code",
      "metadata": {
        "id": "tdhNTsRAqzHb",
        "colab": {
          "base_uri": "https://localhost:8080/",
          "height": 332
        },
        "outputId": "08011e13-21a5-43fd-e8e6-f49c653d72aa"
      },
      "source": [
        "# 10.1 Create another sample of one-column dataframe\n",
        "#      but with different sequence lengths:\n",
        "\n",
        "t = pd.DataFrame({'a' : [[2,2,3],[2,3,4,5],[3,5], [4,0,1,2,3,4],[3,10]]})\n",
        "t\n",
        "# 10.2 Returns that row which has maximum length\n",
        "\n",
        "t.a.apply(lambda x: len(x))\n",
        "\n",
        "print(\"\\n=====\")\n",
        "\n",
        "print(np.max(t.a.apply(lambda x: len(x))))\n"
      ],
      "execution_count": 39,
      "outputs": [
        {
          "output_type": "execute_result",
          "data": {
            "text/html": [
              "<div>\n",
              "<style scoped>\n",
              "    .dataframe tbody tr th:only-of-type {\n",
              "        vertical-align: middle;\n",
              "    }\n",
              "\n",
              "    .dataframe tbody tr th {\n",
              "        vertical-align: top;\n",
              "    }\n",
              "\n",
              "    .dataframe thead th {\n",
              "        text-align: right;\n",
              "    }\n",
              "</style>\n",
              "<table border=\"1\" class=\"dataframe\">\n",
              "  <thead>\n",
              "    <tr style=\"text-align: right;\">\n",
              "      <th></th>\n",
              "      <th>a</th>\n",
              "    </tr>\n",
              "  </thead>\n",
              "  <tbody>\n",
              "    <tr>\n",
              "      <th>0</th>\n",
              "      <td>[2, 2, 3]</td>\n",
              "    </tr>\n",
              "    <tr>\n",
              "      <th>1</th>\n",
              "      <td>[2, 3, 4, 5]</td>\n",
              "    </tr>\n",
              "    <tr>\n",
              "      <th>2</th>\n",
              "      <td>[3, 5]</td>\n",
              "    </tr>\n",
              "    <tr>\n",
              "      <th>3</th>\n",
              "      <td>[4, 0, 1, 2, 3, 4]</td>\n",
              "    </tr>\n",
              "    <tr>\n",
              "      <th>4</th>\n",
              "      <td>[3, 10]</td>\n",
              "    </tr>\n",
              "  </tbody>\n",
              "</table>\n",
              "</div>"
            ],
            "text/plain": [
              "                    a\n",
              "0           [2, 2, 3]\n",
              "1        [2, 3, 4, 5]\n",
              "2              [3, 5]\n",
              "3  [4, 0, 1, 2, 3, 4]\n",
              "4             [3, 10]"
            ]
          },
          "metadata": {},
          "execution_count": 39
        },
        {
          "output_type": "execute_result",
          "data": {
            "text/plain": [
              "0    3\n",
              "1    4\n",
              "2    2\n",
              "3    6\n",
              "4    2\n",
              "Name: a, dtype: int64"
            ]
          },
          "metadata": {},
          "execution_count": 39
        },
        {
          "output_type": "stream",
          "name": "stdout",
          "text": [
            "\n",
            "=====\n",
            "6\n"
          ]
        }
      ]
    },
    {
      "cell_type": "code",
      "metadata": {
        "_cell_guid": "9da5165e-0692-4c1a-a5e7-3fb1c6c1a4fd",
        "_uuid": "335a3d95444a2602598aebbfa6de0a8a3f5a1814",
        "id": "nRfgmH0gYCFZ",
        "colab": {
          "base_uri": "https://localhost:8080/"
        },
        "outputId": "47fb8c69-3460-4c74-9bd5-26ddc6b8b62c"
      },
      "source": [
        "# 11   Analysing sequence lengths of two columns\n",
        "#     Two columns: item_description, name\n",
        "\n",
        "# 11.1 Get maximum length integer sequences in column, seq_name\n",
        "max_name_seq = np.max([\n",
        "                       np.max(train.seq_name.apply(lambda x: len(x))),\n",
        "                       np.max(test.seq_name.apply(lambda x: len(x)))\n",
        "                       ]\n",
        "                      )\n",
        "\n",
        "# 11.2 Get maximum length of integer sequences in column, seq_item_description\n",
        "max_seq_item_description = np.max([\n",
        "                                   np.max(train.seq_item_description.apply(lambda x: len(x))),\n",
        "                                   np.max(test.seq_item_description.apply(lambda x: len(x)))\n",
        "                                   ]\n",
        "                                  )\n",
        "\n",
        "# 11.2.1\n",
        "print(f\"max name seq length: {max_name_seq}\")\n",
        "print(f\"max item desc seq length: {max_seq_item_description}\")"
      ],
      "execution_count": 40,
      "outputs": [
        {
          "output_type": "stream",
          "name": "stdout",
          "text": [
            "max name seq length: 17\n",
            "max item desc seq length: 269\n"
          ]
        }
      ]
    },
    {
      "cell_type": "markdown",
      "metadata": {
        "id": "IIufJVi4ODLI"
      },
      "source": [
        "#### Histogram to look at distributions\n",
        "Look at distribution of lengths of integer sequences"
      ]
    },
    {
      "cell_type": "code",
      "metadata": {
        "_cell_guid": "3e87bf13-093e-42a3-bef9-ed10322944df",
        "_uuid": "32ffa5a96deaeb6214469a2594475f7b5a15bc92",
        "colab": {
          "base_uri": "https://localhost:8080/",
          "height": 281
        },
        "id": "V4eAYbFYYCFZ",
        "outputId": "97df2356-dc2e-4802-ae42-99aa58b74c1f"
      },
      "source": [
        "# 11.3 Get histogram of distribution of seq_name lengths\n",
        "#      Histogram can be used to decide where to cut-off max lengths\n",
        "\n",
        "train.seq_name.apply(lambda x: len(x)).hist()"
      ],
      "execution_count": 41,
      "outputs": [
        {
          "output_type": "execute_result",
          "data": {
            "text/plain": [
              "<matplotlib.axes._subplots.AxesSubplot at 0x7f8c744ad4d0>"
            ]
          },
          "metadata": {},
          "execution_count": 41
        },
        {
          "output_type": "display_data",
          "data": {
            "image/png": "[encoded data removed]",
            "text/plain": [
              "<Figure size 432x288 with 1 Axes>"
            ]
          },
          "metadata": {
            "needs_background": "light"
          }
        }
      ]
    },
    {
      "cell_type": "code",
      "metadata": {
        "_cell_guid": "09349ced-fcac-4406-8876-a00fc269218d",
        "_uuid": "bdfde374cbe6f2edc9c453f91ef90c757c8d8f06",
        "id": "-HuPx7UfYCFa",
        "colab": {
          "base_uri": "https://localhost:8080/",
          "height": 292
        },
        "outputId": "c30641f1-a04a-4a55-f0f0-09d895459cc5"
      },
      "source": [
        "# 11.4 Get histogram of distribution of seq_item_description \n",
        "#      Histogram can be used to decide where to cut-off max lengths\n",
        "\n",
        "train.seq_item_description.apply(lambda x: len(x)).hist()"
      ],
      "execution_count": 42,
      "outputs": [
        {
          "output_type": "execute_result",
          "data": {
            "text/plain": [
              "<matplotlib.axes._subplots.AxesSubplot at 0x7f8c743cf250>"
            ]
          },
          "metadata": {},
          "execution_count": 42
        },
        {
          "output_type": "display_data",
          "data": {
            "image/png": "[encoded data removed]",
            "text/plain": [
              "<Figure size 432x288 with 1 Axes>"
            ]
          },
          "metadata": {
            "needs_background": "light"
          }
        }
      ]
    },
    {
      "cell_type": "code",
      "metadata": {
        "id": "174hEIxlMpML"
      },
      "source": [
        "# 12 EMBEDDINGS MAX VALUES\n",
        "# 12.1 Based on the histograms, we select the max lengths\n",
        "#      OR timesteps in RNN for two integer sequences, as:\n",
        "#      Implication: Longer integer sequences will be truncated\n",
        "\n",
        "MAX_NAME_SEQ = 10\n",
        "MAX_ITEM_DESC_SEQ = 75"
      ],
      "execution_count": 43,
      "outputs": []
    },
    {
      "cell_type": "markdown",
      "metadata": {
        "id": "yoEc_4bfCSyp"
      },
      "source": [
        "## Numeric fields\n",
        "Scale numeric field and create a random numeric field"
      ]
    },
    {
      "cell_type": "markdown",
      "metadata": {
        "id": "bXbgobYqCmRo"
      },
      "source": [
        "### Scale 'price' field\n",
        ">Take a log of 'price' to make it symmetrical  \n",
        ">Scale the logged values using minmax scaler  \n",
        ">Scaled price field is called 'target'"
      ]
    },
    {
      "cell_type": "code",
      "metadata": {
        "colab": {
          "base_uri": "https://localhost:8080/",
          "height": 292
        },
        "id": "qnkn4-nTecwS",
        "outputId": "868547fc-bb15-4567-dd75-6c4e85fa4328"
      },
      "source": [
        "train.price.hist(bins=20)"
      ],
      "execution_count": 44,
      "outputs": [
        {
          "output_type": "execute_result",
          "data": {
            "text/plain": [
              "<matplotlib.axes._subplots.AxesSubplot at 0x7f8c73e6b190>"
            ]
          },
          "metadata": {},
          "execution_count": 44
        },
        {
          "output_type": "display_data",
          "data": {
            "image/png": "[encoded data removed]",
            "text/plain": [
              "<Figure size 432x288 with 1 Axes>"
            ]
          },
          "metadata": {
            "needs_background": "light"
          }
        }
      ]
    },
    {
      "cell_type": "code",
      "metadata": {
        "id": "_lSMCzsAbg3i"
      },
      "source": [
        "# 13 Scale target variable, 'price': \n",
        "#     First take log and then scale log\n",
        "\n",
        "# 13.1 First take a log of target. Why?\n",
        "#      Make target values symmetric:\n",
        "\n",
        "train[\"target\"] = np.log( train.price + 1)   # Add 1 to escape from -ve infinity\n"
      ],
      "execution_count": 45,
      "outputs": []
    },
    {
      "cell_type": "code",
      "metadata": {
        "id": "akyAWz9tbmbe"
      },
      "source": [
        "# 13.2 Then scale log values using min-max scaler between -1 and 1\n",
        "#      Why?\n",
        "#      Scaling between (-1,1) is helpful in NN modeling\n",
        "target_scaler = MinMaxScaler(feature_range=(-1, 1))\n",
        "train[\"target\"] = target_scaler.fit_transform(train.target.values.reshape(-1,1))\n"
      ],
      "execution_count": 46,
      "outputs": []
    },
    {
      "cell_type": "code",
      "metadata": {
        "_cell_guid": "cb88f6b3-44ab-4ab4-831a-6a3ebdd0e10d",
        "_uuid": "53474065f08e5d469e4a65bd272c0b316ae26b1e",
        "colab": {
          "base_uri": "https://localhost:8080/",
          "height": 314
        },
        "id": "C0riZbOeYCFb",
        "outputId": "0c1a877c-58eb-4f87-cd29-848259c02bcb"
      },
      "source": [
        "# 13.3 Display histogram of transformed target\n",
        "#      It is quite symmetric\n",
        "pd.DataFrame(train.target).hist()"
      ],
      "execution_count": 47,
      "outputs": [
        {
          "output_type": "execute_result",
          "data": {
            "text/plain": [
              "array([[<matplotlib.axes._subplots.AxesSubplot object at 0x7f8c73dae590>]],\n",
              "      dtype=object)"
            ]
          },
          "metadata": {},
          "execution_count": 47
        },
        {
          "output_type": "display_data",
          "data": {
            "image/png": "[encoded data removed]",
            "text/plain": [
              "<Figure size 432x288 with 1 Axes>"
            ]
          },
          "metadata": {
            "needs_background": "light"
          }
        }
      ]
    },
    {
      "cell_type": "markdown",
      "metadata": {
        "id": "0d9YVqTvB04a"
      },
      "source": [
        "### Create one more num column\n",
        "This column will have random number values. The only numeric feature that we have is `'shipping'`. We will create one more  numerical column with random values for better demonstration of our proposed architecture. Otherwise, this column is NOT at all needed.\n"
      ]
    },
    {
      "cell_type": "code",
      "metadata": {
        "id": "Zy_yUOmxYCFb",
        "colab": {
          "base_uri": "https://localhost:8080/",
          "height": 205
        },
        "outputId": "c8f583ec-0c44-4539-fd45-0044999ae989"
      },
      "source": [
        "# 13.4 Create an arbitrary column. Why?\n",
        "#      We want two numerical columns for better demonstration of our\n",
        "#      proposed architecture. Otherwise, this column is NOT at all needed\n",
        "\n",
        "# 13.5 Add some small random values to shipping column and create a new column\n",
        "train['ship_rand'] = train.shipping + np.random.random(size = train.shipping[0])\n",
        "train.head(3)\n",
        "\n",
        "# 13.6\n",
        "test['ship_rand'] = test.shipping + np.random.random(size = test.shipping[0])\n",
        "#test.head(3)\n",
        "\n",
        "# 13.7\n",
        "train.shape    # (1482535, 12)\n",
        "test.shape     # (693359, 10)   Missing 'price' and its transformed column 'target'\n"
      ],
      "execution_count": 48,
      "outputs": [
        {
          "output_type": "execute_result",
          "data": {
            "text/html": [
              "<div>\n",
              "<style scoped>\n",
              "    .dataframe tbody tr th:only-of-type {\n",
              "        vertical-align: middle;\n",
              "    }\n",
              "\n",
              "    .dataframe tbody tr th {\n",
              "        vertical-align: top;\n",
              "    }\n",
              "\n",
              "    .dataframe thead th {\n",
              "        text-align: right;\n",
              "    }\n",
              "</style>\n",
              "<table border=\"1\" class=\"dataframe\">\n",
              "  <thead>\n",
              "    <tr style=\"text-align: right;\">\n",
              "      <th></th>\n",
              "      <th>train_id</th>\n",
              "      <th>name</th>\n",
              "      <th>item_condition_id</th>\n",
              "      <th>category_name</th>\n",
              "      <th>brand_name</th>\n",
              "      <th>price</th>\n",
              "      <th>shipping</th>\n",
              "      <th>item_description</th>\n",
              "      <th>seq_item_description</th>\n",
              "      <th>seq_name</th>\n",
              "      <th>target</th>\n",
              "      <th>ship_rand</th>\n",
              "    </tr>\n",
              "  </thead>\n",
              "  <tbody>\n",
              "    <tr>\n",
              "      <th>0</th>\n",
              "      <td>0</td>\n",
              "      <td>MLB Cincinnati Reds T Shirt Size XL</td>\n",
              "      <td>3</td>\n",
              "      <td>829</td>\n",
              "      <td>5265</td>\n",
              "      <td>10.0</td>\n",
              "      <td>1</td>\n",
              "      <td>No description yet</td>\n",
              "      <td>[12, 68, 79]</td>\n",
              "      <td>[3878, 8988, 6978, 208, 84, 6, 155]</td>\n",
              "      <td>-0.369464</td>\n",
              "      <td>1.209738</td>\n",
              "    </tr>\n",
              "    <tr>\n",
              "      <th>1</th>\n",
              "      <td>1</td>\n",
              "      <td>Razer BlackWidow Chroma Keyboard</td>\n",
              "      <td>3</td>\n",
              "      <td>86</td>\n",
              "      <td>3889</td>\n",
              "      <td>52.0</td>\n",
              "      <td>0</td>\n",
              "      <td>This keyboard is in great condition and works ...</td>\n",
              "      <td>[29, 2667, 10, 7, 38, 17, 1, 206, 51, 19, 1098...</td>\n",
              "      <td>[11404, 27915, 17355, 2667]</td>\n",
              "      <td>0.044005</td>\n",
              "      <td>0.209738</td>\n",
              "    </tr>\n",
              "    <tr>\n",
              "      <th>2</th>\n",
              "      <td>2</td>\n",
              "      <td>AVA-VIV Blouse</td>\n",
              "      <td>1</td>\n",
              "      <td>1277</td>\n",
              "      <td>4588</td>\n",
              "      <td>10.0</td>\n",
              "      <td>1</td>\n",
              "      <td>Adorable top with a hint of lace and a key hol...</td>\n",
              "      <td>[596, 60, 9, 4, 5354, 11, 192, 1, 4, 900, 1298...</td>\n",
              "      <td>[7812, 10862, 666]</td>\n",
              "      <td>-0.369464</td>\n",
              "      <td>1.209738</td>\n",
              "    </tr>\n",
              "  </tbody>\n",
              "</table>\n",
              "</div>"
            ],
            "text/plain": [
              "   train_id                                 name  ...    target  ship_rand\n",
              "0         0  MLB Cincinnati Reds T Shirt Size XL  ... -0.369464   1.209738\n",
              "1         1     Razer BlackWidow Chroma Keyboard  ...  0.044005   0.209738\n",
              "2         2                       AVA-VIV Blouse  ... -0.369464   1.209738\n",
              "\n",
              "[3 rows x 12 columns]"
            ]
          },
          "metadata": {},
          "execution_count": 48
        },
        {
          "output_type": "execute_result",
          "data": {
            "text/plain": [
              "(1482535, 12)"
            ]
          },
          "metadata": {},
          "execution_count": 48
        },
        {
          "output_type": "execute_result",
          "data": {
            "text/plain": [
              "(693359, 10)"
            ]
          },
          "metadata": {},
          "execution_count": 48
        }
      ]
    },
    {
      "cell_type": "markdown",
      "metadata": {
        "id": "3nrmjfYNCF3D"
      },
      "source": [
        "## Modeling--initial steps\n",
        ">Split data<br>\n",
        ">Expt with pad_sequences()<br>\n",
        ">Define a function to create a dictionary of data"
      ]
    },
    {
      "cell_type": "markdown",
      "metadata": {
        "id": "HGBPsWn9UfZI"
      },
      "source": [
        "### Split data"
      ]
    },
    {
      "cell_type": "code",
      "metadata": {
        "_cell_guid": "abf9cd11-efa2-4a2c-b844-cdf2fc23bbd8",
        "_uuid": "38f7f125582a88eba6410d93306df119e454db82",
        "id": "HynLIMN3YCFc",
        "colab": {
          "base_uri": "https://localhost:8080/"
        },
        "outputId": "50ba85a8-09f1-4d24-ceae-274de8f1078a"
      },
      "source": [
        "# 18. Split into train and test\n",
        "#     Note that we do not have 'y' here. \n",
        "#     Why? Because 'price' is a continuous variable\n",
        "\n",
        "# 18.1 Just 'train' will be split into two parts\n",
        "#      This is permissible in sklearn syntax\n",
        "dtrain, dvalid = train_test_split(train,\n",
        "                                  random_state=123,\n",
        "                                  train_size=0.99    # 99% vs 1%\n",
        "                                 )\n",
        "\n",
        "print(dtrain.shape)     # (1467709, 12)\n",
        "print(dvalid.shape)     # (14826, 12) 1% of above"
      ],
      "execution_count": 49,
      "outputs": [
        {
          "output_type": "stream",
          "name": "stdout",
          "text": [
            "(1467709, 12)\n",
            "(14826, 12)\n"
          ]
        }
      ]
    },
    {
      "cell_type": "markdown",
      "metadata": {
        "id": "TynPUWHJ760a"
      },
      "source": [
        "### Experiment with pad_sequences\n",
        "Our dataset has:<br>\n",
        "> 1. Categorical columns\n",
        ">> Three integer columns: <b>item_condition_id</b>, <b>category_name</b> and <b>brand_name</b><br>\n",
        ">> Two columns (of integer sequences): <b>seq_item_description</b> and <b>seq_name</b><br>\n",
        "\n",
        "> 2. Numeric columns (two): <b>shipping, ship_rand</b><br>\n",
        "> 3. Target column 'target'<br>\n",
        "\n",
        "Thus total number of columns are: 3 +2 + 2+ 1 = 8\n"
      ]
    },
    {
      "cell_type": "code",
      "metadata": {
        "id": "aeZLLi-s61Yd",
        "colab": {
          "base_uri": "https://localhost:8080/",
          "height": 172
        },
        "outputId": "3523f181-5b88-4565-afb6-b2761db72c0e"
      },
      "source": [
        "# 18.1.1 Just have a look at the train data:\n",
        "dtrain.head(3)"
      ],
      "execution_count": 50,
      "outputs": [
        {
          "output_type": "execute_result",
          "data": {
            "text/html": [
              "<div>\n",
              "<style scoped>\n",
              "    .dataframe tbody tr th:only-of-type {\n",
              "        vertical-align: middle;\n",
              "    }\n",
              "\n",
              "    .dataframe tbody tr th {\n",
              "        vertical-align: top;\n",
              "    }\n",
              "\n",
              "    .dataframe thead th {\n",
              "        text-align: right;\n",
              "    }\n",
              "</style>\n",
              "<table border=\"1\" class=\"dataframe\">\n",
              "  <thead>\n",
              "    <tr style=\"text-align: right;\">\n",
              "      <th></th>\n",
              "      <th>train_id</th>\n",
              "      <th>name</th>\n",
              "      <th>item_condition_id</th>\n",
              "      <th>category_name</th>\n",
              "      <th>brand_name</th>\n",
              "      <th>price</th>\n",
              "      <th>shipping</th>\n",
              "      <th>item_description</th>\n",
              "      <th>seq_item_description</th>\n",
              "      <th>seq_name</th>\n",
              "      <th>target</th>\n",
              "      <th>ship_rand</th>\n",
              "    </tr>\n",
              "  </thead>\n",
              "  <tbody>\n",
              "    <tr>\n",
              "      <th>407853</th>\n",
              "      <td>407853</td>\n",
              "      <td>maroon velvet lisette shorts</td>\n",
              "      <td>1</td>\n",
              "      <td>1162</td>\n",
              "      <td>737</td>\n",
              "      <td>22.0</td>\n",
              "      <td>1</td>\n",
              "      <td>brand new from brandy melville</td>\n",
              "      <td>[16, 5, 43, 537, 586]</td>\n",
              "      <td>[825, 1027, 17236, 129]</td>\n",
              "      <td>-0.175509</td>\n",
              "      <td>1.209738</td>\n",
              "    </tr>\n",
              "    <tr>\n",
              "      <th>748699</th>\n",
              "      <td>748699</td>\n",
              "      <td>Benefit Roller Lash Mascara FULL SIZE</td>\n",
              "      <td>2</td>\n",
              "      <td>26</td>\n",
              "      <td>574</td>\n",
              "      <td>14.0</td>\n",
              "      <td>1</td>\n",
              "      <td>Benefit Roller Lash Mascara FULL SIZE in the c...</td>\n",
              "      <td>[1238, 2566, 1266, 641, 153, 6, 7, 2, 48, 24, ...</td>\n",
              "      <td>[1238, 2566, 1266, 641, 153, 6]</td>\n",
              "      <td>-0.287907</td>\n",
              "      <td>1.209738</td>\n",
              "    </tr>\n",
              "    <tr>\n",
              "      <th>320295</th>\n",
              "      <td>320295</td>\n",
              "      <td>Holographic Ipsy Bag</td>\n",
              "      <td>2</td>\n",
              "      <td>1303</td>\n",
              "      <td>5265</td>\n",
              "      <td>7.0</td>\n",
              "      <td>0</td>\n",
              "      <td>Used once</td>\n",
              "      <td>[31, 96]</td>\n",
              "      <td>[2896, 2224, 101]</td>\n",
              "      <td>-0.453202</td>\n",
              "      <td>0.209738</td>\n",
              "    </tr>\n",
              "  </tbody>\n",
              "</table>\n",
              "</div>"
            ],
            "text/plain": [
              "        train_id                                   name  ...    target  ship_rand\n",
              "407853    407853           maroon velvet lisette shorts  ... -0.175509   1.209738\n",
              "748699    748699  Benefit Roller Lash Mascara FULL SIZE  ... -0.287907   1.209738\n",
              "320295    320295                   Holographic Ipsy Bag  ... -0.453202   0.209738\n",
              "\n",
              "[3 rows x 12 columns]"
            ]
          },
          "metadata": {},
          "execution_count": 50
        }
      ]
    },
    {
      "cell_type": "markdown",
      "metadata": {
        "id": "u4tu4KacEkLp"
      },
      "source": [
        "Integer sequence columns `seq_item_description` and `seq_name` must have sequences of equal length. So we pad-sequences in each column. Here is what padding does."
      ]
    },
    {
      "cell_type": "code",
      "metadata": {
        "colab": {
          "base_uri": "https://localhost:8080/"
        },
        "id": "azYW6jY77Nrr",
        "outputId": "afbf86b9-1f40-4ac4-fbca-38bda362dc96"
      },
      "source": [
        "# 18.2 Using keras pad_sequences function:\n",
        "#      Example\n",
        "\n",
        "print(f\" Max size of sequence: {MAX_NAME_SEQ}\")\n",
        "print(f\" Shape of dtrain.seq_name: {dtrain.seq_name.shape}\")\n",
        "\n",
        "s = pad_sequences(\n",
        "                   dtrain.seq_name,\n",
        "                   maxlen=MAX_NAME_SEQ\n",
        "                  )"
      ],
      "execution_count": 51,
      "outputs": [
        {
          "output_type": "stream",
          "name": "stdout",
          "text": [
            " Max size of sequence: 10\n",
            " Shape of dtrain.seq_name: (1467709,)\n"
          ]
        }
      ]
    },
    {
      "cell_type": "code",
      "metadata": {
        "id": "cPkJTJN77VMF",
        "colab": {
          "base_uri": "https://localhost:8080/",
          "height": 156
        },
        "outputId": "e5bfe8d6-4d65-4126-cbc5-f36918d1096b"
      },
      "source": [
        "# 18.3 As 's' will be a numpy array\n",
        "#       to observe it let us transform it\n",
        "#        into pandas dataframe:\n",
        "\n",
        "print(f\"Shape of s: {s.shape}\")\n",
        "\n",
        "# 18.4 Here is dataframe:\n",
        "pd.DataFrame(s).head(3)"
      ],
      "execution_count": 52,
      "outputs": [
        {
          "output_type": "stream",
          "name": "stdout",
          "text": [
            "Shape of s: (1467709, 10)\n"
          ]
        },
        {
          "output_type": "execute_result",
          "data": {
            "text/html": [
              "<div>\n",
              "<style scoped>\n",
              "    .dataframe tbody tr th:only-of-type {\n",
              "        vertical-align: middle;\n",
              "    }\n",
              "\n",
              "    .dataframe tbody tr th {\n",
              "        vertical-align: top;\n",
              "    }\n",
              "\n",
              "    .dataframe thead th {\n",
              "        text-align: right;\n",
              "    }\n",
              "</style>\n",
              "<table border=\"1\" class=\"dataframe\">\n",
              "  <thead>\n",
              "    <tr style=\"text-align: right;\">\n",
              "      <th></th>\n",
              "      <th>0</th>\n",
              "      <th>1</th>\n",
              "      <th>2</th>\n",
              "      <th>3</th>\n",
              "      <th>4</th>\n",
              "      <th>5</th>\n",
              "      <th>6</th>\n",
              "      <th>7</th>\n",
              "      <th>8</th>\n",
              "      <th>9</th>\n",
              "    </tr>\n",
              "  </thead>\n",
              "  <tbody>\n",
              "    <tr>\n",
              "      <th>0</th>\n",
              "      <td>0</td>\n",
              "      <td>0</td>\n",
              "      <td>0</td>\n",
              "      <td>0</td>\n",
              "      <td>0</td>\n",
              "      <td>0</td>\n",
              "      <td>825</td>\n",
              "      <td>1027</td>\n",
              "      <td>17236</td>\n",
              "      <td>129</td>\n",
              "    </tr>\n",
              "    <tr>\n",
              "      <th>1</th>\n",
              "      <td>0</td>\n",
              "      <td>0</td>\n",
              "      <td>0</td>\n",
              "      <td>0</td>\n",
              "      <td>1238</td>\n",
              "      <td>2566</td>\n",
              "      <td>1266</td>\n",
              "      <td>641</td>\n",
              "      <td>153</td>\n",
              "      <td>6</td>\n",
              "    </tr>\n",
              "    <tr>\n",
              "      <th>2</th>\n",
              "      <td>0</td>\n",
              "      <td>0</td>\n",
              "      <td>0</td>\n",
              "      <td>0</td>\n",
              "      <td>0</td>\n",
              "      <td>0</td>\n",
              "      <td>0</td>\n",
              "      <td>2896</td>\n",
              "      <td>2224</td>\n",
              "      <td>101</td>\n",
              "    </tr>\n",
              "  </tbody>\n",
              "</table>\n",
              "</div>"
            ],
            "text/plain": [
              "   0  1  2  3     4     5     6     7      8    9\n",
              "0  0  0  0  0     0     0   825  1027  17236  129\n",
              "1  0  0  0  0  1238  2566  1266   641    153    6\n",
              "2  0  0  0  0     0     0     0  2896   2224  101"
            ]
          },
          "metadata": {},
          "execution_count": 52
        }
      ]
    },
    {
      "cell_type": "markdown",
      "metadata": {
        "id": "Dhm7ibir85LB"
      },
      "source": [
        "### Define a function to create a dictionary of data\n",
        "That is we are sort of transforming pandas dataframe to a dictionary as per our conveience\n"
      ]
    },
    {
      "cell_type": "code",
      "metadata": {
        "_cell_guid": "22f34be1-bd4a-4ad1-a931-62873816e8ee",
        "_uuid": "2f876f24ae0e5a82bdf9b0568f796cce5e2fed2c",
        "id": "aCJyYZ3kYCFc"
      },
      "source": [
        "# 19.0 Define a function that creates a dictionary of array values \n",
        "#      to help to feed data into keras\n",
        "#      All columns but the last 'num_vars' are categorical\n",
        "#      WE have SIX columns or column-sets here\n",
        "def get_keras_data(dataset):\n",
        "    X = {   \n",
        "        'name_in':           pad_sequences(dataset.seq_name, maxlen=MAX_NAME_SEQ),                        # 1\n",
        "        'item_desc_in':      pad_sequences(dataset.seq_item_description, maxlen=MAX_ITEM_DESC_SEQ),       # 2\n",
        "        'brand_name_in':     np.array(dataset.brand_name),                                                # 3\n",
        "        'category_name_in':  dataset.category_name.values,                                                # 4\n",
        "        'item_condition_in': dataset.item_condition_id.values,                                            # 5\n",
        "        'num_vars_in':       np.array(dataset[[\"shipping\", \"ship_rand\"]])    # Two numeric columns here   # 6\n",
        "    }\n",
        "    return X\n"
      ],
      "execution_count": 53,
      "outputs": []
    },
    {
      "cell_type": "code",
      "metadata": {
        "id": "sESxTNlYNy5H"
      },
      "source": [
        "# 19.1 Get these datasets now\n",
        "X_train = get_keras_data(dtrain)  # type: dict"
      ],
      "execution_count": 54,
      "outputs": []
    },
    {
      "cell_type": "code",
      "metadata": {
        "colab": {
          "base_uri": "https://localhost:8080/"
        },
        "id": "AuREB8zvVsT_",
        "outputId": "ab323095-3fbc-4ac6-e550-9bb582245038"
      },
      "source": [
        "X_train.keys()"
      ],
      "execution_count": 55,
      "outputs": [
        {
          "output_type": "execute_result",
          "data": {
            "text/plain": [
              "dict_keys(['name_in', 'item_desc_in', 'brand_name_in', 'category_name_in', 'item_condition_in', 'num_vars_in'])"
            ]
          },
          "metadata": {},
          "execution_count": 55
        }
      ]
    },
    {
      "cell_type": "code",
      "metadata": {
        "id": "oVLVwA0DhTgH",
        "colab": {
          "base_uri": "https://localhost:8080/"
        },
        "outputId": "7eff68e0-5fad-4a43-bbe3-bde53173b93a"
      },
      "source": [
        "# 19.1.1 Observe X_train:\n",
        "\n",
        "for key, value in X_train.items():\n",
        "    print(\"\\n\\n============\")\n",
        "    print(key, ' : ', value[:2])"
      ],
      "execution_count": 56,
      "outputs": [
        {
          "output_type": "stream",
          "name": "stdout",
          "text": [
            "\n",
            "\n",
            "============\n",
            "name_in  :  [[    0     0     0     0     0     0   825  1027 17236   129]\n",
            " [    0     0     0     0  1238  2566  1266   641   153     6]]\n",
            "\n",
            "\n",
            "============\n",
            "item_desc_in  :  [[    0     0     0     0     0     0     0     0     0     0     0     0\n",
            "      0     0     0     0     0     0     0     0     0     0     0     0\n",
            "      0     0     0     0     0     0     0     0     0     0     0     0\n",
            "      0     0     0     0     0     0     0     0     0     0     0     0\n",
            "      0     0     0     0     0     0     0     0     0     0     0     0\n",
            "      0     0     0     0     0     0     0     0     0     0    16     5\n",
            "     43   537   586]\n",
            " [    0     0     0  1238  2566  1266   641   153     6     7     2    48\n",
            "     24    13    20   100    16     5    56    50   113   650   379    40\n",
            "    267     7   160   347    29   641   343     3    21   639     8     2\n",
            "   2021   469     9    13    20   410    26    74   376   349    22    32\n",
            "    228    15    36   697    33 17096     8    77  1523   140   138  1244\n",
            "     18    51   133    63   385    83   177   261    42   550   175     3\n",
            "     35   191  1897]]\n",
            "\n",
            "\n",
            "============\n",
            "brand_name_in  :  [737 574]\n",
            "\n",
            "\n",
            "============\n",
            "category_name_in  :  [1162   26]\n",
            "\n",
            "\n",
            "============\n",
            "item_condition_in  :  [1 2]\n",
            "\n",
            "\n",
            "============\n",
            "num_vars_in  :  [[1.         1.20973831]\n",
            " [1.         1.20973831]]\n"
          ]
        }
      ]
    },
    {
      "cell_type": "code",
      "metadata": {
        "id": "AGU4W9XohXfv"
      },
      "source": [
        "# 19.1.2 Similarly for X_valid and X_test:\n",
        "\n",
        "X_valid = get_keras_data(dvalid)\n",
        "X_test = get_keras_data(test)"
      ],
      "execution_count": 57,
      "outputs": []
    },
    {
      "cell_type": "code",
      "metadata": {
        "id": "1O3dX7aqKr_v",
        "colab": {
          "base_uri": "https://localhost:8080/"
        },
        "outputId": "52dbba3f-1e2e-4c10-f374-235fe3e59d39"
      },
      "source": [
        "# 19.2 As each dict item is a numpy array,\n",
        "#      we can check shapes. We need these below:\n",
        "\n",
        "print(X_train[\"name_in\"][:4])\n",
        "print(\"\\n===========\")\n",
        "print(X_train[\"name_in\"].shape)"
      ],
      "execution_count": 58,
      "outputs": [
        {
          "output_type": "stream",
          "name": "stdout",
          "text": [
            "[[    0     0     0     0     0     0   825  1027 17236   129]\n",
            " [    0     0     0     0  1238  2566  1266   641   153     6]\n",
            " [    0     0     0     0     0     0     0  2896  2224   101]\n",
            " [    0     0   444   433 12285    95    95  3956   244 11547]]\n",
            "\n",
            "===========\n",
            "(1467709, 10)\n"
          ]
        }
      ]
    },
    {
      "cell_type": "code",
      "metadata": {
        "id": "kxcaECFLLqlf",
        "colab": {
          "base_uri": "https://localhost:8080/"
        },
        "outputId": "7da3ccc2-a6e9-466a-b7f3-a493f1c31663"
      },
      "source": [
        "# 19.3 Check more shapes.\n",
        "\n",
        "print(X_train[\"item_desc_in\"][:4])\n",
        "print(\"\\n\\n===========\")\n",
        "print(X_train[\"item_desc_in\"].shape)"
      ],
      "execution_count": 59,
      "outputs": [
        {
          "output_type": "stream",
          "name": "stdout",
          "text": [
            "[[    0     0     0     0     0     0     0     0     0     0     0     0\n",
            "      0     0     0     0     0     0     0     0     0     0     0     0\n",
            "      0     0     0     0     0     0     0     0     0     0     0     0\n",
            "      0     0     0     0     0     0     0     0     0     0     0     0\n",
            "      0     0     0     0     0     0     0     0     0     0     0     0\n",
            "      0     0     0     0     0     0     0     0     0     0    16     5\n",
            "     43   537   586]\n",
            " [    0     0     0  1238  2566  1266   641   153     6     7     2    48\n",
            "     24    13    20   100    16     5    56    50   113   650   379    40\n",
            "    267     7   160   347    29   641   343     3    21   639     8     2\n",
            "   2021   469     9    13    20   410    26    74   376   349    22    32\n",
            "    228    15    36   697    33 17096     8    77  1523   140   138  1244\n",
            "     18    51   133    63   385    83   177   261    42   550   175     3\n",
            "     35   191  1897]\n",
            " [    0     0     0     0     0     0     0     0     0     0     0     0\n",
            "      0     0     0     0     0     0     0     0     0     0     0     0\n",
            "      0     0     0     0     0     0     0     0     0     0     0     0\n",
            "      0     0     0     0     0     0     0     0     0     0     0     0\n",
            "      0     0     0     0     0     0     0     0     0     0     0     0\n",
            "      0     0     0     0     0     0     0     0     0     0     0     0\n",
            "      0    31    96]\n",
            " [    0     0     0     0     0     0     0     0     0     0     0     0\n",
            "      0     0     0     0     0     0     0     0     0     0     0     0\n",
            "      0     0     0     0     0     0     0     0     0     0     0     0\n",
            "      0     0     0     0     0     0     0     0     0     0     0     0\n",
            "      0     0     0     0     0     0     0     0     0     0     0     0\n",
            "      0     0     0     0     0     0     0     0     0     0     0     0\n",
            "     12    68    79]]\n",
            "\n",
            "\n",
            "===========\n",
            "(1467709, 75)\n"
          ]
        }
      ]
    },
    {
      "cell_type": "code",
      "metadata": {
        "id": "PIiXujlxYCFc",
        "colab": {
          "base_uri": "https://localhost:8080/"
        },
        "outputId": "d7dc78fb-8cae-4e10-eff7-47f5ffc3e69a"
      },
      "source": [
        "# 19.4 Check more shapes. \n",
        "\n",
        "X_train[\"num_vars_in\"][:4]\n",
        "X_train[\"num_vars_in\"].shape[1]       # 2"
      ],
      "execution_count": 60,
      "outputs": [
        {
          "output_type": "execute_result",
          "data": {
            "text/plain": [
              "array([[1.        , 1.20973831],\n",
              "       [1.        , 1.20973831],\n",
              "       [0.        , 0.20973831],\n",
              "       [1.        , 1.20973831]])"
            ]
          },
          "metadata": {},
          "execution_count": 60
        },
        {
          "output_type": "execute_result",
          "data": {
            "text/plain": [
              "2"
            ]
          },
          "metadata": {},
          "execution_count": 60
        }
      ]
    },
    {
      "cell_type": "code",
      "metadata": {
        "id": "SncpdM2JLz3W"
      },
      "source": [
        "# 20.0 Define callback function for earlystopping and storing weights\n",
        "#      May forget this in the first reading\n",
        "def get_callbacks(filepath, patience=2):\n",
        "    es = EarlyStopping('val_loss', patience=patience, mode=\"min\")\n",
        "    msave = ModelCheckpoint(filepath, save_best_only=True)\n",
        "    return [es, msave]\n"
      ],
      "execution_count": 61,
      "outputs": []
    },
    {
      "cell_type": "code",
      "metadata": {
        "id": "JN-rhMm6L6Cg"
      },
      "source": [
        "# 20.1 Forget it in first reading. Another loss function\n",
        "#      Any functions used in the model must use tensors\n",
        "#      and not numpy arrays. Of course, dataset can be numpy\n",
        "def rmsle_cust(y_true, y_pred):\n",
        "    first_log = K.log(K.clip(y_pred, K.epsilon(), None) + 1.)\n",
        "    second_log = K.log(K.clip(y_true, K.epsilon(), None) + 1.)\n",
        "    return K.sqrt(K.mean(K.square(first_log - second_log), axis=-1))"
      ],
      "execution_count": 62,
      "outputs": []
    },
    {
      "cell_type": "markdown",
      "metadata": {
        "id": "2biLoJfKJeLS"
      },
      "source": [
        "### Constants"
      ]
    },
    {
      "cell_type": "code",
      "metadata": {
        "id": "ibxgGMju9lFW"
      },
      "source": [
        "# 21 Define sizes of categorical values AND word to vectors\n",
        "#      Sizes?\n",
        "word2vec_size = 50\n",
        "cat2vec_size = 10\n",
        "cond2vec_size = 5"
      ],
      "execution_count": 63,
      "outputs": []
    },
    {
      "cell_type": "code",
      "metadata": {
        "colab": {
          "base_uri": "https://localhost:8080/"
        },
        "id": "2KbJlTRiWW6F",
        "outputId": "2c2918b4-129f-4e6d-c117-14bc8573d391"
      },
      "source": [
        "X_train[\"name_in\"].shape[1]\n",
        "X_train[\"item_desc_in\"].shape[1]"
      ],
      "execution_count": 64,
      "outputs": [
        {
          "output_type": "execute_result",
          "data": {
            "text/plain": [
              "10"
            ]
          },
          "metadata": {},
          "execution_count": 64
        },
        {
          "output_type": "execute_result",
          "data": {
            "text/plain": [
              "75"
            ]
          },
          "metadata": {},
          "execution_count": 64
        }
      ]
    },
    {
      "cell_type": "code",
      "metadata": {
        "id": "2JzihKcdGHYD"
      },
      "source": [
        "# 21.1 SIX Inputs. At each input specify number of input-features:\n",
        "\n",
        "name =            Input(shape=[X_train[\"name_in\"].shape[1]],      name=\"name_in\")           # Length of each sequence\n",
        "item_desc =       Input(shape=[X_train[\"item_desc_in\"].shape[1]], name=\"item_desc_in\")      # Length of each sequence\n",
        "brand_name =      Input(shape=[1],                             name=\"brand_name_in\")     # Just 1 feature. Hence shape=[1]\n",
        "category_name =   Input(shape=[1],                             name=\"category_name_in\")  # Just 1 feature. Hence shape=[1]\n",
        "item_condition =  Input(shape=[1],                             name=\"item_condition_in\") # Just 1 feature. Hence shape = [1]\n",
        "num_vars =        Input(shape=[X_train[\"num_vars_in\"].shape[1]],  name=\"num_vars_in\")\n"
      ],
      "execution_count": 65,
      "outputs": []
    },
    {
      "cell_type": "markdown",
      "metadata": {
        "id": "A8OnJKoMJjP6"
      },
      "source": [
        "### Embedding layers\n",
        "In each *Embedding layer* specify the vocabulary size and word2vec size"
      ]
    },
    {
      "cell_type": "code",
      "metadata": {
        "id": "Zyih6YFNGUD3"
      },
      "source": [
        "# 21.2 FIVE Embeddings layers.  Embedding vectors of first FIVE of the above\n",
        "\n",
        "# 21.3   Output of following two also go in RNN.\n",
        "#        RNN output needs no flattening as this output is received\n",
        "#        AFTER all timesteps have been fed into RNN\n",
        "emb_name =           Embedding(MAX_TEXT_VOC,      word2vec_size  )(name)               \n",
        "emb_item_desc =      Embedding(MAX_TEXT_VOC,      word2vec_size  )(item_desc)\n",
        "\n",
        "# 21.3.1 Output of following three go directly into Dense layer after flattening\n",
        "#        These need to be flattened as for every timestep there is a vector\n",
        "emb_brand_name =     Embedding(MAX_BRAND_VOC,     cat2vec_size  )(brand_name)\n",
        "emb_category_name =  Embedding(MAX_CATEGORY_VOC,  cat2vec_size  )(category_name)\n",
        "emb_item_condition = Embedding(MAX_CONDITION_VOC, cond2vec_size )(item_condition)"
      ],
      "execution_count": 66,
      "outputs": []
    },
    {
      "cell_type": "markdown",
      "metadata": {
        "id": "R2bJbrkUJl_i"
      },
      "source": [
        "### RNN layers\n",
        "The above diagram also explains output of RNN (read GRU)."
      ]
    },
    {
      "cell_type": "code",
      "metadata": {
        "id": "Wal8SQ9kGkNS"
      },
      "source": [
        "# 22 TWO RNN layers. Both these are independent of each other. \n",
        "rnn_layer2 = GRU(8) (emb_name)          # Output of GRU is a vector of size 8\n",
        "rnn_layer1 = GRU(16) (emb_item_desc)    # Output of GRU is a vector of size 16"
      ],
      "execution_count": 67,
      "outputs": []
    },
    {
      "cell_type": "markdown",
      "metadata": {
        "id": "7-EaA1G6Jo4b"
      },
      "source": [
        "### Concatenation"
      ]
    },
    {
      "cell_type": "code",
      "metadata": {
        "id": "7eryaZXuToqC",
        "colab": {
          "base_uri": "https://localhost:8080/"
        },
        "outputId": "6e04ee0e-b8ab-45e1-c954-c4f30d8363bb"
      },
      "source": [
        "# 23. Before we concatenate, let us see shape of \n",
        "#     each output tensor\n",
        "print(f\"emb_brand_name: {emb_brand_name.shape}\")            # (None, 1, 10)\n",
        "print(f\"emb_category_name: {emb_category_name.shape}\")      # (None, 1, 10)\n",
        "print(f\"emb_item_condition: {emb_item_condition.shape}\")    # (None, 1, 5)\n",
        "print(f\"rnn_layer1: {rnn_layer1.shape}\")                    # (None, 16)\n",
        "print(f\"rnn_layer1: {rnn_layer2.shape}\")                    # (None, 8)\n"
      ],
      "execution_count": 68,
      "outputs": [
        {
          "output_type": "stream",
          "name": "stdout",
          "text": [
            "emb_brand_name: (None, 1, 10)\n",
            "emb_category_name: (None, 1, 10)\n",
            "emb_item_condition: (None, 1, 5)\n",
            "rnn_layer1: (None, 16)\n",
            "rnn_layer1: (None, 8)\n"
          ]
        }
      ]
    },
    {
      "cell_type": "code",
      "metadata": {
        "id": "jO5h3ie4F9nS"
      },
      "source": [
        "# 23.1 Concatenate all layer-branches \n",
        "main_l = concatenate(\n",
        "                        [\n",
        "                          Flatten() (emb_brand_name),\n",
        "                          Flatten() (emb_category_name),\n",
        "                          Flatten() (emb_item_condition),\n",
        "                          rnn_layer1,\n",
        "                          rnn_layer2,\n",
        "                          num_vars          # Feed numerical variables as they are\n",
        "                        ]\n",
        "                      )"
      ],
      "execution_count": 69,
      "outputs": []
    },
    {
      "cell_type": "markdown",
      "metadata": {
        "id": "kfg2pG9IJre6"
      },
      "source": [
        "### Classification layer"
      ]
    },
    {
      "cell_type": "code",
      "metadata": {
        "id": "mhLTjlS9Goq4"
      },
      "source": [
        "# 24.0 Level of dropouts: 10%\n",
        "dr_r = 0.1   \n",
        "\n",
        "# 24.1 Add classification layer\n",
        "main_l = Dense(128) (main_l)\n",
        "main_l = Dropout(dr_r)(main_l)\n",
        "main_l = Dense(64) (main_l)\n",
        "main_l = Dropout(dr_r) (main_l)"
      ],
      "execution_count": 70,
      "outputs": []
    },
    {
      "cell_type": "markdown",
      "metadata": {
        "id": "6uf4Gl3SJu4M"
      },
      "source": [
        "### Output node"
      ]
    },
    {
      "cell_type": "code",
      "metadata": {
        "id": "glzenbsHHRLg"
      },
      "source": [
        "# 24.2 Output neuron\n",
        "output = Dense(1, activation=\"linear\") (main_l)"
      ],
      "execution_count": 71,
      "outputs": []
    },
    {
      "cell_type": "markdown",
      "metadata": {
        "id": "tXpVOFtIJx3z"
      },
      "source": [
        "### Define model and compile"
      ]
    },
    {
      "cell_type": "code",
      "metadata": {
        "id": "fGM_DxDTG5UM"
      },
      "source": [
        "# 25 Formulate Model now\n",
        "model = Model(\n",
        "              inputs= [                     \n",
        "                        name,\n",
        "                        item_desc,\n",
        "                        brand_name,\n",
        "                        category_name,\n",
        "                        item_condition,\n",
        "                        num_vars\n",
        "                       ],\n",
        "              outputs= output\n",
        "              )\n",
        "\n"
      ],
      "execution_count": 72,
      "outputs": []
    },
    {
      "cell_type": "code",
      "metadata": {
        "id": "SKNAHwCDabNm"
      },
      "source": [
        "# 25.1\n",
        "model.compile(loss=\"mse\",\n",
        "              optimizer=\"adam\",\n",
        "              metrics=[\"mae\"]    # Not using rmsle_cust\n",
        "              )"
      ],
      "execution_count": 73,
      "outputs": []
    },
    {
      "cell_type": "markdown",
      "metadata": {
        "id": "W8xeLzJvJ9hM"
      },
      "source": [
        "### Model summary and plot"
      ]
    },
    {
      "cell_type": "code",
      "metadata": {
        "id": "-p2gX4MhKCeM",
        "colab": {
          "base_uri": "https://localhost:8080/"
        },
        "outputId": "87d158fa-bfce-48dd-e866-d3743c461716"
      },
      "source": [
        "# 26 Formulate model and show summary    \n",
        "model.summary()"
      ],
      "execution_count": 74,
      "outputs": [
        {
          "output_type": "stream",
          "name": "stdout",
          "text": [
            "Model: \"model\"\n",
            "__________________________________________________________________________________________________\n",
            " Layer (type)                   Output Shape         Param #     Connected to                     \n",
            "==================================================================================================\n",
            " brand_name_in (InputLayer)     [(None, 1)]          0           []                               \n",
            "                                                                                                  \n",
            " category_name_in (InputLayer)  [(None, 1)]          0           []                               \n",
            "                                                                                                  \n",
            " item_condition_in (InputLayer)  [(None, 1)]         0           []                               \n",
            "                                                                                                  \n",
            " item_desc_in (InputLayer)      [(None, 75)]         0           []                               \n",
            "                                                                                                  \n",
            " name_in (InputLayer)           [(None, 10)]         0           []                               \n",
            "                                                                                                  \n",
            " embedding_2 (Embedding)        (None, 1, 10)        52900       ['brand_name_in[0][0]']          \n",
            "                                                                                                  \n",
            " embedding_3 (Embedding)        (None, 1, 10)        13110       ['category_name_in[0][0]']       \n",
            "                                                                                                  \n",
            " embedding_4 (Embedding)        (None, 1, 5)         30          ['item_condition_in[0][0]']      \n",
            "                                                                                                  \n",
            " embedding_1 (Embedding)        (None, 75, 50)       16100050    ['item_desc_in[0][0]']           \n",
            "                                                                                                  \n",
            " embedding (Embedding)          (None, 10, 50)       16100050    ['name_in[0][0]']                \n",
            "                                                                                                  \n",
            " flatten (Flatten)              (None, 10)           0           ['embedding_2[0][0]']            \n",
            "                                                                                                  \n",
            " flatten_1 (Flatten)            (None, 10)           0           ['embedding_3[0][0]']            \n",
            "                                                                                                  \n",
            " flatten_2 (Flatten)            (None, 5)            0           ['embedding_4[0][0]']            \n",
            "                                                                                                  \n",
            " gru_1 (GRU)                    (None, 16)           3264        ['embedding_1[0][0]']            \n",
            "                                                                                                  \n",
            " gru (GRU)                      (None, 8)            1440        ['embedding[0][0]']              \n",
            "                                                                                                  \n",
            " num_vars_in (InputLayer)       [(None, 2)]          0           []                               \n",
            "                                                                                                  \n",
            " concatenate (Concatenate)      (None, 51)           0           ['flatten[0][0]',                \n",
            "                                                                  'flatten_1[0][0]',              \n",
            "                                                                  'flatten_2[0][0]',              \n",
            "                                                                  'gru_1[0][0]',                  \n",
            "                                                                  'gru[0][0]',                    \n",
            "                                                                  'num_vars_in[0][0]']            \n",
            "                                                                                                  \n",
            " dense (Dense)                  (None, 128)          6656        ['concatenate[0][0]']            \n",
            "                                                                                                  \n",
            " dropout (Dropout)              (None, 128)          0           ['dense[0][0]']                  \n",
            "                                                                                                  \n",
            " dense_1 (Dense)                (None, 64)           8256        ['dropout[0][0]']                \n",
            "                                                                                                  \n",
            " dropout_1 (Dropout)            (None, 64)           0           ['dense_1[0][0]']                \n",
            "                                                                                                  \n",
            " dense_2 (Dense)                (None, 1)            65          ['dropout_1[0][0]']              \n",
            "                                                                                                  \n",
            "==================================================================================================\n",
            "Total params: 32,285,821\n",
            "Trainable params: 32,285,821\n",
            "Non-trainable params: 0\n",
            "__________________________________________________________________________________________________\n"
          ]
        }
      ]
    },
    {
      "cell_type": "code",
      "metadata": {
        "colab": {
          "base_uri": "https://localhost:8080/",
          "height": 655
        },
        "id": "YeOmL_WhYCFf",
        "outputId": "c9d6806b-fbe5-417f-ac62-b3dd575db7c1"
      },
      "source": [
        "# 26.1 Plot the model architecture\n",
        "#      We need graphviz and pydot to be installed\n",
        "plt.figure(figsize = (14,14));\n",
        "plot_model(model, to_file = \"model.png\");\n",
        "io.imshow(\"model.png\");"
      ],
      "execution_count": 75,
      "outputs": [
        {
          "output_type": "display_data",
          "data": {
            "image/png": "[encoded data removed]",
            "text/plain": [
              "<Figure size 1008x1008 with 1 Axes>"
            ]
          },
          "metadata": {
            "needs_background": "light"
          }
        }
      ]
    },
    {
      "cell_type": "markdown",
      "metadata": {
        "id": "FvlKVtGPKFZu"
      },
      "source": [
        "### Fit model"
      ]
    },
    {
      "cell_type": "code",
      "metadata": {
        "id": "2aQWl2FWgia-"
      },
      "source": [
        "# 26.2. Some constants\n",
        "BATCH_SIZE = 20000\n",
        "epochs = 5"
      ],
      "execution_count": 76,
      "outputs": []
    },
    {
      "cell_type": "code",
      "metadata": {
        "id": "jm1bUc-ign38",
        "colab": {
          "base_uri": "https://localhost:8080/"
        },
        "outputId": "c02557f1-d3f4-43b3-af90-809fbec3035c"
      },
      "source": [
        "# 26.3 Observe our training data once more:\n",
        "#      Note that X_train is a dictionary of arrays:\n",
        "\n",
        "for key, value in X_train.items():\n",
        "    print(\"\\n\\n============\")\n",
        "    print(key, ' : ', value[:2])"
      ],
      "execution_count": 77,
      "outputs": [
        {
          "output_type": "stream",
          "name": "stdout",
          "text": [
            "\n",
            "\n",
            "============\n",
            "name_in  :  [[    0     0     0     0     0     0   825  1027 17236   129]\n",
            " [    0     0     0     0  1238  2566  1266   641   153     6]]\n",
            "\n",
            "\n",
            "============\n",
            "item_desc_in  :  [[    0     0     0     0     0     0     0     0     0     0     0     0\n",
            "      0     0     0     0     0     0     0     0     0     0     0     0\n",
            "      0     0     0     0     0     0     0     0     0     0     0     0\n",
            "      0     0     0     0     0     0     0     0     0     0     0     0\n",
            "      0     0     0     0     0     0     0     0     0     0     0     0\n",
            "      0     0     0     0     0     0     0     0     0     0    16     5\n",
            "     43   537   586]\n",
            " [    0     0     0  1238  2566  1266   641   153     6     7     2    48\n",
            "     24    13    20   100    16     5    56    50   113   650   379    40\n",
            "    267     7   160   347    29   641   343     3    21   639     8     2\n",
            "   2021   469     9    13    20   410    26    74   376   349    22    32\n",
            "    228    15    36   697    33 17096     8    77  1523   140   138  1244\n",
            "     18    51   133    63   385    83   177   261    42   550   175     3\n",
            "     35   191  1897]]\n",
            "\n",
            "\n",
            "============\n",
            "brand_name_in  :  [737 574]\n",
            "\n",
            "\n",
            "============\n",
            "category_name_in  :  [1162   26]\n",
            "\n",
            "\n",
            "============\n",
            "item_condition_in  :  [1 2]\n",
            "\n",
            "\n",
            "============\n",
            "num_vars_in  :  [[1.         1.20973831]\n",
            " [1.         1.20973831]]\n"
          ]
        }
      ]
    },
    {
      "cell_type": "code",
      "metadata": {
        "_cell_guid": "b19fde2e-e454-48fd-b336-de0b15051fc8",
        "_uuid": "5fa44a0c7fcca9b0f0c15719be8ac38a2ee7cea8",
        "id": "jA8uXPMpYCFf",
        "colab": {
          "base_uri": "https://localhost:8080/"
        },
        "outputId": "42068bb7-86cc-4711-a0bf-56f689243b43"
      },
      "source": [
        "# 26.4\n",
        "\n",
        "start = time.time()\n",
        "history= model.fit(X_train,\n",
        "                   dtrain.target,\n",
        "                   epochs=epochs,\n",
        "                   batch_size=BATCH_SIZE,\n",
        "                   validation_data=(X_valid, dvalid.target),\n",
        "                   verbose=1\n",
        "                  )\n",
        "\n",
        "end = time.time()\n",
        "print((end-start)/60)    # Five epochs take 15 minutes. Per epoch 240 secs"
      ],
      "execution_count": 78,
      "outputs": [
        {
          "output_type": "stream",
          "name": "stdout",
          "text": [
            "Epoch 1/5\n",
            "74/74 [==============================] - 245s 3s/step - loss: 0.0347 - mae: 0.1415 - val_loss: 0.0191 - val_mae: 0.1050\n",
            "Epoch 2/5\n",
            "74/74 [==============================] - 235s 3s/step - loss: 0.0198 - mae: 0.1070 - val_loss: 0.0165 - val_mae: 0.0973\n",
            "Epoch 3/5\n",
            "74/74 [==============================] - 235s 3s/step - loss: 0.0169 - mae: 0.0986 - val_loss: 0.0156 - val_mae: 0.0945\n",
            "Epoch 4/5\n",
            "74/74 [==============================] - 235s 3s/step - loss: 0.0154 - mae: 0.0940 - val_loss: 0.0153 - val_mae: 0.0941\n",
            "Epoch 5/5\n",
            "74/74 [==============================] - 238s 3s/step - loss: 0.0146 - mae: 0.0914 - val_loss: 0.0153 - val_mae: 0.0935\n",
            "20.44251397450765\n"
          ]
        }
      ]
    },
    {
      "cell_type": "markdown",
      "metadata": {
        "id": "4QocVFA0bIw2"
      },
      "source": [
        "## Evaluation\n"
      ]
    },
    {
      "cell_type": "code",
      "metadata": {
        "id": "6C_kk4K2bNI_"
      },
      "source": [
        "# 27 Evaluate model using validation data\n",
        "val_preds = model.predict(X_valid)"
      ],
      "execution_count": 79,
      "outputs": []
    },
    {
      "cell_type": "code",
      "metadata": {
        "id": "JFf4rkUabQwE"
      },
      "source": [
        "# 27.1 Undo transformation by MinMaxScaler\n",
        "\n",
        "val_preds = target_scaler.inverse_transform(val_preds)  "
      ],
      "execution_count": 80,
      "outputs": []
    },
    {
      "cell_type": "code",
      "metadata": {
        "id": "XKwqUXDec0Wn",
        "colab": {
          "base_uri": "https://localhost:8080/"
        },
        "outputId": "d4b3728e-bba4-4f2d-871e-0b2b0aa8c231"
      },
      "source": [
        "# 27.2 Undo logs:\n",
        "\n",
        "val_preds = np.exp(val_preds) - 1   # It should be -1. Original code has +1\n",
        "print(val_preds[:10])     # (10,1)\n",
        "\n",
        "print(val_preds[:10, 0])  # Convert to 1D\n",
        "y_pred = val_preds[:,0]"
      ],
      "execution_count": 81,
      "outputs": [
        {
          "output_type": "stream",
          "name": "stdout",
          "text": [
            "[[40.05217 ]\n",
            " [11.793141]\n",
            " [25.48936 ]\n",
            " [15.912708]\n",
            " [37.239853]\n",
            " [13.177496]\n",
            " [17.876062]\n",
            " [30.006006]\n",
            " [25.472042]\n",
            " [22.148905]]\n",
            "[40.05217  11.793141 25.48936  15.912708 37.239853 13.177496 17.876062\n",
            " 30.006006 25.472042 22.148905]\n"
          ]
        }
      ]
    },
    {
      "cell_type": "code",
      "metadata": {
        "_cell_guid": "0bfc00c9-37d7-4ebe-9f9c-2bf0661aef3c",
        "_uuid": "5065d64200d6c4675901e727ddf87afc8136a0c3",
        "id": "rZKU5rqRYCFg",
        "colab": {
          "base_uri": "https://localhost:8080/"
        },
        "outputId": "2b8f1472-d649-40da-a925-df5b173378a8"
      },
      "source": [
        "# 27.3 Mean_squared_log_error\n",
        "y_true = np.array(dvalid.price.values)\n",
        "y_true[:10]\n",
        "\n",
        "# 27.4\n",
        "v_rmsle = rmsle(y_true, y_pred)\n",
        "print(\"\\n RMSLE error on dev test: \"+str(v_rmsle))"
      ],
      "execution_count": 82,
      "outputs": [
        {
          "output_type": "execute_result",
          "data": {
            "text/plain": [
              "array([31., 15., 26., 16., 50.,  7., 23., 23., 60., 16.])"
            ]
          },
          "metadata": {},
          "execution_count": 82
        },
        {
          "output_type": "stream",
          "name": "stdout",
          "text": [
            "\n",
            " RMSLE error on dev test: 0.4699601835836483\n"
          ]
        }
      ]
    },
    {
      "cell_type": "code",
      "metadata": {
        "_cell_guid": "996256b1-8628-4a8a-9e75-2eae09fa7d6e",
        "_uuid": "59772da91cbcb781396138d860d7875a23accaa9",
        "id": "tHEiIi9BYCFg",
        "colab": {
          "base_uri": "https://localhost:8080/"
        },
        "outputId": "2191a806-1d5c-4f1a-ae77-e0ccd48a431d"
      },
      "source": [
        "\n",
        "# 20. Create Predictions on test data\n",
        "preds = model.predict(X_test, batch_size=BATCH_SIZE)\n",
        "preds = target_scaler.inverse_transform(preds)\n",
        "preds = np.exp(preds)-1\n",
        "\n",
        "# 20.1\n",
        "submission = test[[\"test_id\"]]\n",
        "submission[\"price\"] = preds"
      ],
      "execution_count": 83,
      "outputs": [
        {
          "output_type": "stream",
          "name": "stderr",
          "text": [
            "/usr/local/lib/python3.7/dist-packages/ipykernel_launcher.py:9: SettingWithCopyWarning: \n",
            "A value is trying to be set on a copy of a slice from a DataFrame.\n",
            "Try using .loc[row_indexer,col_indexer] = value instead\n",
            "\n",
            "See the caveats in the documentation: https://pandas.pydata.org/pandas-docs/stable/user_guide/indexing.html#returning-a-view-versus-a-copy\n",
            "  if __name__ == '__main__':\n"
          ]
        }
      ]
    },
    {
      "cell_type": "code",
      "metadata": {
        "_cell_guid": "8b76a6c9-fa82-4011-82ab-0384b8e2e5b4",
        "_uuid": "270683b6ea8391d536aa86deeb7d0b381a9006ba",
        "id": "CLkioaWtYCFh",
        "colab": {
          "base_uri": "https://localhost:8080/",
          "height": 281
        },
        "outputId": "5fa2a84c-db02-40ee-8a23-b892ff78ff6e"
      },
      "source": [
        "# 20.2 Should you want to submit on \n",
        "submission.to_csv(\"./myNNsubmission.csv\", index=False)\n",
        "submission.price.hist()\n"
      ],
      "execution_count": 84,
      "outputs": [
        {
          "output_type": "execute_result",
          "data": {
            "text/plain": [
              "<matplotlib.axes._subplots.AxesSubplot at 0x7f8c66344310>"
            ]
          },
          "metadata": {},
          "execution_count": 84
        },
        {
          "output_type": "display_data",
          "data": {
            "image/png": "[encoded data removed]",
            "text/plain": [
              "<Figure size 432x288 with 1 Axes>"
            ]
          },
          "metadata": {
            "needs_background": "light"
          }
        }
      ]
    },
    {
      "cell_type": "code",
      "metadata": {
        "id": "mdPufi1XFgsQ"
      },
      "source": [
        ""
      ],
      "execution_count": null,
      "outputs": []
    }
  ]
}
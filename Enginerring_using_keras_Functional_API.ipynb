{
  "nbformat": 4,
  "nbformat_minor": 0,
  "metadata": {
    "colab": {
      "name": "Enginerring_using_keras_Functional_API.ipynb",
      "provenance": [],
      "collapsed_sections": []
    },
    "kernelspec": {
      "name": "python3",
      "display_name": "Python 3"
    }
  },
  "cells": [
    {
      "cell_type": "code",
      "metadata": {
        "id": "AYl2nTZg7MRe"
      },
      "source": [
        "# 1.0 Import libraries\n",
        "import pandas as pd\n",
        "import numpy as np\n",
        "from sklearn.datasets import fetch_california_housing\n",
        "from sklearn.model_selection import train_test_split\n",
        "from sklearn.preprocessing import StandardScaler\n",
        "\n",
        "# 1.1 Import tensorflow/keras \n",
        "import tensorflow as tf\n",
        "from tensorflow.keras import layers \n",
        "from tensorflow.keras.models import Model\n",
        "from tensorflow.keras.utils import plot_model"
      ],
      "execution_count": 1,
      "outputs": []
    },
    {
      "cell_type": "code",
      "metadata": {
        "id": "RtYhfSLVGVC_"
      },
      "source": [
        "# 1.2 Display multiple outputs from a Cell\n",
        "\n",
        "from IPython.core.interactiveshell import InteractiveShell\n",
        "InteractiveShell.ast_node_interactivity = \"all\"\n"
      ],
      "execution_count": 2,
      "outputs": []
    },
    {
      "cell_type": "code",
      "metadata": {
        "id": "XzwqXlRY6uH7",
        "colab": {
          "base_uri": "https://localhost:8080/"
        },
        "outputId": "a5067600-21be-42d8-dab1-41c1450ad1d3"
      },
      "source": [
        "# 2.0 Get Data\n",
        "#     The data needs little processing\n",
        "housing = fetch_california_housing(return_X_y= False)\n",
        "type(housing)   # sklearn.utils.Bunch"
      ],
      "execution_count": 4,
      "outputs": [
        {
          "output_type": "execute_result",
          "data": {
            "text/plain": [
              "sklearn.utils.Bunch"
            ]
          },
          "metadata": {},
          "execution_count": 4
        }
      ]
    },
    {
      "cell_type": "code",
      "metadata": {
        "id": "gxD2EQQ56_Z4",
        "colab": {
          "base_uri": "https://localhost:8080/"
        },
        "outputId": "c7cbd9b0-3529-4e7b-91ee-bb82575df981"
      },
      "source": [
        "# 2.1 Seperate X,y\n",
        "X = housing.data\n",
        "y = housing.target\n",
        "X.shape   # (20640, 8)"
      ],
      "execution_count": 5,
      "outputs": [
        {
          "output_type": "execute_result",
          "data": {
            "text/plain": [
              "(20640, 8)"
            ]
          },
          "metadata": {},
          "execution_count": 5
        }
      ]
    },
    {
      "cell_type": "code",
      "metadata": {
        "id": "uvMIw9A1d-1R",
        "colab": {
          "base_uri": "https://localhost:8080/"
        },
        "outputId": "ca9d2adf-1ecb-492e-f1a5-b732ee43bc6c"
      },
      "source": [
        "# 2.1.1\n",
        "X.shape\n",
        "y.shape"
      ],
      "execution_count": 6,
      "outputs": [
        {
          "output_type": "execute_result",
          "data": {
            "text/plain": [
              "(20640, 8)"
            ]
          },
          "metadata": {},
          "execution_count": 6
        },
        {
          "output_type": "execute_result",
          "data": {
            "text/plain": [
              "(20640,)"
            ]
          },
          "metadata": {},
          "execution_count": 6
        }
      ]
    },
    {
      "cell_type": "code",
      "metadata": {
        "id": "ha_HncyCmS9y"
      },
      "source": [
        "# 2.2 Normalize input data\n",
        "ss = StandardScaler()\n",
        "X = ss.fit_transform(X)"
      ],
      "execution_count": 7,
      "outputs": []
    },
    {
      "cell_type": "code",
      "metadata": {
        "id": "uogWyNdXGfm3",
        "colab": {
          "base_uri": "https://localhost:8080/"
        },
        "outputId": "636b4d3c-e8eb-488c-a7a4-897428df4ecb"
      },
      "source": [
        "# 2.3 Show data field names\n",
        "print(housing.DESCR)\n",
        "housing.feature_names"
      ],
      "execution_count": 9,
      "outputs": [
        {
          "output_type": "stream",
          "name": "stdout",
          "text": [
            ".. _california_housing_dataset:\n",
            "\n",
            "California Housing dataset\n",
            "--------------------------\n",
            "\n",
            "**Data Set Characteristics:**\n",
            "\n",
            "    :Number of Instances: 20640\n",
            "\n",
            "    :Number of Attributes: 8 numeric, predictive attributes and the target\n",
            "\n",
            "    :Attribute Information:\n",
            "        - MedInc        median income in block group\n",
            "        - HouseAge      median house age in block group\n",
            "        - AveRooms      average number of rooms per household\n",
            "        - AveBedrms     average number of bedrooms per household\n",
            "        - Population    block group population\n",
            "        - AveOccup      average number of household members\n",
            "        - Latitude      block group latitude\n",
            "        - Longitude     block group longitude\n",
            "\n",
            "    :Missing Attribute Values: None\n",
            "\n",
            "This dataset was obtained from the StatLib repository.\n",
            "https://www.dcc.fc.up.pt/~ltorgo/Regression/cal_housing.html\n",
            "\n",
            "The target variable is the median house value for California districts,\n",
            "expressed in hundreds of thousands of dollars ($100,000).\n",
            "\n",
            "This dataset was derived from the 1990 U.S. census, using one row per census\n",
            "block group. A block group is the smallest geographical unit for which the U.S.\n",
            "Census Bureau publishes sample data (a block group typically has a population\n",
            "of 600 to 3,000 people).\n",
            "\n",
            "An household is a group of people residing within a home. Since the average\n",
            "number of rooms and bedrooms in this dataset are provided per household, these\n",
            "columns may take surpinsingly large values for block groups with few households\n",
            "and many empty houses, such as vacation resorts.\n",
            "\n",
            "It can be downloaded/loaded using the\n",
            ":func:`sklearn.datasets.fetch_california_housing` function.\n",
            "\n",
            ".. topic:: References\n",
            "\n",
            "    - Pace, R. Kelley and Ronald Barry, Sparse Spatial Autoregressions,\n",
            "      Statistics and Probability Letters, 33 (1997) 291-297\n",
            "\n"
          ]
        },
        {
          "output_type": "execute_result",
          "data": {
            "text/plain": [
              "['MedInc',\n",
              " 'HouseAge',\n",
              " 'AveRooms',\n",
              " 'AveBedrms',\n",
              " 'Population',\n",
              " 'AveOccup',\n",
              " 'Latitude',\n",
              " 'Longitude']"
            ]
          },
          "metadata": {},
          "execution_count": 9
        }
      ]
    },
    {
      "cell_type": "code",
      "metadata": {
        "colab": {
          "base_uri": "https://localhost:8080/"
        },
        "id": "rzWFuUd9Mf-0",
        "outputId": "01aa5cde-fdf1-4d89-8f42-7609124091d9"
      },
      "source": [
        "# 3.0 Split train/test data\n",
        "X_train,X_test, y_train,y_test = train_test_split(X,y,test_size = 0.2)\n",
        "X_train.shape   # (16512, 8)\n",
        "X_test.shape    # (4128, 8)"
      ],
      "execution_count": 10,
      "outputs": [
        {
          "output_type": "execute_result",
          "data": {
            "text/plain": [
              "(16512, 8)"
            ]
          },
          "metadata": {},
          "execution_count": 10
        },
        {
          "output_type": "execute_result",
          "data": {
            "text/plain": [
              "(4128, 8)"
            ]
          },
          "metadata": {},
          "execution_count": 10
        }
      ]
    },
    {
      "cell_type": "code",
      "metadata": {
        "id": "EZDEXIViftqT",
        "colab": {
          "base_uri": "https://localhost:8080/"
        },
        "outputId": "693372f5-de8d-4910-afff-8411816381fc"
      },
      "source": [
        "# 3.1 Design model\n",
        "\n",
        "# 3.1.1 Inputs to model. Note that inputs is NOT\n",
        "#       a part of layers object\n",
        "#       Input() is used to instantiate a Keras tensor.\n",
        "#       This tensor will get populated when .fit() is\n",
        "#       invoked and data starts flowing in.\n",
        "#       Purpose: Define what tensor shape is to be expected\n",
        "#                by the model\n",
        "\n",
        "inputs = tf.keras.Input(shape = X.shape[1], batch_size=None)\n",
        "type(inputs)"
      ],
      "execution_count": 11,
      "outputs": [
        {
          "output_type": "execute_result",
          "data": {
            "text/plain": [
              "keras.engine.keras_tensor.KerasTensor"
            ]
          },
          "metadata": {},
          "execution_count": 11
        }
      ]
    },
    {
      "cell_type": "code",
      "metadata": {
        "id": "7hJmwSOOf4BV",
        "colab": {
          "base_uri": "https://localhost:8080/"
        },
        "outputId": "bf0b12ba-e0b5-43aa-c2a5-4c8e60d6f3f2"
      },
      "source": [
        "# 3.1.2 Examine the tensor object\n",
        "print(inputs.dtype)\n",
        "print(inputs.shape)\n",
        "print(inputs.name)"
      ],
      "execution_count": 12,
      "outputs": [
        {
          "output_type": "stream",
          "name": "stdout",
          "text": [
            "<dtype: 'float32'>\n",
            "(None, 8)\n",
            "input_1\n"
          ]
        }
      ]
    },
    {
      "cell_type": "code",
      "metadata": {
        "id": "3CUFOUbujkpS"
      },
      "source": [
        "# 3.2 Add layers. Each layer outputs a tensor:\n",
        "\n",
        "x = layers.Dense(100, activation = 'relu')(inputs)"
      ],
      "execution_count": 13,
      "outputs": []
    },
    {
      "cell_type": "code",
      "metadata": {
        "id": "7iBWEkbUmBRE",
        "colab": {
          "base_uri": "https://localhost:8080/"
        },
        "outputId": "ecf9741e-1fdd-4b41-e44c-eed388187cd5"
      },
      "source": [
        "# 3.2.1 Get nature of 'x'\n",
        "\n",
        "print(type(x))\n",
        "print(x.shape )  # (None, 100)"
      ],
      "execution_count": 14,
      "outputs": [
        {
          "output_type": "stream",
          "name": "stdout",
          "text": [
            "<class 'keras.engine.keras_tensor.KerasTensor'>\n",
            "(None, 100)\n"
          ]
        }
      ]
    },
    {
      "cell_type": "code",
      "metadata": {
        "id": "JOPzYvEcj4IA",
        "colab": {
          "base_uri": "https://localhost:8080/"
        },
        "outputId": "e927a989-abb6-4961-f500-8a7964b09606"
      },
      "source": [
        "# 3.2.2 Examine x:\n",
        "\n",
        "type(x)\n",
        "x.shape"
      ],
      "execution_count": 15,
      "outputs": [
        {
          "output_type": "execute_result",
          "data": {
            "text/plain": [
              "keras.engine.keras_tensor.KerasTensor"
            ]
          },
          "metadata": {},
          "execution_count": 15
        },
        {
          "output_type": "execute_result",
          "data": {
            "text/plain": [
              "TensorShape([None, 100])"
            ]
          },
          "metadata": {},
          "execution_count": 15
        }
      ]
    },
    {
      "cell_type": "code",
      "metadata": {
        "id": "JouACnATIIUF"
      },
      "source": [
        "# 3.3 Add ome more layer:\n",
        "\n",
        "x = layers.Dense(100, activation = 'relu')(x)"
      ],
      "execution_count": 16,
      "outputs": []
    },
    {
      "cell_type": "code",
      "metadata": {
        "id": "_ZEHAgf6mtUk"
      },
      "source": [
        "# 3.3.1\n",
        "x = tf.keras.layers.concatenate([x,inputs])\n",
        "out = layers.Dense(1,activation = 'sigmoid')(x)\n",
        "\n",
        "# 3.3.1 Create model now\n",
        "model = Model(inputs = [inputs], outputs = [out])"
      ],
      "execution_count": 17,
      "outputs": []
    },
    {
      "cell_type": "code",
      "metadata": {
        "id": "zZmSNOwJJ2cf",
        "colab": {
          "base_uri": "https://localhost:8080/"
        },
        "outputId": "4cfc8ed3-5830-40cc-8eec-0f5ffb0ed510"
      },
      "source": [
        "# 3.4 Print model summary\n",
        "model.summary()"
      ],
      "execution_count": 18,
      "outputs": [
        {
          "output_type": "stream",
          "name": "stdout",
          "text": [
            "Model: \"model\"\n",
            "__________________________________________________________________________________________________\n",
            " Layer (type)                   Output Shape         Param #     Connected to                     \n",
            "==================================================================================================\n",
            " input_1 (InputLayer)           [(None, 8)]          0           []                               \n",
            "                                                                                                  \n",
            " dense (Dense)                  (None, 100)          900         ['input_1[0][0]']                \n",
            "                                                                                                  \n",
            " dense_1 (Dense)                (None, 100)          10100       ['dense[0][0]']                  \n",
            "                                                                                                  \n",
            " concatenate (Concatenate)      (None, 108)          0           ['dense_1[0][0]',                \n",
            "                                                                  'input_1[0][0]']                \n",
            "                                                                                                  \n",
            " dense_2 (Dense)                (None, 1)            109         ['concatenate[0][0]']            \n",
            "                                                                                                  \n",
            "==================================================================================================\n",
            "Total params: 11,109\n",
            "Trainable params: 11,109\n",
            "Non-trainable params: 0\n",
            "__________________________________________________________________________________________________\n"
          ]
        }
      ]
    },
    {
      "cell_type": "code",
      "metadata": {
        "id": "2ex5iFJiHkDR",
        "colab": {
          "base_uri": "https://localhost:8080/",
          "height": 532
        },
        "outputId": "23fd889b-776b-405f-be87-9a53caa02544"
      },
      "source": [
        "# 3.6 Display model now\n",
        "# Ref: https://www.tensorflow.org/api_docs/python/tf/keras/utils/plot_model\n",
        "plot_model(model, show_shapes= True)"
      ],
      "execution_count": 19,
      "outputs": [
        {
          "output_type": "execute_result",
          "data": {
            "image/png": "[encoded data removed]",
            "text/plain": [
              "<IPython.core.display.Image object>"
            ]
          },
          "metadata": {},
          "execution_count": 19
        }
      ]
    },
    {
      "cell_type": "code",
      "metadata": {
        "id": "u7X1WpoaJ8vZ",
        "colab": {
          "base_uri": "https://localhost:8080/"
        },
        "outputId": "be99bc0b-d0a2-4dad-8f85-aa898e337def"
      },
      "source": [
        "# 3.7 Compile model\n",
        "model.compile(loss = \"mean_squared_error\")  \n",
        "history = model.fit(\n",
        "                    X_train,\n",
        "                    y_train,\n",
        "                    epochs = 50,\n",
        "                    verbose = 1\n",
        "                    )"
      ],
      "execution_count": 20,
      "outputs": [
        {
          "output_type": "stream",
          "name": "stdout",
          "text": [
            "Epoch 1/50\n",
            "516/516 [==============================] - 1s 1ms/step - loss: 2.4901\n",
            "Epoch 2/50\n",
            "516/516 [==============================] - 1s 1ms/step - loss: 2.4623\n",
            "Epoch 3/50\n",
            "516/516 [==============================] - 1s 1ms/step - loss: 2.4617\n",
            "Epoch 4/50\n",
            "516/516 [==============================] - 1s 1ms/step - loss: 2.4610\n",
            "Epoch 5/50\n",
            "516/516 [==============================] - 1s 1ms/step - loss: 2.4604\n",
            "Epoch 6/50\n",
            "516/516 [==============================] - 1s 1ms/step - loss: 2.4600\n",
            "Epoch 7/50\n",
            "516/516 [==============================] - 1s 1ms/step - loss: 2.4596\n",
            "Epoch 8/50\n",
            "516/516 [==============================] - 1s 1ms/step - loss: 2.4594\n",
            "Epoch 9/50\n",
            "516/516 [==============================] - 1s 1ms/step - loss: 2.4592\n",
            "Epoch 10/50\n",
            "516/516 [==============================] - 1s 1ms/step - loss: 2.4591\n",
            "Epoch 11/50\n",
            "516/516 [==============================] - 1s 1ms/step - loss: 2.4589\n",
            "Epoch 12/50\n",
            "516/516 [==============================] - 1s 1ms/step - loss: 2.4588\n",
            "Epoch 13/50\n",
            "516/516 [==============================] - 1s 1ms/step - loss: 2.4586\n",
            "Epoch 14/50\n",
            "516/516 [==============================] - 1s 1ms/step - loss: 2.4584\n",
            "Epoch 15/50\n",
            "516/516 [==============================] - 1s 1ms/step - loss: 2.4584\n",
            "Epoch 16/50\n",
            "516/516 [==============================] - 1s 1ms/step - loss: 2.4583\n",
            "Epoch 17/50\n",
            "516/516 [==============================] - 1s 1ms/step - loss: 2.4582\n",
            "Epoch 18/50\n",
            "516/516 [==============================] - 1s 1ms/step - loss: 2.4581\n",
            "Epoch 19/50\n",
            "516/516 [==============================] - 1s 1ms/step - loss: 2.4580\n",
            "Epoch 20/50\n",
            "516/516 [==============================] - 1s 1ms/step - loss: 2.4580\n",
            "Epoch 21/50\n",
            "516/516 [==============================] - 1s 1ms/step - loss: 2.4579\n",
            "Epoch 22/50\n",
            "516/516 [==============================] - 1s 1ms/step - loss: 2.4579\n",
            "Epoch 23/50\n",
            "516/516 [==============================] - 1s 1ms/step - loss: 2.4578\n",
            "Epoch 24/50\n",
            "516/516 [==============================] - 1s 1ms/step - loss: 2.4578\n",
            "Epoch 25/50\n",
            "516/516 [==============================] - 1s 1ms/step - loss: 2.4577\n",
            "Epoch 26/50\n",
            "516/516 [==============================] - 1s 1ms/step - loss: 2.4577\n",
            "Epoch 27/50\n",
            "516/516 [==============================] - 1s 1ms/step - loss: 2.4577\n",
            "Epoch 28/50\n",
            "516/516 [==============================] - 1s 1ms/step - loss: 2.4576\n",
            "Epoch 29/50\n",
            "516/516 [==============================] - 1s 1ms/step - loss: 2.4575\n",
            "Epoch 30/50\n",
            "516/516 [==============================] - 1s 1ms/step - loss: 2.4576\n",
            "Epoch 31/50\n",
            "516/516 [==============================] - 1s 1ms/step - loss: 2.4576\n",
            "Epoch 32/50\n",
            "516/516 [==============================] - 1s 1ms/step - loss: 2.4574\n",
            "Epoch 33/50\n",
            "516/516 [==============================] - 1s 1ms/step - loss: 2.4574\n",
            "Epoch 34/50\n",
            "516/516 [==============================] - 1s 1ms/step - loss: 2.4574\n",
            "Epoch 35/50\n",
            "516/516 [==============================] - 1s 1ms/step - loss: 2.4574\n",
            "Epoch 36/50\n",
            "516/516 [==============================] - 1s 1ms/step - loss: 2.4573\n",
            "Epoch 37/50\n",
            "516/516 [==============================] - 1s 1ms/step - loss: 2.4573\n",
            "Epoch 38/50\n",
            "516/516 [==============================] - 1s 1ms/step - loss: 2.4573\n",
            "Epoch 39/50\n",
            "516/516 [==============================] - 1s 1ms/step - loss: 2.4573\n",
            "Epoch 40/50\n",
            "516/516 [==============================] - 1s 1ms/step - loss: 2.4572\n",
            "Epoch 41/50\n",
            "516/516 [==============================] - 1s 1ms/step - loss: 2.4572\n",
            "Epoch 42/50\n",
            "516/516 [==============================] - 1s 1ms/step - loss: 2.4571\n",
            "Epoch 43/50\n",
            "516/516 [==============================] - 1s 1ms/step - loss: 2.4571\n",
            "Epoch 44/50\n",
            "516/516 [==============================] - 1s 1ms/step - loss: 2.4571\n",
            "Epoch 45/50\n",
            "516/516 [==============================] - 1s 1ms/step - loss: 2.4571\n",
            "Epoch 46/50\n",
            "516/516 [==============================] - 1s 1ms/step - loss: 2.4571\n",
            "Epoch 47/50\n",
            "516/516 [==============================] - 1s 1ms/step - loss: 2.4570\n",
            "Epoch 48/50\n",
            "516/516 [==============================] - 1s 1ms/step - loss: 2.4571\n",
            "Epoch 49/50\n",
            "516/516 [==============================] - 1s 1ms/step - loss: 2.4570\n",
            "Epoch 50/50\n",
            "516/516 [==============================] - 1s 1ms/step - loss: 2.4570\n"
          ]
        }
      ]
    },
    {
      "cell_type": "code",
      "metadata": {
        "id": "6QQ8xAgGLTOo",
        "colab": {
          "base_uri": "https://localhost:8080/"
        },
        "outputId": "a1f49d9c-ab0b-4677-ae4c-0e159c2d78cd"
      },
      "source": [
        "# 3.8 \n",
        "model.evaluate(X_test,y_test)  # 2.56280517578125"
      ],
      "execution_count": 21,
      "outputs": [
        {
          "output_type": "stream",
          "name": "stdout",
          "text": [
            "129/129 [==============================] - 0s 1ms/step - loss: 2.4906\n"
          ]
        },
        {
          "output_type": "execute_result",
          "data": {
            "text/plain": [
              "2.490623712539673"
            ]
          },
          "metadata": {},
          "execution_count": 21
        }
      ]
    },
    {
      "cell_type": "markdown",
      "metadata": {
        "id": "EOpJgAoQaW7I"
      },
      "source": [
        "## Wide and Deep Network--Convolution Network"
      ]
    },
    {
      "cell_type": "code",
      "metadata": {
        "id": "zcCGRctmcN5T"
      },
      "source": [
        "# 4.1 Regarding train data\n",
        "no_of_samples_tr = X_train.shape[0]             # Each row is one sample: 7705\n",
        "input_features = X_train.shape[1]               # No of features: 178\n",
        "channels = 1\n",
        "batch_size_tr = no_of_samples_tr                # Data being less, we will\n",
        "                                                # use all samples in the batch"
      ],
      "execution_count": 22,
      "outputs": []
    },
    {
      "cell_type": "code",
      "metadata": {
        "id": "Gq7FJ1GycZDC"
      },
      "source": [
        "# 4.2 Regarding test data\n",
        "no_of_samples_test = X_test.shape[0]           # 3795\n",
        "input_features = X_test.shape[1]               # No of features. 178\n",
        "channels = 1\n",
        "batch_size_test = no_of_samples_test           # 3795"
      ],
      "execution_count": 23,
      "outputs": []
    },
    {
      "cell_type": "code",
      "metadata": {
        "id": "cIEQ7r9-cTKb"
      },
      "source": [
        "# 4.3 Reshape input train/test data as required by Keras for conv1D\n",
        "train = X_train.reshape((no_of_samples_tr  , input_features, channels))\n",
        "test  = X_test.reshape(( no_of_samples_test, input_features, channels))"
      ],
      "execution_count": 24,
      "outputs": []
    },
    {
      "cell_type": "code",
      "metadata": {
        "id": "cSGOF4qO2hZi"
      },
      "source": [
        " # 5.0 Design model\n",
        "\n",
        "# 5.1 Inputs to model. Note that inputs is NOT\n",
        "#       a part of layers object\n",
        "\n",
        "inputs = tf.keras.Input(shape = (X.shape[1],1))\n"
      ],
      "execution_count": 25,
      "outputs": []
    },
    {
      "cell_type": "code",
      "metadata": {
        "id": "ovs3GrTzanEx"
      },
      "source": [
        "# 5.2 Add convolution layers to left arm\n",
        "x_left = layers.Conv1D(\n",
        "                       filters = 32,\n",
        "                       kernel_size=3,\n",
        "                       activation='relu'\n",
        "                       )(inputs)\n",
        "\n",
        "# 5.2.1\n",
        "x_left = layers.Conv1D(\n",
        "                       filters = 64,\n",
        "                       kernel_size=3,\n",
        "                       activation='relu'\n",
        "                       )(x_left)"
      ],
      "execution_count": 26,
      "outputs": []
    },
    {
      "cell_type": "code",
      "metadata": {
        "id": "iFECHg4Kar0Q"
      },
      "source": [
        "# 5.3 Add convolution layers to right arm\n",
        "\n",
        "x_rt = layers.Conv1D(filters = 64, kernel_size=3,activation='relu')(inputs)\n",
        "\n",
        "# 5.3.1\n",
        "x_rt = layers.Conv1D(filters = 128, kernel_size=3,activation='relu')(x_rt)\n"
      ],
      "execution_count": 27,
      "outputs": []
    },
    {
      "cell_type": "code",
      "metadata": {
        "id": "2PwwWFJJSa2c"
      },
      "source": [
        "# 5.4 Concatenate layers & Flatten:\n",
        "\n",
        "x = tf.keras.layers.concatenate([x_left,x_rt])\n",
        "x = layers.Flatten()(x)"
      ],
      "execution_count": 28,
      "outputs": []
    },
    {
      "cell_type": "code",
      "metadata": {
        "id": "tuXRzMO7a8iD"
      },
      "source": [
        "# 5.5 Add Dense (classification) layers\n",
        "\n",
        "x = layers.Dense(64, activation = 'relu')(x)\n",
        "x = layers.Dropout(0.5)(x)\n",
        "x = layers.Dense(128, activation = 'relu')(x)"
      ],
      "execution_count": 33,
      "outputs": []
    },
    {
      "cell_type": "code",
      "metadata": {
        "id": "fYPEXX6-bFrS"
      },
      "source": [
        "# 5.6 Final layer & model:\n",
        "\n",
        "out = layers.Dense(1,activation = 'sigmoid')(x)"
      ],
      "execution_count": 30,
      "outputs": []
    },
    {
      "cell_type": "code",
      "metadata": {
        "id": "uoteGfQibq-f"
      },
      "source": [
        "# 5.7 Create model now\n",
        "model1 = Model(inputs = [inputs], outputs = [out])"
      ],
      "execution_count": 31,
      "outputs": []
    },
    {
      "cell_type": "code",
      "metadata": {
        "colab": {
          "base_uri": "https://localhost:8080/",
          "height": 976
        },
        "id": "z8oXJc35rInq",
        "outputId": "54744cdb-c2d0-4ee7-da5c-2b219ce76d6c"
      },
      "source": [
        "# 5.8 Display model now\n",
        "\n",
        "plot_model(model1, show_shapes= True)"
      ],
      "execution_count": 32,
      "outputs": [
        {
          "output_type": "execute_result",
          "data": {
            "image/png": "[encoded data removed]",
            "text/plain": [
              "<IPython.core.display.Image object>"
            ]
          },
          "metadata": {},
          "execution_count": 32
        }
      ]
    },
    {
      "cell_type": "code",
      "metadata": {
        "id": "Efzjg2ypSn8-",
        "colab": {
          "base_uri": "https://localhost:8080/"
        },
        "outputId": "1de9e968-9491-44aa-b2c1-cd89c668123d"
      },
      "source": [
        "# 5.8 Compile model\n",
        "\n",
        "model1.compile(loss = \"mean_squared_error\", optimizer='adam')  \n",
        "history = model1.fit(\n",
        "                    train,\n",
        "                    y_train,\n",
        "                    epochs = 50,\n",
        "                    verbose = 1\n",
        "                    )"
      ],
      "execution_count": 34,
      "outputs": [
        {
          "output_type": "stream",
          "name": "stdout",
          "text": [
            "Epoch 1/50\n",
            "516/516 [==============================] - 3s 4ms/step - loss: 2.4888\n",
            "Epoch 2/50\n",
            "516/516 [==============================] - 2s 4ms/step - loss: 2.4670\n",
            "Epoch 3/50\n",
            "516/516 [==============================] - 2s 4ms/step - loss: 2.4670\n",
            "Epoch 4/50\n",
            "516/516 [==============================] - 2s 4ms/step - loss: 2.4670\n",
            "Epoch 5/50\n",
            "516/516 [==============================] - 2s 4ms/step - loss: 2.4670\n",
            "Epoch 6/50\n",
            "516/516 [==============================] - 2s 4ms/step - loss: 2.4670\n",
            "Epoch 7/50\n",
            "516/516 [==============================] - 2s 4ms/step - loss: 2.4670\n",
            "Epoch 8/50\n",
            "516/516 [==============================] - 2s 4ms/step - loss: 2.4670\n",
            "Epoch 9/50\n",
            "516/516 [==============================] - 2s 4ms/step - loss: 2.4670\n",
            "Epoch 10/50\n",
            "516/516 [==============================] - 2s 4ms/step - loss: 2.4670\n",
            "Epoch 11/50\n",
            "516/516 [==============================] - 2s 4ms/step - loss: 2.4670\n",
            "Epoch 12/50\n",
            "516/516 [==============================] - 2s 4ms/step - loss: 2.4670\n",
            "Epoch 13/50\n",
            "516/516 [==============================] - 2s 4ms/step - loss: 2.4670\n",
            "Epoch 14/50\n",
            "516/516 [==============================] - 2s 4ms/step - loss: 2.4670\n",
            "Epoch 15/50\n",
            "516/516 [==============================] - 2s 4ms/step - loss: 2.4670\n",
            "Epoch 16/50\n",
            "516/516 [==============================] - 2s 4ms/step - loss: 2.4670\n",
            "Epoch 17/50\n",
            "516/516 [==============================] - 2s 4ms/step - loss: 2.4670\n",
            "Epoch 18/50\n",
            "516/516 [==============================] - 2s 4ms/step - loss: 2.4670\n",
            "Epoch 19/50\n",
            "516/516 [==============================] - 2s 4ms/step - loss: 2.4670\n",
            "Epoch 20/50\n",
            "516/516 [==============================] - 2s 4ms/step - loss: 2.4670\n",
            "Epoch 21/50\n",
            "516/516 [==============================] - 2s 4ms/step - loss: 2.4670\n",
            "Epoch 22/50\n",
            "516/516 [==============================] - 2s 4ms/step - loss: 2.4670\n",
            "Epoch 23/50\n",
            "516/516 [==============================] - 2s 4ms/step - loss: 2.4670\n",
            "Epoch 24/50\n",
            "516/516 [==============================] - 2s 4ms/step - loss: 2.4670\n",
            "Epoch 25/50\n",
            "516/516 [==============================] - 2s 4ms/step - loss: 2.4670\n",
            "Epoch 26/50\n",
            "516/516 [==============================] - 2s 4ms/step - loss: 2.4670\n",
            "Epoch 27/50\n",
            "516/516 [==============================] - 2s 4ms/step - loss: 2.4670\n",
            "Epoch 28/50\n",
            "516/516 [==============================] - 2s 4ms/step - loss: 2.4670\n",
            "Epoch 29/50\n",
            "516/516 [==============================] - 2s 4ms/step - loss: 2.4670\n",
            "Epoch 30/50\n",
            "516/516 [==============================] - 2s 4ms/step - loss: 2.4670\n",
            "Epoch 31/50\n",
            "516/516 [==============================] - 2s 4ms/step - loss: 2.4670\n",
            "Epoch 32/50\n",
            "516/516 [==============================] - 2s 4ms/step - loss: 2.4670\n",
            "Epoch 33/50\n",
            "516/516 [==============================] - 2s 4ms/step - loss: 2.4670\n",
            "Epoch 34/50\n",
            "516/516 [==============================] - 2s 4ms/step - loss: 2.4670\n",
            "Epoch 35/50\n",
            "516/516 [==============================] - 2s 4ms/step - loss: 2.4670\n",
            "Epoch 36/50\n",
            "516/516 [==============================] - 2s 4ms/step - loss: 2.4670\n",
            "Epoch 37/50\n",
            "516/516 [==============================] - 2s 4ms/step - loss: 2.4670\n",
            "Epoch 38/50\n",
            "516/516 [==============================] - 2s 4ms/step - loss: 2.4670\n",
            "Epoch 39/50\n",
            "516/516 [==============================] - 2s 4ms/step - loss: 2.4670\n",
            "Epoch 40/50\n",
            "516/516 [==============================] - 2s 4ms/step - loss: 2.4670\n",
            "Epoch 41/50\n",
            "516/516 [==============================] - 2s 4ms/step - loss: 2.4670\n",
            "Epoch 42/50\n",
            "516/516 [==============================] - 2s 4ms/step - loss: 2.4670\n",
            "Epoch 43/50\n",
            "516/516 [==============================] - 2s 4ms/step - loss: 2.4670\n",
            "Epoch 44/50\n",
            "516/516 [==============================] - 2s 4ms/step - loss: 2.4670\n",
            "Epoch 45/50\n",
            "516/516 [==============================] - 2s 4ms/step - loss: 2.4670\n",
            "Epoch 46/50\n",
            "516/516 [==============================] - 2s 4ms/step - loss: 2.4670\n",
            "Epoch 47/50\n",
            "516/516 [==============================] - 2s 4ms/step - loss: 2.4670\n",
            "Epoch 48/50\n",
            "516/516 [==============================] - 2s 4ms/step - loss: 2.4670\n",
            "Epoch 49/50\n",
            "516/516 [==============================] - 2s 4ms/step - loss: 2.4670\n",
            "Epoch 50/50\n",
            "516/516 [==============================] - 2s 4ms/step - loss: 2.4670\n"
          ]
        }
      ]
    },
    {
      "cell_type": "code",
      "metadata": {
        "id": "aam476z7eGTU",
        "colab": {
          "base_uri": "https://localhost:8080/"
        },
        "outputId": "ea37cca8-0c4c-4e36-ea44-3dfc218c93e0"
      },
      "source": [
        "# 5.9 \n",
        "model1.evaluate(test,y_test)  "
      ],
      "execution_count": 35,
      "outputs": [
        {
          "output_type": "stream",
          "name": "stdout",
          "text": [
            "129/129 [==============================] - 0s 2ms/step - loss: 2.4987\n"
          ]
        },
        {
          "output_type": "execute_result",
          "data": {
            "text/plain": [
              "2.4986603260040283"
            ]
          },
          "metadata": {},
          "execution_count": 35
        }
      ]
    },
    {
      "cell_type": "markdown",
      "metadata": {
        "id": "dYuF2BagAAYt"
      },
      "source": [
        "## Two inputs one output"
      ]
    },
    {
      "cell_type": "code",
      "metadata": {
        "id": "Ckmq-MbhuUro",
        "colab": {
          "base_uri": "https://localhost:8080/"
        },
        "outputId": "815a5af6-8627-464d-e75f-b85a86bef67e"
      },
      "source": [
        "# 6.0 Two inputs\n",
        "data1 = X_train[:,:4].copy()\n",
        "data2 = X_train[:,1:8].copy()\n",
        "\n",
        "# Define shapes of tensors getting into our models: \n",
        "inputsA = tf.keras.Input(\n",
        "                         shape = data1.shape[1] ,\n",
        "                         name = \"abc\"\n",
        "                         )\n",
        "inputsB = tf.keras.Input(\n",
        "                         shape = data2.shape[1],\n",
        "                         name = \"cde\"\n",
        "                         )\n",
        "\n",
        "# 6.1 One arm of network\n",
        "x = layers.Dense(100, activation = 'relu')(inputsB)\n",
        "x = layers.Dense(100,activation= 'relu')(x)\n",
        "\n",
        "# 6.1.1 Other arm of network\n",
        "y = layers.Dense(100, activation = 'relu')(inputsA)\n",
        "y = layers.Dense(100,activation= 'relu')(y)\n",
        "\n",
        "# 6.2 Concatenate one input with output of another arm\n",
        "concat = layers.concatenate([x,y])\n",
        "\n",
        "# 6.3 Output layer\n",
        "out = layers.Dense(1,activation = 'sigmoid')(concat)\n",
        "\n",
        "# 6.4 Create model and show summary\n",
        "model2 = Model(inputs = [inputsA,inputsB], outputs = [out])\n",
        "\n",
        "\n",
        "# 6.5 Compile model\n",
        "model2.compile(\n",
        "               optimizer='rmsprop', \n",
        "               loss = 'mean_squared_error'\n",
        "               )\n",
        "\n",
        "# 6.6 Train the model now.\n",
        "#     We must have a way to match\n",
        "#     our ORIGINAL InputsA and InputsB\n",
        "#     with what is fed here:\n",
        "\n",
        "model2.fit(\n",
        "\n",
        "\t          {\n",
        "             \"abc\" : data1,\n",
        "             \"cde\" : data2\n",
        "            },\n",
        "            y_train,\n",
        "            epochs = 5\n",
        "           )\n"
      ],
      "execution_count": 36,
      "outputs": [
        {
          "output_type": "stream",
          "name": "stdout",
          "text": [
            "Epoch 1/5\n",
            "516/516 [==============================] - 2s 2ms/step - loss: 2.4860\n",
            "Epoch 2/5\n",
            "516/516 [==============================] - 1s 2ms/step - loss: 2.4624\n",
            "Epoch 3/5\n",
            "516/516 [==============================] - 1s 2ms/step - loss: 2.4614\n",
            "Epoch 4/5\n",
            "516/516 [==============================] - 1s 2ms/step - loss: 2.4607\n",
            "Epoch 5/5\n",
            "516/516 [==============================] - 1s 2ms/step - loss: 2.4603\n"
          ]
        },
        {
          "output_type": "execute_result",
          "data": {
            "text/plain": [
              "<keras.callbacks.History at 0x7f80369f9a90>"
            ]
          },
          "metadata": {},
          "execution_count": 36
        }
      ]
    },
    {
      "cell_type": "code",
      "metadata": {
        "colab": {
          "base_uri": "https://localhost:8080/"
        },
        "id": "DoeGXEDjh4Pa",
        "outputId": "4736ac16-92fb-46bd-bbb2-35a297d79aea"
      },
      "source": [
        "# 6.7 \n",
        "model2.evaluate( [X_test[:,:4], X_test[:,1:8]],y_test)  "
      ],
      "execution_count": 37,
      "outputs": [
        {
          "output_type": "stream",
          "name": "stdout",
          "text": [
            "129/129 [==============================] - 0s 1ms/step - loss: 2.4925\n"
          ]
        },
        {
          "output_type": "execute_result",
          "data": {
            "text/plain": [
              "2.4925215244293213"
            ]
          },
          "metadata": {},
          "execution_count": 37
        }
      ]
    },
    {
      "cell_type": "code",
      "metadata": {
        "id": "F5MvbvlUTYd3",
        "colab": {
          "base_uri": "https://localhost:8080/",
          "height": 465
        },
        "outputId": "3a40a648-bbd3-4dc3-ccde-e378f9a49f35"
      },
      "source": [
        "# 6.8 Plot our model\n",
        "plot_model(model2)"
      ],
      "execution_count": 38,
      "outputs": [
        {
          "output_type": "execute_result",
          "data": {
            "image/png": "[encoded data removed]",
            "text/plain": [
              "<IPython.core.display.Image object>"
            ]
          },
          "metadata": {},
          "execution_count": 38
        }
      ]
    },
    {
      "cell_type": "markdown",
      "metadata": {
        "id": "eqjA96pAERaO"
      },
      "source": [
        "## Two inputs and two outputs model\n"
      ]
    },
    {
      "cell_type": "code",
      "metadata": {
        "id": "c2Bg8Lm2Ei0y",
        "colab": {
          "base_uri": "https://localhost:8080/"
        },
        "outputId": "e1b0bcc3-ce6b-46f8-9ada-ad382f6ca6cf"
      },
      "source": [
        "# 7.0 We have two inputs.\n",
        "#     To distiguish them, we give names to each\n",
        "inputsA = tf.keras.Input(\n",
        "                          shape = X_train[:,:4].shape[1:],\n",
        "                          name = \"in_a\"\n",
        "                         )\n",
        "\n",
        "# 7.1\n",
        "inputsB = tf.keras.Input(\n",
        "                          shape = X_train[:,1:8].shape[1:],\n",
        "                          name = \"in_b\"\n",
        "                        )\n",
        "\n",
        "\n",
        "# 7.2 One arm of network\n",
        "x = layers.Dense(100, activation = 'relu')(inputsB)\n",
        "x = layers.Dense(100,activation= 'relu')(x)\n",
        "\n",
        "# 7.3 Concatenate an input with output of one arm\n",
        "concat = layers.concatenate([x,inputsA])\n",
        "\n",
        "# 7.4 Output layers\n",
        "#     We have two output layers. To distiguish them, we give names to each\n",
        "out_x = layers.Dense(1,activation = 'sigmoid' , name = \"out_a\")(concat)\n",
        "out_y = layers.Dense(1,activation = 'sigmoid', name = \"out_b\")(x)\n",
        "\n",
        "# 7.5 Create model and show summary\n",
        "#     While outputs are two, model is one\n",
        "main_model = Model(inputs = [inputsA,inputsB], outputs = [out_x, out_y])\n",
        "main_model.summary()\n"
      ],
      "execution_count": 39,
      "outputs": [
        {
          "output_type": "stream",
          "name": "stdout",
          "text": [
            "Model: \"model_3\"\n",
            "__________________________________________________________________________________________________\n",
            " Layer (type)                   Output Shape         Param #     Connected to                     \n",
            "==================================================================================================\n",
            " in_b (InputLayer)              [(None, 7)]          0           []                               \n",
            "                                                                                                  \n",
            " dense_13 (Dense)               (None, 100)          800         ['in_b[0][0]']                   \n",
            "                                                                                                  \n",
            " dense_14 (Dense)               (None, 100)          10100       ['dense_13[0][0]']               \n",
            "                                                                                                  \n",
            " in_a (InputLayer)              [(None, 4)]          0           []                               \n",
            "                                                                                                  \n",
            " concatenate_3 (Concatenate)    (None, 104)          0           ['dense_14[0][0]',               \n",
            "                                                                  'in_a[0][0]']                   \n",
            "                                                                                                  \n",
            " out_a (Dense)                  (None, 1)            105         ['concatenate_3[0][0]']          \n",
            "                                                                                                  \n",
            " out_b (Dense)                  (None, 1)            101         ['dense_14[0][0]']               \n",
            "                                                                                                  \n",
            "==================================================================================================\n",
            "Total params: 11,106\n",
            "Trainable params: 11,106\n",
            "Non-trainable params: 0\n",
            "__________________________________________________________________________________________________\n"
          ]
        }
      ]
    },
    {
      "cell_type": "code",
      "metadata": {
        "id": "BOmnKemAlzJ6",
        "colab": {
          "base_uri": "https://localhost:8080/",
          "height": 532
        },
        "outputId": "be4741c9-5717-4a8e-98d1-db6581d22e95"
      },
      "source": [
        "# 7.6 Plot the model now\n",
        "plot_model(main_model, show_shapes = True)"
      ],
      "execution_count": 40,
      "outputs": [
        {
          "output_type": "execute_result",
          "data": {
            "image/png": "[encoded data removed]",
            "text/plain": [
              "<IPython.core.display.Image object>"
            ]
          },
          "metadata": {},
          "execution_count": 40
        }
      ]
    },
    {
      "cell_type": "code",
      "metadata": {
        "id": "1qGf1FQf7AkD"
      },
      "source": [
        "# 8.0 Compile model now\n",
        "# Ref: Model.compile: \n",
        "#      https://wwwa.tensorflow.org/api_docs/python/tf/keras/Model\n",
        "\n",
        "main_model.compile(\n",
        "                     loss = ['mse', 'mse'],        # Could also be in dict() format\n",
        "                     metrics = \"mse\",\n",
        "                     loss_weights= {\"out_a\": 0.9,   # More weight to error here\n",
        "                                    \"out_b\" : 0.1   # Less weight to error here\n",
        "                                    }\n",
        "                   )"
      ],
      "execution_count": 41,
      "outputs": []
    },
    {
      "cell_type": "code",
      "metadata": {
        "id": "uEeYQ5aD7oJV",
        "colab": {
          "base_uri": "https://localhost:8080/"
        },
        "outputId": "1eee8f60-b8e8-4b47-dfed-e4d1328beb36"
      },
      "source": [
        "# 8.1\n",
        "main_model.fit(\n",
        "               {                            #[X_train[:,:4],X_train[:,1:8]]\n",
        "                   \"in_a\" : X_train[:,:4],  # One input\n",
        "                   \"in_b\" : X_train[:,1:8]  # IInd input     \n",
        "               },              \n",
        "               [y_train,y_train],\n",
        "               epochs = 100\n",
        "           )"
      ],
      "execution_count": 42,
      "outputs": [
        {
          "output_type": "stream",
          "name": "stdout",
          "text": [
            "Epoch 1/100\n",
            "516/516 [==============================] - 2s 2ms/step - loss: 2.4959 - out_a_loss: 2.4930 - out_b_loss: 2.5221 - out_a_mse: 2.4930 - out_b_mse: 2.5221\n",
            "Epoch 2/100\n",
            "516/516 [==============================] - 1s 2ms/step - loss: 2.4629 - out_a_loss: 2.4628 - out_b_loss: 2.4630 - out_a_mse: 2.4628 - out_b_mse: 2.4630\n",
            "Epoch 3/100\n",
            "516/516 [==============================] - 1s 2ms/step - loss: 2.4620 - out_a_loss: 2.4620 - out_b_loss: 2.4621 - out_a_mse: 2.4620 - out_b_mse: 2.4621\n",
            "Epoch 4/100\n",
            "516/516 [==============================] - 1s 2ms/step - loss: 2.4614 - out_a_loss: 2.4614 - out_b_loss: 2.4616 - out_a_mse: 2.4614 - out_b_mse: 2.4616\n",
            "Epoch 5/100\n",
            "516/516 [==============================] - 1s 2ms/step - loss: 2.4610 - out_a_loss: 2.4609 - out_b_loss: 2.4610 - out_a_mse: 2.4609 - out_b_mse: 2.4610\n",
            "Epoch 6/100\n",
            "516/516 [==============================] - 1s 2ms/step - loss: 2.4604 - out_a_loss: 2.4604 - out_b_loss: 2.4606 - out_a_mse: 2.4604 - out_b_mse: 2.4606\n",
            "Epoch 7/100\n",
            "516/516 [==============================] - 1s 2ms/step - loss: 2.4601 - out_a_loss: 2.4601 - out_b_loss: 2.4603 - out_a_mse: 2.4601 - out_b_mse: 2.4603\n",
            "Epoch 8/100\n",
            "516/516 [==============================] - 1s 2ms/step - loss: 2.4599 - out_a_loss: 2.4599 - out_b_loss: 2.4600 - out_a_mse: 2.4599 - out_b_mse: 2.4600\n",
            "Epoch 9/100\n",
            "516/516 [==============================] - 1s 2ms/step - loss: 2.4595 - out_a_loss: 2.4595 - out_b_loss: 2.4597 - out_a_mse: 2.4595 - out_b_mse: 2.4597\n",
            "Epoch 10/100\n",
            "516/516 [==============================] - 1s 2ms/step - loss: 2.4595 - out_a_loss: 2.4594 - out_b_loss: 2.4597 - out_a_mse: 2.4594 - out_b_mse: 2.4597\n",
            "Epoch 11/100\n",
            "516/516 [==============================] - 1s 2ms/step - loss: 2.4593 - out_a_loss: 2.4593 - out_b_loss: 2.4595 - out_a_mse: 2.4593 - out_b_mse: 2.4595\n",
            "Epoch 12/100\n",
            "516/516 [==============================] - 1s 2ms/step - loss: 2.4591 - out_a_loss: 2.4591 - out_b_loss: 2.4593 - out_a_mse: 2.4591 - out_b_mse: 2.4593\n",
            "Epoch 13/100\n",
            "516/516 [==============================] - 1s 2ms/step - loss: 2.4590 - out_a_loss: 2.4590 - out_b_loss: 2.4591 - out_a_mse: 2.4590 - out_b_mse: 2.4591\n",
            "Epoch 14/100\n",
            "516/516 [==============================] - 1s 2ms/step - loss: 2.4589 - out_a_loss: 2.4589 - out_b_loss: 2.4590 - out_a_mse: 2.4589 - out_b_mse: 2.4590\n",
            "Epoch 15/100\n",
            "516/516 [==============================] - 1s 2ms/step - loss: 2.4587 - out_a_loss: 2.4587 - out_b_loss: 2.4589 - out_a_mse: 2.4587 - out_b_mse: 2.4589\n",
            "Epoch 16/100\n",
            "516/516 [==============================] - 1s 2ms/step - loss: 2.4585 - out_a_loss: 2.4585 - out_b_loss: 2.4587 - out_a_mse: 2.4585 - out_b_mse: 2.4587\n",
            "Epoch 17/100\n",
            "516/516 [==============================] - 1s 2ms/step - loss: 2.4585 - out_a_loss: 2.4584 - out_b_loss: 2.4586 - out_a_mse: 2.4584 - out_b_mse: 2.4586\n",
            "Epoch 18/100\n",
            "516/516 [==============================] - 1s 2ms/step - loss: 2.4584 - out_a_loss: 2.4584 - out_b_loss: 2.4586 - out_a_mse: 2.4584 - out_b_mse: 2.4586\n",
            "Epoch 19/100\n",
            "516/516 [==============================] - 1s 2ms/step - loss: 2.4583 - out_a_loss: 2.4583 - out_b_loss: 2.4585 - out_a_mse: 2.4583 - out_b_mse: 2.4585\n",
            "Epoch 20/100\n",
            "516/516 [==============================] - 1s 2ms/step - loss: 2.4583 - out_a_loss: 2.4583 - out_b_loss: 2.4585 - out_a_mse: 2.4583 - out_b_mse: 2.4585\n",
            "Epoch 21/100\n",
            "516/516 [==============================] - 1s 2ms/step - loss: 2.4582 - out_a_loss: 2.4582 - out_b_loss: 2.4584 - out_a_mse: 2.4582 - out_b_mse: 2.4584\n",
            "Epoch 22/100\n",
            "516/516 [==============================] - 1s 2ms/step - loss: 2.4581 - out_a_loss: 2.4581 - out_b_loss: 2.4582 - out_a_mse: 2.4581 - out_b_mse: 2.4582\n",
            "Epoch 23/100\n",
            "516/516 [==============================] - 1s 2ms/step - loss: 2.4580 - out_a_loss: 2.4580 - out_b_loss: 2.4582 - out_a_mse: 2.4580 - out_b_mse: 2.4582\n",
            "Epoch 24/100\n",
            "516/516 [==============================] - 1s 2ms/step - loss: 2.4580 - out_a_loss: 2.4580 - out_b_loss: 2.4582 - out_a_mse: 2.4580 - out_b_mse: 2.4582\n",
            "Epoch 25/100\n",
            "516/516 [==============================] - 1s 2ms/step - loss: 2.4580 - out_a_loss: 2.4579 - out_b_loss: 2.4581 - out_a_mse: 2.4579 - out_b_mse: 2.4581\n",
            "Epoch 26/100\n",
            "516/516 [==============================] - 1s 2ms/step - loss: 2.4580 - out_a_loss: 2.4580 - out_b_loss: 2.4582 - out_a_mse: 2.4580 - out_b_mse: 2.4582\n",
            "Epoch 27/100\n",
            "516/516 [==============================] - 1s 2ms/step - loss: 2.4578 - out_a_loss: 2.4578 - out_b_loss: 2.4580 - out_a_mse: 2.4578 - out_b_mse: 2.4580\n",
            "Epoch 28/100\n",
            "516/516 [==============================] - 1s 2ms/step - loss: 2.4578 - out_a_loss: 2.4578 - out_b_loss: 2.4580 - out_a_mse: 2.4578 - out_b_mse: 2.4580\n",
            "Epoch 29/100\n",
            "516/516 [==============================] - 1s 2ms/step - loss: 2.4578 - out_a_loss: 2.4577 - out_b_loss: 2.4579 - out_a_mse: 2.4577 - out_b_mse: 2.4579\n",
            "Epoch 30/100\n",
            "516/516 [==============================] - 1s 2ms/step - loss: 2.4578 - out_a_loss: 2.4578 - out_b_loss: 2.4579 - out_a_mse: 2.4578 - out_b_mse: 2.4579\n",
            "Epoch 31/100\n",
            "516/516 [==============================] - 1s 2ms/step - loss: 2.4577 - out_a_loss: 2.4577 - out_b_loss: 2.4579 - out_a_mse: 2.4577 - out_b_mse: 2.4579\n",
            "Epoch 32/100\n",
            "516/516 [==============================] - 1s 2ms/step - loss: 2.4577 - out_a_loss: 2.4577 - out_b_loss: 2.4578 - out_a_mse: 2.4577 - out_b_mse: 2.4578\n",
            "Epoch 33/100\n",
            "516/516 [==============================] - 1s 2ms/step - loss: 2.4576 - out_a_loss: 2.4576 - out_b_loss: 2.4578 - out_a_mse: 2.4576 - out_b_mse: 2.4578\n",
            "Epoch 34/100\n",
            "516/516 [==============================] - 1s 2ms/step - loss: 2.4576 - out_a_loss: 2.4576 - out_b_loss: 2.4577 - out_a_mse: 2.4576 - out_b_mse: 2.4577\n",
            "Epoch 35/100\n",
            "516/516 [==============================] - 1s 2ms/step - loss: 2.4576 - out_a_loss: 2.4576 - out_b_loss: 2.4578 - out_a_mse: 2.4576 - out_b_mse: 2.4578\n",
            "Epoch 36/100\n",
            "516/516 [==============================] - 1s 2ms/step - loss: 2.4576 - out_a_loss: 2.4575 - out_b_loss: 2.4577 - out_a_mse: 2.4575 - out_b_mse: 2.4577\n",
            "Epoch 37/100\n",
            "516/516 [==============================] - 1s 2ms/step - loss: 2.4575 - out_a_loss: 2.4575 - out_b_loss: 2.4577 - out_a_mse: 2.4575 - out_b_mse: 2.4577\n",
            "Epoch 38/100\n",
            "516/516 [==============================] - 1s 2ms/step - loss: 2.4575 - out_a_loss: 2.4575 - out_b_loss: 2.4578 - out_a_mse: 2.4575 - out_b_mse: 2.4578\n",
            "Epoch 39/100\n",
            "516/516 [==============================] - 1s 2ms/step - loss: 2.4576 - out_a_loss: 2.4575 - out_b_loss: 2.4578 - out_a_mse: 2.4575 - out_b_mse: 2.4578\n",
            "Epoch 40/100\n",
            "516/516 [==============================] - 1s 2ms/step - loss: 2.4575 - out_a_loss: 2.4575 - out_b_loss: 2.4577 - out_a_mse: 2.4575 - out_b_mse: 2.4577\n",
            "Epoch 41/100\n",
            "516/516 [==============================] - 1s 2ms/step - loss: 2.4575 - out_a_loss: 2.4575 - out_b_loss: 2.4577 - out_a_mse: 2.4575 - out_b_mse: 2.4577\n",
            "Epoch 42/100\n",
            "516/516 [==============================] - 1s 2ms/step - loss: 2.4575 - out_a_loss: 2.4574 - out_b_loss: 2.4576 - out_a_mse: 2.4574 - out_b_mse: 2.4576\n",
            "Epoch 43/100\n",
            "516/516 [==============================] - 1s 2ms/step - loss: 2.4574 - out_a_loss: 2.4574 - out_b_loss: 2.4576 - out_a_mse: 2.4574 - out_b_mse: 2.4576\n",
            "Epoch 44/100\n",
            "516/516 [==============================] - 1s 2ms/step - loss: 2.4574 - out_a_loss: 2.4574 - out_b_loss: 2.4576 - out_a_mse: 2.4574 - out_b_mse: 2.4576\n",
            "Epoch 45/100\n",
            "516/516 [==============================] - 1s 2ms/step - loss: 2.4574 - out_a_loss: 2.4574 - out_b_loss: 2.4576 - out_a_mse: 2.4574 - out_b_mse: 2.4576\n",
            "Epoch 46/100\n",
            "516/516 [==============================] - 1s 2ms/step - loss: 2.4574 - out_a_loss: 2.4574 - out_b_loss: 2.4576 - out_a_mse: 2.4574 - out_b_mse: 2.4576\n",
            "Epoch 47/100\n",
            "516/516 [==============================] - 1s 2ms/step - loss: 2.4573 - out_a_loss: 2.4573 - out_b_loss: 2.4575 - out_a_mse: 2.4573 - out_b_mse: 2.4575\n",
            "Epoch 48/100\n",
            "516/516 [==============================] - 1s 2ms/step - loss: 2.4573 - out_a_loss: 2.4573 - out_b_loss: 2.4575 - out_a_mse: 2.4573 - out_b_mse: 2.4575\n",
            "Epoch 49/100\n",
            "516/516 [==============================] - 1s 2ms/step - loss: 2.4573 - out_a_loss: 2.4573 - out_b_loss: 2.4575 - out_a_mse: 2.4573 - out_b_mse: 2.4575\n",
            "Epoch 50/100\n",
            "516/516 [==============================] - 1s 2ms/step - loss: 2.4573 - out_a_loss: 2.4573 - out_b_loss: 2.4575 - out_a_mse: 2.4573 - out_b_mse: 2.4575\n",
            "Epoch 51/100\n",
            "516/516 [==============================] - 1s 2ms/step - loss: 2.4573 - out_a_loss: 2.4573 - out_b_loss: 2.4575 - out_a_mse: 2.4573 - out_b_mse: 2.4575\n",
            "Epoch 52/100\n",
            "516/516 [==============================] - 1s 2ms/step - loss: 2.4573 - out_a_loss: 2.4573 - out_b_loss: 2.4575 - out_a_mse: 2.4573 - out_b_mse: 2.4575\n",
            "Epoch 53/100\n",
            "516/516 [==============================] - 1s 2ms/step - loss: 2.4573 - out_a_loss: 2.4573 - out_b_loss: 2.4575 - out_a_mse: 2.4573 - out_b_mse: 2.4575\n",
            "Epoch 54/100\n",
            "516/516 [==============================] - 1s 2ms/step - loss: 2.4572 - out_a_loss: 2.4572 - out_b_loss: 2.4575 - out_a_mse: 2.4572 - out_b_mse: 2.4575\n",
            "Epoch 55/100\n",
            "516/516 [==============================] - 1s 2ms/step - loss: 2.4572 - out_a_loss: 2.4572 - out_b_loss: 2.4574 - out_a_mse: 2.4572 - out_b_mse: 2.4574\n",
            "Epoch 56/100\n",
            "516/516 [==============================] - 1s 2ms/step - loss: 2.4572 - out_a_loss: 2.4572 - out_b_loss: 2.4574 - out_a_mse: 2.4572 - out_b_mse: 2.4574\n",
            "Epoch 57/100\n",
            "516/516 [==============================] - 1s 2ms/step - loss: 2.4572 - out_a_loss: 2.4571 - out_b_loss: 2.4573 - out_a_mse: 2.4571 - out_b_mse: 2.4573\n",
            "Epoch 58/100\n",
            "516/516 [==============================] - 1s 2ms/step - loss: 2.4572 - out_a_loss: 2.4572 - out_b_loss: 2.4574 - out_a_mse: 2.4572 - out_b_mse: 2.4574\n",
            "Epoch 59/100\n",
            "516/516 [==============================] - 1s 2ms/step - loss: 2.4572 - out_a_loss: 2.4572 - out_b_loss: 2.4574 - out_a_mse: 2.4572 - out_b_mse: 2.4574\n",
            "Epoch 60/100\n",
            "516/516 [==============================] - 1s 2ms/step - loss: 2.4571 - out_a_loss: 2.4571 - out_b_loss: 2.4573 - out_a_mse: 2.4571 - out_b_mse: 2.4573\n",
            "Epoch 61/100\n",
            "516/516 [==============================] - 1s 2ms/step - loss: 2.4571 - out_a_loss: 2.4571 - out_b_loss: 2.4573 - out_a_mse: 2.4571 - out_b_mse: 2.4573\n",
            "Epoch 62/100\n",
            "516/516 [==============================] - 1s 2ms/step - loss: 2.4572 - out_a_loss: 2.4571 - out_b_loss: 2.4574 - out_a_mse: 2.4571 - out_b_mse: 2.4574\n",
            "Epoch 63/100\n",
            "516/516 [==============================] - 1s 2ms/step - loss: 2.4571 - out_a_loss: 2.4571 - out_b_loss: 2.4574 - out_a_mse: 2.4571 - out_b_mse: 2.4574\n",
            "Epoch 64/100\n",
            "516/516 [==============================] - 1s 2ms/step - loss: 2.4571 - out_a_loss: 2.4571 - out_b_loss: 2.4573 - out_a_mse: 2.4571 - out_b_mse: 2.4573\n",
            "Epoch 65/100\n",
            "516/516 [==============================] - 1s 2ms/step - loss: 2.4571 - out_a_loss: 2.4570 - out_b_loss: 2.4573 - out_a_mse: 2.4570 - out_b_mse: 2.4573\n",
            "Epoch 66/100\n",
            "516/516 [==============================] - 1s 2ms/step - loss: 2.4570 - out_a_loss: 2.4570 - out_b_loss: 2.4573 - out_a_mse: 2.4570 - out_b_mse: 2.4573\n",
            "Epoch 67/100\n",
            "516/516 [==============================] - 1s 2ms/step - loss: 2.4571 - out_a_loss: 2.4570 - out_b_loss: 2.4573 - out_a_mse: 2.4570 - out_b_mse: 2.4573\n",
            "Epoch 68/100\n",
            "516/516 [==============================] - 1s 2ms/step - loss: 2.4571 - out_a_loss: 2.4570 - out_b_loss: 2.4573 - out_a_mse: 2.4570 - out_b_mse: 2.4573\n",
            "Epoch 69/100\n",
            "516/516 [==============================] - 1s 2ms/step - loss: 2.4571 - out_a_loss: 2.4571 - out_b_loss: 2.4573 - out_a_mse: 2.4571 - out_b_mse: 2.4573\n",
            "Epoch 70/100\n",
            "516/516 [==============================] - 1s 2ms/step - loss: 2.4571 - out_a_loss: 2.4570 - out_b_loss: 2.4573 - out_a_mse: 2.4570 - out_b_mse: 2.4573\n",
            "Epoch 71/100\n",
            "516/516 [==============================] - 1s 2ms/step - loss: 2.4570 - out_a_loss: 2.4570 - out_b_loss: 2.4572 - out_a_mse: 2.4570 - out_b_mse: 2.4572\n",
            "Epoch 72/100\n",
            "516/516 [==============================] - 1s 2ms/step - loss: 2.4570 - out_a_loss: 2.4569 - out_b_loss: 2.4572 - out_a_mse: 2.4569 - out_b_mse: 2.4572\n",
            "Epoch 73/100\n",
            "516/516 [==============================] - 1s 2ms/step - loss: 2.4570 - out_a_loss: 2.4570 - out_b_loss: 2.4572 - out_a_mse: 2.4570 - out_b_mse: 2.4572\n",
            "Epoch 74/100\n",
            "516/516 [==============================] - 1s 2ms/step - loss: 2.4570 - out_a_loss: 2.4570 - out_b_loss: 2.4573 - out_a_mse: 2.4570 - out_b_mse: 2.4573\n",
            "Epoch 75/100\n",
            "516/516 [==============================] - 1s 2ms/step - loss: 2.4569 - out_a_loss: 2.4569 - out_b_loss: 2.4572 - out_a_mse: 2.4569 - out_b_mse: 2.4572\n",
            "Epoch 76/100\n",
            "516/516 [==============================] - 1s 2ms/step - loss: 2.4570 - out_a_loss: 2.4569 - out_b_loss: 2.4572 - out_a_mse: 2.4569 - out_b_mse: 2.4572\n",
            "Epoch 77/100\n",
            "516/516 [==============================] - 1s 2ms/step - loss: 2.4570 - out_a_loss: 2.4570 - out_b_loss: 2.4572 - out_a_mse: 2.4570 - out_b_mse: 2.4572\n",
            "Epoch 78/100\n",
            "516/516 [==============================] - 1s 2ms/step - loss: 2.4569 - out_a_loss: 2.4569 - out_b_loss: 2.4572 - out_a_mse: 2.4569 - out_b_mse: 2.4572\n",
            "Epoch 79/100\n",
            "516/516 [==============================] - 1s 2ms/step - loss: 2.4569 - out_a_loss: 2.4569 - out_b_loss: 2.4572 - out_a_mse: 2.4569 - out_b_mse: 2.4572\n",
            "Epoch 80/100\n",
            "516/516 [==============================] - 1s 2ms/step - loss: 2.4569 - out_a_loss: 2.4569 - out_b_loss: 2.4572 - out_a_mse: 2.4569 - out_b_mse: 2.4572\n",
            "Epoch 81/100\n",
            "516/516 [==============================] - 1s 2ms/step - loss: 2.4569 - out_a_loss: 2.4569 - out_b_loss: 2.4571 - out_a_mse: 2.4569 - out_b_mse: 2.4571\n",
            "Epoch 82/100\n",
            "516/516 [==============================] - 1s 2ms/step - loss: 2.4569 - out_a_loss: 2.4569 - out_b_loss: 2.4572 - out_a_mse: 2.4569 - out_b_mse: 2.4572\n",
            "Epoch 83/100\n",
            "516/516 [==============================] - 1s 2ms/step - loss: 2.4569 - out_a_loss: 2.4569 - out_b_loss: 2.4571 - out_a_mse: 2.4569 - out_b_mse: 2.4571\n",
            "Epoch 84/100\n",
            "516/516 [==============================] - 1s 2ms/step - loss: 2.4568 - out_a_loss: 2.4568 - out_b_loss: 2.4571 - out_a_mse: 2.4568 - out_b_mse: 2.4571\n",
            "Epoch 85/100\n",
            "516/516 [==============================] - 1s 2ms/step - loss: 2.4569 - out_a_loss: 2.4569 - out_b_loss: 2.4571 - out_a_mse: 2.4569 - out_b_mse: 2.4571\n",
            "Epoch 86/100\n",
            "516/516 [==============================] - 1s 2ms/step - loss: 2.4568 - out_a_loss: 2.4568 - out_b_loss: 2.4571 - out_a_mse: 2.4568 - out_b_mse: 2.4571\n",
            "Epoch 87/100\n",
            "516/516 [==============================] - 1s 2ms/step - loss: 2.4569 - out_a_loss: 2.4568 - out_b_loss: 2.4571 - out_a_mse: 2.4568 - out_b_mse: 2.4571\n",
            "Epoch 88/100\n",
            "516/516 [==============================] - 1s 2ms/step - loss: 2.4568 - out_a_loss: 2.4568 - out_b_loss: 2.4571 - out_a_mse: 2.4568 - out_b_mse: 2.4571\n",
            "Epoch 89/100\n",
            "516/516 [==============================] - 1s 2ms/step - loss: 2.4568 - out_a_loss: 2.4568 - out_b_loss: 2.4570 - out_a_mse: 2.4568 - out_b_mse: 2.4570\n",
            "Epoch 90/100\n",
            "516/516 [==============================] - 1s 2ms/step - loss: 2.4568 - out_a_loss: 2.4568 - out_b_loss: 2.4571 - out_a_mse: 2.4568 - out_b_mse: 2.4571\n",
            "Epoch 91/100\n",
            "516/516 [==============================] - 1s 2ms/step - loss: 2.4568 - out_a_loss: 2.4568 - out_b_loss: 2.4570 - out_a_mse: 2.4568 - out_b_mse: 2.4570\n",
            "Epoch 92/100\n",
            "516/516 [==============================] - 1s 2ms/step - loss: 2.4568 - out_a_loss: 2.4567 - out_b_loss: 2.4570 - out_a_mse: 2.4567 - out_b_mse: 2.4570\n",
            "Epoch 93/100\n",
            "516/516 [==============================] - 1s 2ms/step - loss: 2.4568 - out_a_loss: 2.4568 - out_b_loss: 2.4570 - out_a_mse: 2.4568 - out_b_mse: 2.4570\n",
            "Epoch 94/100\n",
            "516/516 [==============================] - 1s 2ms/step - loss: 2.4568 - out_a_loss: 2.4567 - out_b_loss: 2.4570 - out_a_mse: 2.4567 - out_b_mse: 2.4570\n",
            "Epoch 95/100\n",
            "516/516 [==============================] - 1s 2ms/step - loss: 2.4568 - out_a_loss: 2.4567 - out_b_loss: 2.4571 - out_a_mse: 2.4567 - out_b_mse: 2.4571\n",
            "Epoch 96/100\n",
            "516/516 [==============================] - 1s 2ms/step - loss: 2.4567 - out_a_loss: 2.4567 - out_b_loss: 2.4570 - out_a_mse: 2.4567 - out_b_mse: 2.4570\n",
            "Epoch 97/100\n",
            "516/516 [==============================] - 1s 2ms/step - loss: 2.4567 - out_a_loss: 2.4567 - out_b_loss: 2.4569 - out_a_mse: 2.4567 - out_b_mse: 2.4569\n",
            "Epoch 98/100\n",
            "516/516 [==============================] - 1s 2ms/step - loss: 2.4567 - out_a_loss: 2.4567 - out_b_loss: 2.4570 - out_a_mse: 2.4567 - out_b_mse: 2.4570\n",
            "Epoch 99/100\n",
            "516/516 [==============================] - 1s 2ms/step - loss: 2.4568 - out_a_loss: 2.4567 - out_b_loss: 2.4570 - out_a_mse: 2.4567 - out_b_mse: 2.4570\n",
            "Epoch 100/100\n",
            "516/516 [==============================] - 1s 2ms/step - loss: 2.4568 - out_a_loss: 2.4567 - out_b_loss: 2.4570 - out_a_mse: 2.4567 - out_b_mse: 2.4570\n"
          ]
        },
        {
          "output_type": "execute_result",
          "data": {
            "text/plain": [
              "<keras.callbacks.History at 0x7f803696e810>"
            ]
          },
          "metadata": {},
          "execution_count": 42
        }
      ]
    },
    {
      "cell_type": "code",
      "metadata": {
        "id": "eaDhO7KXFy2m",
        "colab": {
          "base_uri": "https://localhost:8080/"
        },
        "outputId": "d935689f-33f8-49c6-a9e2-3fe36ad0fa0a"
      },
      "source": [
        "# 8.2 One can also write outputs in a dictionary form, as:\n",
        "\n",
        "main_model.fit(\n",
        "               {                            #[X_train[:,:4],X_train[:,1:8]]\n",
        "                   \"in_a\" : X_train[:,:4],  # One input\n",
        "                   \"in_b\" : X_train[:,1:8]  # IInd input     \n",
        "               },              \n",
        "               {\n",
        "                   \"out_a\" : y_train,\n",
        "                   \"out_b\" : y_train\n",
        "               },\n",
        "               epochs = 100\n",
        "           )"
      ],
      "execution_count": 43,
      "outputs": [
        {
          "output_type": "stream",
          "name": "stdout",
          "text": [
            "Epoch 1/100\n",
            "516/516 [==============================] - 2s 3ms/step - loss: 2.4567 - out_a_loss: 2.4567 - out_b_loss: 2.4570 - out_a_mse: 2.4567 - out_b_mse: 2.4570\n",
            "Epoch 2/100\n",
            "516/516 [==============================] - 1s 3ms/step - loss: 2.4567 - out_a_loss: 2.4567 - out_b_loss: 2.4569 - out_a_mse: 2.4567 - out_b_mse: 2.4569\n",
            "Epoch 3/100\n",
            "516/516 [==============================] - 1s 3ms/step - loss: 2.4567 - out_a_loss: 2.4567 - out_b_loss: 2.4569 - out_a_mse: 2.4567 - out_b_mse: 2.4569\n",
            "Epoch 4/100\n",
            "516/516 [==============================] - 1s 3ms/step - loss: 2.4567 - out_a_loss: 2.4567 - out_b_loss: 2.4570 - out_a_mse: 2.4567 - out_b_mse: 2.4570\n",
            "Epoch 5/100\n",
            "516/516 [==============================] - 1s 3ms/step - loss: 2.4567 - out_a_loss: 2.4567 - out_b_loss: 2.4570 - out_a_mse: 2.4567 - out_b_mse: 2.4570\n",
            "Epoch 6/100\n",
            "516/516 [==============================] - 1s 3ms/step - loss: 2.4567 - out_a_loss: 2.4566 - out_b_loss: 2.4569 - out_a_mse: 2.4566 - out_b_mse: 2.4569\n",
            "Epoch 7/100\n",
            "516/516 [==============================] - 1s 3ms/step - loss: 2.4567 - out_a_loss: 2.4567 - out_b_loss: 2.4570 - out_a_mse: 2.4567 - out_b_mse: 2.4570\n",
            "Epoch 8/100\n",
            "516/516 [==============================] - 1s 3ms/step - loss: 2.4567 - out_a_loss: 2.4567 - out_b_loss: 2.4570 - out_a_mse: 2.4567 - out_b_mse: 2.4570\n",
            "Epoch 9/100\n",
            "516/516 [==============================] - 1s 3ms/step - loss: 2.4567 - out_a_loss: 2.4567 - out_b_loss: 2.4570 - out_a_mse: 2.4567 - out_b_mse: 2.4570\n",
            "Epoch 10/100\n",
            "516/516 [==============================] - 1s 3ms/step - loss: 2.4567 - out_a_loss: 2.4567 - out_b_loss: 2.4570 - out_a_mse: 2.4567 - out_b_mse: 2.4570\n",
            "Epoch 11/100\n",
            "516/516 [==============================] - 1s 3ms/step - loss: 2.4566 - out_a_loss: 2.4566 - out_b_loss: 2.4569 - out_a_mse: 2.4566 - out_b_mse: 2.4569\n",
            "Epoch 12/100\n",
            "516/516 [==============================] - 1s 3ms/step - loss: 2.4566 - out_a_loss: 2.4566 - out_b_loss: 2.4569 - out_a_mse: 2.4566 - out_b_mse: 2.4569\n",
            "Epoch 13/100\n",
            "516/516 [==============================] - 1s 3ms/step - loss: 2.4566 - out_a_loss: 2.4566 - out_b_loss: 2.4569 - out_a_mse: 2.4566 - out_b_mse: 2.4569\n",
            "Epoch 14/100\n",
            "516/516 [==============================] - 1s 3ms/step - loss: 2.4567 - out_a_loss: 2.4566 - out_b_loss: 2.4569 - out_a_mse: 2.4566 - out_b_mse: 2.4569\n",
            "Epoch 15/100\n",
            "516/516 [==============================] - 1s 3ms/step - loss: 2.4566 - out_a_loss: 2.4566 - out_b_loss: 2.4568 - out_a_mse: 2.4566 - out_b_mse: 2.4568\n",
            "Epoch 16/100\n",
            "516/516 [==============================] - 1s 3ms/step - loss: 2.4566 - out_a_loss: 2.4566 - out_b_loss: 2.4568 - out_a_mse: 2.4566 - out_b_mse: 2.4568\n",
            "Epoch 17/100\n",
            "516/516 [==============================] - 1s 3ms/step - loss: 2.4566 - out_a_loss: 2.4566 - out_b_loss: 2.4568 - out_a_mse: 2.4566 - out_b_mse: 2.4568\n",
            "Epoch 18/100\n",
            "516/516 [==============================] - 1s 3ms/step - loss: 2.4567 - out_a_loss: 2.4566 - out_b_loss: 2.4569 - out_a_mse: 2.4566 - out_b_mse: 2.4569\n",
            "Epoch 19/100\n",
            "516/516 [==============================] - 1s 3ms/step - loss: 2.4566 - out_a_loss: 2.4566 - out_b_loss: 2.4569 - out_a_mse: 2.4566 - out_b_mse: 2.4569\n",
            "Epoch 20/100\n",
            "516/516 [==============================] - 1s 3ms/step - loss: 2.4566 - out_a_loss: 2.4566 - out_b_loss: 2.4569 - out_a_mse: 2.4566 - out_b_mse: 2.4569\n",
            "Epoch 21/100\n",
            "516/516 [==============================] - 1s 3ms/step - loss: 2.4566 - out_a_loss: 2.4566 - out_b_loss: 2.4569 - out_a_mse: 2.4566 - out_b_mse: 2.4569\n",
            "Epoch 22/100\n",
            "516/516 [==============================] - 1s 3ms/step - loss: 2.4567 - out_a_loss: 2.4566 - out_b_loss: 2.4569 - out_a_mse: 2.4566 - out_b_mse: 2.4569\n",
            "Epoch 23/100\n",
            "516/516 [==============================] - 1s 3ms/step - loss: 2.4566 - out_a_loss: 2.4565 - out_b_loss: 2.4568 - out_a_mse: 2.4565 - out_b_mse: 2.4568\n",
            "Epoch 24/100\n",
            "516/516 [==============================] - 1s 3ms/step - loss: 2.4566 - out_a_loss: 2.4565 - out_b_loss: 2.4568 - out_a_mse: 2.4565 - out_b_mse: 2.4568\n",
            "Epoch 25/100\n",
            "516/516 [==============================] - 1s 3ms/step - loss: 2.4566 - out_a_loss: 2.4566 - out_b_loss: 2.4569 - out_a_mse: 2.4566 - out_b_mse: 2.4569\n",
            "Epoch 26/100\n",
            "516/516 [==============================] - 1s 3ms/step - loss: 2.4566 - out_a_loss: 2.4566 - out_b_loss: 2.4569 - out_a_mse: 2.4566 - out_b_mse: 2.4569\n",
            "Epoch 27/100\n",
            "516/516 [==============================] - 1s 3ms/step - loss: 2.4566 - out_a_loss: 2.4566 - out_b_loss: 2.4569 - out_a_mse: 2.4566 - out_b_mse: 2.4569\n",
            "Epoch 28/100\n",
            "516/516 [==============================] - 1s 3ms/step - loss: 2.4566 - out_a_loss: 2.4566 - out_b_loss: 2.4568 - out_a_mse: 2.4566 - out_b_mse: 2.4568\n",
            "Epoch 29/100\n",
            "516/516 [==============================] - 1s 3ms/step - loss: 2.4565 - out_a_loss: 2.4565 - out_b_loss: 2.4567 - out_a_mse: 2.4565 - out_b_mse: 2.4567\n",
            "Epoch 30/100\n",
            "516/516 [==============================] - 1s 3ms/step - loss: 2.4565 - out_a_loss: 2.4565 - out_b_loss: 2.4568 - out_a_mse: 2.4565 - out_b_mse: 2.4568\n",
            "Epoch 31/100\n",
            "516/516 [==============================] - 1s 3ms/step - loss: 2.4566 - out_a_loss: 2.4565 - out_b_loss: 2.4568 - out_a_mse: 2.4565 - out_b_mse: 2.4568\n",
            "Epoch 32/100\n",
            "516/516 [==============================] - 1s 3ms/step - loss: 2.4567 - out_a_loss: 2.4567 - out_b_loss: 2.4569 - out_a_mse: 2.4567 - out_b_mse: 2.4569\n",
            "Epoch 33/100\n",
            "516/516 [==============================] - 1s 3ms/step - loss: 2.4566 - out_a_loss: 2.4566 - out_b_loss: 2.4569 - out_a_mse: 2.4566 - out_b_mse: 2.4569\n",
            "Epoch 34/100\n",
            "516/516 [==============================] - 1s 3ms/step - loss: 2.4566 - out_a_loss: 2.4565 - out_b_loss: 2.4568 - out_a_mse: 2.4565 - out_b_mse: 2.4568\n",
            "Epoch 35/100\n",
            "516/516 [==============================] - 1s 3ms/step - loss: 2.4566 - out_a_loss: 2.4565 - out_b_loss: 2.4568 - out_a_mse: 2.4565 - out_b_mse: 2.4568\n",
            "Epoch 36/100\n",
            "516/516 [==============================] - 1s 3ms/step - loss: 2.4565 - out_a_loss: 2.4565 - out_b_loss: 2.4568 - out_a_mse: 2.4565 - out_b_mse: 2.4568\n",
            "Epoch 37/100\n",
            "516/516 [==============================] - 1s 3ms/step - loss: 2.4565 - out_a_loss: 2.4565 - out_b_loss: 2.4568 - out_a_mse: 2.4565 - out_b_mse: 2.4568\n",
            "Epoch 38/100\n",
            "516/516 [==============================] - 1s 3ms/step - loss: 2.4565 - out_a_loss: 2.4565 - out_b_loss: 2.4568 - out_a_mse: 2.4565 - out_b_mse: 2.4568\n",
            "Epoch 39/100\n",
            "516/516 [==============================] - 1s 3ms/step - loss: 2.4565 - out_a_loss: 2.4565 - out_b_loss: 2.4568 - out_a_mse: 2.4565 - out_b_mse: 2.4568\n",
            "Epoch 40/100\n",
            "516/516 [==============================] - 1s 3ms/step - loss: 2.4566 - out_a_loss: 2.4566 - out_b_loss: 2.4568 - out_a_mse: 2.4566 - out_b_mse: 2.4568\n",
            "Epoch 41/100\n",
            "516/516 [==============================] - 1s 3ms/step - loss: 2.4565 - out_a_loss: 2.4565 - out_b_loss: 2.4567 - out_a_mse: 2.4565 - out_b_mse: 2.4567\n",
            "Epoch 42/100\n",
            "516/516 [==============================] - 1s 3ms/step - loss: 2.4566 - out_a_loss: 2.4566 - out_b_loss: 2.4568 - out_a_mse: 2.4566 - out_b_mse: 2.4568\n",
            "Epoch 43/100\n",
            "516/516 [==============================] - 1s 3ms/step - loss: 2.4565 - out_a_loss: 2.4565 - out_b_loss: 2.4568 - out_a_mse: 2.4565 - out_b_mse: 2.4568\n",
            "Epoch 44/100\n",
            "516/516 [==============================] - 1s 3ms/step - loss: 2.4566 - out_a_loss: 2.4565 - out_b_loss: 2.4568 - out_a_mse: 2.4565 - out_b_mse: 2.4568\n",
            "Epoch 45/100\n",
            "516/516 [==============================] - 1s 3ms/step - loss: 2.4565 - out_a_loss: 2.4565 - out_b_loss: 2.4568 - out_a_mse: 2.4565 - out_b_mse: 2.4568\n",
            "Epoch 46/100\n",
            "516/516 [==============================] - 1s 3ms/step - loss: 2.4565 - out_a_loss: 2.4565 - out_b_loss: 2.4568 - out_a_mse: 2.4565 - out_b_mse: 2.4568\n",
            "Epoch 47/100\n",
            "516/516 [==============================] - 1s 3ms/step - loss: 2.4565 - out_a_loss: 2.4565 - out_b_loss: 2.4567 - out_a_mse: 2.4565 - out_b_mse: 2.4567\n",
            "Epoch 48/100\n",
            "516/516 [==============================] - 1s 3ms/step - loss: 2.4565 - out_a_loss: 2.4565 - out_b_loss: 2.4568 - out_a_mse: 2.4565 - out_b_mse: 2.4568\n",
            "Epoch 49/100\n",
            "516/516 [==============================] - 1s 3ms/step - loss: 2.4565 - out_a_loss: 2.4564 - out_b_loss: 2.4567 - out_a_mse: 2.4564 - out_b_mse: 2.4567\n",
            "Epoch 50/100\n",
            "516/516 [==============================] - 1s 3ms/step - loss: 2.4565 - out_a_loss: 2.4565 - out_b_loss: 2.4568 - out_a_mse: 2.4565 - out_b_mse: 2.4568\n",
            "Epoch 51/100\n",
            "516/516 [==============================] - 1s 3ms/step - loss: 2.4565 - out_a_loss: 2.4564 - out_b_loss: 2.4568 - out_a_mse: 2.4564 - out_b_mse: 2.4568\n",
            "Epoch 52/100\n",
            "516/516 [==============================] - 1s 3ms/step - loss: 2.4565 - out_a_loss: 2.4565 - out_b_loss: 2.4568 - out_a_mse: 2.4565 - out_b_mse: 2.4568\n",
            "Epoch 53/100\n",
            "516/516 [==============================] - 1s 3ms/step - loss: 2.4565 - out_a_loss: 2.4565 - out_b_loss: 2.4568 - out_a_mse: 2.4565 - out_b_mse: 2.4568\n",
            "Epoch 54/100\n",
            "516/516 [==============================] - 1s 3ms/step - loss: 2.4565 - out_a_loss: 2.4565 - out_b_loss: 2.4568 - out_a_mse: 2.4565 - out_b_mse: 2.4568\n",
            "Epoch 55/100\n",
            "516/516 [==============================] - 1s 3ms/step - loss: 2.4565 - out_a_loss: 2.4565 - out_b_loss: 2.4567 - out_a_mse: 2.4565 - out_b_mse: 2.4567\n",
            "Epoch 56/100\n",
            "516/516 [==============================] - 1s 3ms/step - loss: 2.4565 - out_a_loss: 2.4565 - out_b_loss: 2.4567 - out_a_mse: 2.4565 - out_b_mse: 2.4567\n",
            "Epoch 57/100\n",
            "516/516 [==============================] - 1s 3ms/step - loss: 2.4565 - out_a_loss: 2.4565 - out_b_loss: 2.4568 - out_a_mse: 2.4565 - out_b_mse: 2.4568\n",
            "Epoch 58/100\n",
            "516/516 [==============================] - 1s 3ms/step - loss: 2.4566 - out_a_loss: 2.4565 - out_b_loss: 2.4569 - out_a_mse: 2.4565 - out_b_mse: 2.4569\n",
            "Epoch 59/100\n",
            "516/516 [==============================] - 1s 3ms/step - loss: 2.4565 - out_a_loss: 2.4565 - out_b_loss: 2.4568 - out_a_mse: 2.4565 - out_b_mse: 2.4568\n",
            "Epoch 60/100\n",
            "516/516 [==============================] - 1s 3ms/step - loss: 2.4565 - out_a_loss: 2.4564 - out_b_loss: 2.4567 - out_a_mse: 2.4564 - out_b_mse: 2.4567\n",
            "Epoch 61/100\n",
            "516/516 [==============================] - 1s 3ms/step - loss: 2.4565 - out_a_loss: 2.4565 - out_b_loss: 2.4568 - out_a_mse: 2.4565 - out_b_mse: 2.4568\n",
            "Epoch 62/100\n",
            "516/516 [==============================] - 1s 3ms/step - loss: 2.4565 - out_a_loss: 2.4564 - out_b_loss: 2.4567 - out_a_mse: 2.4564 - out_b_mse: 2.4567\n",
            "Epoch 63/100\n",
            "516/516 [==============================] - 1s 3ms/step - loss: 2.4565 - out_a_loss: 2.4564 - out_b_loss: 2.4567 - out_a_mse: 2.4564 - out_b_mse: 2.4567\n",
            "Epoch 64/100\n",
            "516/516 [==============================] - 1s 3ms/step - loss: 2.4564 - out_a_loss: 2.4564 - out_b_loss: 2.4567 - out_a_mse: 2.4564 - out_b_mse: 2.4567\n",
            "Epoch 65/100\n",
            "516/516 [==============================] - 1s 3ms/step - loss: 2.4565 - out_a_loss: 2.4564 - out_b_loss: 2.4567 - out_a_mse: 2.4564 - out_b_mse: 2.4567\n",
            "Epoch 66/100\n",
            "516/516 [==============================] - 1s 3ms/step - loss: 2.4564 - out_a_loss: 2.4564 - out_b_loss: 2.4567 - out_a_mse: 2.4564 - out_b_mse: 2.4567\n",
            "Epoch 67/100\n",
            "516/516 [==============================] - 1s 3ms/step - loss: 2.4564 - out_a_loss: 2.4564 - out_b_loss: 2.4567 - out_a_mse: 2.4564 - out_b_mse: 2.4567\n",
            "Epoch 68/100\n",
            "516/516 [==============================] - 1s 3ms/step - loss: 2.4565 - out_a_loss: 2.4565 - out_b_loss: 2.4567 - out_a_mse: 2.4565 - out_b_mse: 2.4567\n",
            "Epoch 69/100\n",
            "516/516 [==============================] - 1s 3ms/step - loss: 2.4565 - out_a_loss: 2.4565 - out_b_loss: 2.4568 - out_a_mse: 2.4565 - out_b_mse: 2.4568\n",
            "Epoch 70/100\n",
            "516/516 [==============================] - 1s 3ms/step - loss: 2.4564 - out_a_loss: 2.4564 - out_b_loss: 2.4567 - out_a_mse: 2.4564 - out_b_mse: 2.4567\n",
            "Epoch 71/100\n",
            "516/516 [==============================] - 1s 3ms/step - loss: 2.4564 - out_a_loss: 2.4564 - out_b_loss: 2.4567 - out_a_mse: 2.4564 - out_b_mse: 2.4567\n",
            "Epoch 72/100\n",
            "516/516 [==============================] - 1s 3ms/step - loss: 2.4564 - out_a_loss: 2.4564 - out_b_loss: 2.4567 - out_a_mse: 2.4564 - out_b_mse: 2.4567\n",
            "Epoch 73/100\n",
            "516/516 [==============================] - 1s 3ms/step - loss: 2.4564 - out_a_loss: 2.4563 - out_b_loss: 2.4566 - out_a_mse: 2.4563 - out_b_mse: 2.4566\n",
            "Epoch 74/100\n",
            "516/516 [==============================] - 1s 3ms/step - loss: 2.4564 - out_a_loss: 2.4564 - out_b_loss: 2.4567 - out_a_mse: 2.4564 - out_b_mse: 2.4567\n",
            "Epoch 75/100\n",
            "516/516 [==============================] - 1s 3ms/step - loss: 2.4564 - out_a_loss: 2.4564 - out_b_loss: 2.4567 - out_a_mse: 2.4564 - out_b_mse: 2.4567\n",
            "Epoch 76/100\n",
            "516/516 [==============================] - 1s 3ms/step - loss: 2.4564 - out_a_loss: 2.4564 - out_b_loss: 2.4567 - out_a_mse: 2.4564 - out_b_mse: 2.4567\n",
            "Epoch 77/100\n",
            "516/516 [==============================] - 1s 3ms/step - loss: 2.4564 - out_a_loss: 2.4564 - out_b_loss: 2.4567 - out_a_mse: 2.4564 - out_b_mse: 2.4567\n",
            "Epoch 78/100\n",
            "516/516 [==============================] - 1s 3ms/step - loss: 2.4564 - out_a_loss: 2.4564 - out_b_loss: 2.4567 - out_a_mse: 2.4564 - out_b_mse: 2.4567\n",
            "Epoch 79/100\n",
            "516/516 [==============================] - 1s 3ms/step - loss: 2.4564 - out_a_loss: 2.4564 - out_b_loss: 2.4567 - out_a_mse: 2.4564 - out_b_mse: 2.4567\n",
            "Epoch 80/100\n",
            "516/516 [==============================] - 1s 3ms/step - loss: 2.4564 - out_a_loss: 2.4563 - out_b_loss: 2.4566 - out_a_mse: 2.4563 - out_b_mse: 2.4566\n",
            "Epoch 81/100\n",
            "516/516 [==============================] - 1s 3ms/step - loss: 2.4563 - out_a_loss: 2.4563 - out_b_loss: 2.4566 - out_a_mse: 2.4563 - out_b_mse: 2.4566\n",
            "Epoch 82/100\n",
            "516/516 [==============================] - 1s 3ms/step - loss: 2.4564 - out_a_loss: 2.4563 - out_b_loss: 2.4566 - out_a_mse: 2.4563 - out_b_mse: 2.4566\n",
            "Epoch 83/100\n",
            "516/516 [==============================] - 1s 3ms/step - loss: 2.4565 - out_a_loss: 2.4564 - out_b_loss: 2.4567 - out_a_mse: 2.4564 - out_b_mse: 2.4567\n",
            "Epoch 84/100\n",
            "516/516 [==============================] - 1s 3ms/step - loss: 2.4565 - out_a_loss: 2.4565 - out_b_loss: 2.4568 - out_a_mse: 2.4565 - out_b_mse: 2.4568\n",
            "Epoch 85/100\n",
            "516/516 [==============================] - 1s 3ms/step - loss: 2.4565 - out_a_loss: 2.4564 - out_b_loss: 2.4567 - out_a_mse: 2.4564 - out_b_mse: 2.4567\n",
            "Epoch 86/100\n",
            "516/516 [==============================] - 1s 3ms/step - loss: 2.4564 - out_a_loss: 2.4563 - out_b_loss: 2.4566 - out_a_mse: 2.4563 - out_b_mse: 2.4566\n",
            "Epoch 87/100\n",
            "516/516 [==============================] - 1s 3ms/step - loss: 2.4564 - out_a_loss: 2.4564 - out_b_loss: 2.4566 - out_a_mse: 2.4564 - out_b_mse: 2.4566\n",
            "Epoch 88/100\n",
            "516/516 [==============================] - 1s 3ms/step - loss: 2.4563 - out_a_loss: 2.4563 - out_b_loss: 2.4566 - out_a_mse: 2.4563 - out_b_mse: 2.4566\n",
            "Epoch 89/100\n",
            "516/516 [==============================] - 1s 3ms/step - loss: 2.4565 - out_a_loss: 2.4564 - out_b_loss: 2.4567 - out_a_mse: 2.4564 - out_b_mse: 2.4567\n",
            "Epoch 90/100\n",
            "516/516 [==============================] - 1s 3ms/step - loss: 2.4564 - out_a_loss: 2.4564 - out_b_loss: 2.4567 - out_a_mse: 2.4564 - out_b_mse: 2.4567\n",
            "Epoch 91/100\n",
            "516/516 [==============================] - 1s 3ms/step - loss: 2.4563 - out_a_loss: 2.4563 - out_b_loss: 2.4566 - out_a_mse: 2.4563 - out_b_mse: 2.4566\n",
            "Epoch 92/100\n",
            "516/516 [==============================] - 1s 3ms/step - loss: 2.4563 - out_a_loss: 2.4563 - out_b_loss: 2.4566 - out_a_mse: 2.4563 - out_b_mse: 2.4566\n",
            "Epoch 93/100\n",
            "516/516 [==============================] - 1s 3ms/step - loss: 2.4564 - out_a_loss: 2.4564 - out_b_loss: 2.4567 - out_a_mse: 2.4564 - out_b_mse: 2.4567\n",
            "Epoch 94/100\n",
            "516/516 [==============================] - 1s 3ms/step - loss: 2.4563 - out_a_loss: 2.4563 - out_b_loss: 2.4566 - out_a_mse: 2.4563 - out_b_mse: 2.4566\n",
            "Epoch 95/100\n",
            "516/516 [==============================] - 1s 3ms/step - loss: 2.4563 - out_a_loss: 2.4563 - out_b_loss: 2.4567 - out_a_mse: 2.4563 - out_b_mse: 2.4567\n",
            "Epoch 96/100\n",
            "516/516 [==============================] - 1s 3ms/step - loss: 2.4563 - out_a_loss: 2.4563 - out_b_loss: 2.4566 - out_a_mse: 2.4563 - out_b_mse: 2.4566\n",
            "Epoch 97/100\n",
            "516/516 [==============================] - 1s 3ms/step - loss: 2.4564 - out_a_loss: 2.4563 - out_b_loss: 2.4566 - out_a_mse: 2.4563 - out_b_mse: 2.4566\n",
            "Epoch 98/100\n",
            "516/516 [==============================] - 1s 3ms/step - loss: 2.4564 - out_a_loss: 2.4563 - out_b_loss: 2.4567 - out_a_mse: 2.4563 - out_b_mse: 2.4567\n",
            "Epoch 99/100\n",
            "516/516 [==============================] - 1s 3ms/step - loss: 2.4564 - out_a_loss: 2.4563 - out_b_loss: 2.4566 - out_a_mse: 2.4563 - out_b_mse: 2.4566\n",
            "Epoch 100/100\n",
            "516/516 [==============================] - 1s 3ms/step - loss: 2.4564 - out_a_loss: 2.4563 - out_b_loss: 2.4567 - out_a_mse: 2.4563 - out_b_mse: 2.4567\n"
          ]
        },
        {
          "output_type": "execute_result",
          "data": {
            "text/plain": [
              "<keras.callbacks.History at 0x7f8036439bd0>"
            ]
          },
          "metadata": {},
          "execution_count": 43
        }
      ]
    },
    {
      "cell_type": "code",
      "metadata": {
        "id": "lqDTxCZr8fxs",
        "colab": {
          "base_uri": "https://localhost:8080/"
        },
        "outputId": "7d82d2cf-2148-4f0f-eb13-dfd2e3e24b0b"
      },
      "source": [
        "# 8.3 To evaluate, we must also supply two inputs\n",
        "main_model.evaluate(\n",
        "                     [X_test[:,:4],X_test[:,1:8]],\n",
        "                      y_test\n",
        "                    )"
      ],
      "execution_count": null,
      "outputs": [
        {
          "output_type": "stream",
          "name": "stdout",
          "text": [
            "129/129 [==============================] - 0s 1ms/step - loss: 2.5633 - out_a_loss: 2.5632 - out_b_loss: 2.5639 - out_a_mse: 2.5632 - out_b_mse: 2.5639\n"
          ]
        },
        {
          "output_type": "execute_result",
          "data": {
            "text/plain": [
              "[2.5633063316345215,\n",
              " 2.563241958618164,\n",
              " 2.563885450363159,\n",
              " 2.563241958618164,\n",
              " 2.563885450363159]"
            ]
          },
          "metadata": {},
          "execution_count": 153
        }
      ]
    }
  ]
}
{
  "nbformat": 4,
  "nbformat_minor": 0,
  "metadata": {
    "kernelspec": {
      "display_name": "Python 3",
      "language": "python",
      "name": "python3"
    },
    "language_info": {
      "codemirror_mode": {
        "name": "ipython",
        "version": 3
      },
      "file_extension": ".py",
      "mimetype": "text/x-python",
      "name": "python",
      "nbconvert_exporter": "python",
      "pygments_lexer": "ipython3",
      "version": "3.7.3"
    },
    "colab": {
      "name": "Categorical_Embeddings.ipynb",
      "provenance": [],
      "collapsed_sections": []
    }
  },
  "cells": [
    {
      "cell_type": "markdown",
      "metadata": {
        "id": "view-in-github"
      },
      "source": [
        "<a href=\"https://colab.research.google.com/github/harnalashok/deeplearning-sequences/blob/main/categories_As_embeddings.ipynb\" target=\"_parent\"><img src=\"https://colab.research.google.com/assets/colab-badge.svg\" alt=\"Open In Colab\"/></a>"
      ]
    },
    {
      "cell_type": "markdown",
      "metadata": {
        "id": "UowrA2Xge_dR"
      },
      "source": [
        "# Experiment to show usefulness of Categorical Embeddings"
      ]
    },
    {
      "cell_type": "markdown",
      "metadata": {
        "id": "WGqAuzgq38UX"
      },
      "source": [
        "## OHE"
      ]
    },
    {
      "cell_type": "code",
      "metadata": {
        "id": "DEMGK4lQe_dX"
      },
      "source": [
        "# 1.0 Call libraries\n",
        "import numpy as np\n",
        "import pandas as pd\n",
        "# 1.1 Keras modules\n",
        "from tensorflow.keras.models import Sequential\n",
        "from tensorflow.keras.layers import Embedding, Dense, Flatten, Dropout\n",
        "# 1.2 sklearn for scaling data\n",
        "from sklearn.preprocessing import MinMaxScaler\n",
        "# 1.3 For plotting\n",
        "import matplotlib.pyplot as plt\n",
        "from mpl_toolkits.mplot3d import Axes3D\n",
        "%matplotlib inline \n",
        "# 1.4 Misc\n",
        "import os"
      ],
      "execution_count": 1,
      "outputs": []
    },
    {
      "cell_type": "code",
      "metadata": {
        "colab": {
          "base_uri": "https://localhost:8080/"
        },
        "id": "6fPyV-EClz93",
        "outputId": "46a860c1-cf2d-40ae-8fa1-8558113b8445"
      },
      "source": [
        "# 1.0.1\n",
        "from google.colab import drive\n",
        "drive.mount('/gdrive')"
      ],
      "execution_count": 2,
      "outputs": [
        {
          "output_type": "stream",
          "name": "stdout",
          "text": [
            "Mounted at /gdrive\n"
          ]
        }
      ]
    },
    {
      "cell_type": "code",
      "metadata": {
        "id": "K9-HHM55NChc"
      },
      "source": [
        "# 1.0.2\n",
        "from IPython.core.interactiveshell import InteractiveShell\n",
        "InteractiveShell.ast_node_interactivity = \"all\""
      ],
      "execution_count": 3,
      "outputs": []
    },
    {
      "cell_type": "code",
      "metadata": {
        "colab": {
          "base_uri": "https://localhost:8080/"
        },
        "id": "38faMN9RAB0l",
        "outputId": "f7e8f10a-a1da-4280-a961-71357ed83ade"
      },
      "source": [
        "from google.colab import drive\n",
        "drive.mount('/content/drive')"
      ],
      "execution_count": 4,
      "outputs": [
        {
          "output_type": "stream",
          "name": "stdout",
          "text": [
            "Mounted at /content/drive\n"
          ]
        }
      ]
    },
    {
      "cell_type": "markdown",
      "metadata": {
        "id": "lFAA4_lfe_dY"
      },
      "source": [
        "# Read Data"
      ]
    },
    {
      "cell_type": "code",
      "metadata": {
        "id": "HDLymBrTe_dZ",
        "colab": {
          "base_uri": "https://localhost:8080/",
          "height": 201
        },
        "outputId": "9a94e1fe-8b30-4337-c8c7-73f771eb0769"
      },
      "source": [
        "# 2.0 Read and show  bikesharing data\n",
        "\n",
        "os.chdir(\"/content/drive/MyDrive/fa\")\n",
        "data_df = pd.read_csv('/content/drive/MyDrive/fa/bike_sharing_daily.csv.zip', encoding='latin')\n",
        "data_df.head()"
      ],
      "execution_count": 7,
      "outputs": [
        {
          "output_type": "execute_result",
          "data": {
            "text/html": [
              "<div>\n",
              "<style scoped>\n",
              "    .dataframe tbody tr th:only-of-type {\n",
              "        vertical-align: middle;\n",
              "    }\n",
              "\n",
              "    .dataframe tbody tr th {\n",
              "        vertical-align: top;\n",
              "    }\n",
              "\n",
              "    .dataframe thead th {\n",
              "        text-align: right;\n",
              "    }\n",
              "</style>\n",
              "<table border=\"1\" class=\"dataframe\">\n",
              "  <thead>\n",
              "    <tr style=\"text-align: right;\">\n",
              "      <th></th>\n",
              "      <th>instant</th>\n",
              "      <th>dteday</th>\n",
              "      <th>season</th>\n",
              "      <th>yr</th>\n",
              "      <th>mnth</th>\n",
              "      <th>holiday</th>\n",
              "      <th>weekday</th>\n",
              "      <th>workingday</th>\n",
              "      <th>weathersit</th>\n",
              "      <th>temp</th>\n",
              "      <th>atemp</th>\n",
              "      <th>hum</th>\n",
              "      <th>windspeed</th>\n",
              "      <th>casual</th>\n",
              "      <th>registered</th>\n",
              "      <th>cnt</th>\n",
              "    </tr>\n",
              "  </thead>\n",
              "  <tbody>\n",
              "    <tr>\n",
              "      <th>0</th>\n",
              "      <td>1</td>\n",
              "      <td>2011-01-01</td>\n",
              "      <td>1</td>\n",
              "      <td>0</td>\n",
              "      <td>1</td>\n",
              "      <td>0</td>\n",
              "      <td>6</td>\n",
              "      <td>0</td>\n",
              "      <td>2</td>\n",
              "      <td>0.344167</td>\n",
              "      <td>0.363625</td>\n",
              "      <td>0.805833</td>\n",
              "      <td>0.160446</td>\n",
              "      <td>331</td>\n",
              "      <td>654</td>\n",
              "      <td>985</td>\n",
              "    </tr>\n",
              "    <tr>\n",
              "      <th>1</th>\n",
              "      <td>2</td>\n",
              "      <td>2011-01-02</td>\n",
              "      <td>1</td>\n",
              "      <td>0</td>\n",
              "      <td>1</td>\n",
              "      <td>0</td>\n",
              "      <td>0</td>\n",
              "      <td>0</td>\n",
              "      <td>2</td>\n",
              "      <td>0.363478</td>\n",
              "      <td>0.353739</td>\n",
              "      <td>0.696087</td>\n",
              "      <td>0.248539</td>\n",
              "      <td>131</td>\n",
              "      <td>670</td>\n",
              "      <td>801</td>\n",
              "    </tr>\n",
              "    <tr>\n",
              "      <th>2</th>\n",
              "      <td>3</td>\n",
              "      <td>2011-01-03</td>\n",
              "      <td>1</td>\n",
              "      <td>0</td>\n",
              "      <td>1</td>\n",
              "      <td>0</td>\n",
              "      <td>1</td>\n",
              "      <td>1</td>\n",
              "      <td>1</td>\n",
              "      <td>0.196364</td>\n",
              "      <td>0.189405</td>\n",
              "      <td>0.437273</td>\n",
              "      <td>0.248309</td>\n",
              "      <td>120</td>\n",
              "      <td>1229</td>\n",
              "      <td>1349</td>\n",
              "    </tr>\n",
              "    <tr>\n",
              "      <th>3</th>\n",
              "      <td>4</td>\n",
              "      <td>2011-01-04</td>\n",
              "      <td>1</td>\n",
              "      <td>0</td>\n",
              "      <td>1</td>\n",
              "      <td>0</td>\n",
              "      <td>2</td>\n",
              "      <td>1</td>\n",
              "      <td>1</td>\n",
              "      <td>0.200000</td>\n",
              "      <td>0.212122</td>\n",
              "      <td>0.590435</td>\n",
              "      <td>0.160296</td>\n",
              "      <td>108</td>\n",
              "      <td>1454</td>\n",
              "      <td>1562</td>\n",
              "    </tr>\n",
              "    <tr>\n",
              "      <th>4</th>\n",
              "      <td>5</td>\n",
              "      <td>2011-01-05</td>\n",
              "      <td>1</td>\n",
              "      <td>0</td>\n",
              "      <td>1</td>\n",
              "      <td>0</td>\n",
              "      <td>3</td>\n",
              "      <td>1</td>\n",
              "      <td>1</td>\n",
              "      <td>0.226957</td>\n",
              "      <td>0.229270</td>\n",
              "      <td>0.436957</td>\n",
              "      <td>0.186900</td>\n",
              "      <td>82</td>\n",
              "      <td>1518</td>\n",
              "      <td>1600</td>\n",
              "    </tr>\n",
              "  </tbody>\n",
              "</table>\n",
              "</div>"
            ],
            "text/plain": [
              "   instant      dteday  season  yr  ...  windspeed  casual  registered   cnt\n",
              "0        1  2011-01-01       1   0  ...   0.160446     331         654   985\n",
              "1        2  2011-01-02       1   0  ...   0.248539     131         670   801\n",
              "2        3  2011-01-03       1   0  ...   0.248309     120        1229  1349\n",
              "3        4  2011-01-04       1   0  ...   0.160296     108        1454  1562\n",
              "4        5  2011-01-05       1   0  ...   0.186900      82        1518  1600\n",
              "\n",
              "[5 rows x 16 columns]"
            ]
          },
          "metadata": {},
          "execution_count": 7
        }
      ]
    },
    {
      "cell_type": "code",
      "metadata": {
        "id": "sZQ4Q8X-e_dZ",
        "colab": {
          "base_uri": "https://localhost:8080/"
        },
        "outputId": "801bc7f5-db36-494e-808f-1daf92f860e5"
      },
      "source": [
        "# 2.1 Data types\n",
        "data_df.dtypes"
      ],
      "execution_count": 8,
      "outputs": [
        {
          "output_type": "execute_result",
          "data": {
            "text/plain": [
              "instant         int64\n",
              "dteday         object\n",
              "season          int64\n",
              "yr              int64\n",
              "mnth            int64\n",
              "holiday         int64\n",
              "weekday         int64\n",
              "workingday      int64\n",
              "weathersit      int64\n",
              "temp          float64\n",
              "atemp         float64\n",
              "hum           float64\n",
              "windspeed     float64\n",
              "casual          int64\n",
              "registered      int64\n",
              "cnt             int64\n",
              "dtype: object"
            ]
          },
          "metadata": {},
          "execution_count": 8
        }
      ]
    },
    {
      "cell_type": "markdown",
      "metadata": {
        "id": "aJPSqAGwNZyE"
      },
      "source": [
        "## Display impt data features"
      ]
    },
    {
      "cell_type": "code",
      "metadata": {
        "id": "g_ovTwT6e_da",
        "colab": {
          "base_uri": "https://localhost:8080/",
          "height": 292
        },
        "outputId": "5689ffef-8707-46f2-ea1a-9840dfefe873"
      },
      "source": [
        "# 2.2 Simple 'groupby()'' example. Only numeric columns will be summed up\n",
        "df = pd.DataFrame(\n",
        "                   { 'a': [1,2,3,4],\n",
        "                     'b' : ['a', 'a', 'b','b'],\n",
        "                     'c' : ['aa','bb','cc','cc'],\n",
        "                     'd' : [10,11,12,13]\n",
        "                   }\n",
        "                 )\n",
        "\n",
        "df\n",
        "# Use groupby to aggregate\n",
        "#  Only numeric columns are aggregated\n",
        "df.groupby('b').sum()"
      ],
      "execution_count": 9,
      "outputs": [
        {
          "output_type": "execute_result",
          "data": {
            "text/html": [
              "<div>\n",
              "<style scoped>\n",
              "    .dataframe tbody tr th:only-of-type {\n",
              "        vertical-align: middle;\n",
              "    }\n",
              "\n",
              "    .dataframe tbody tr th {\n",
              "        vertical-align: top;\n",
              "    }\n",
              "\n",
              "    .dataframe thead th {\n",
              "        text-align: right;\n",
              "    }\n",
              "</style>\n",
              "<table border=\"1\" class=\"dataframe\">\n",
              "  <thead>\n",
              "    <tr style=\"text-align: right;\">\n",
              "      <th></th>\n",
              "      <th>a</th>\n",
              "      <th>b</th>\n",
              "      <th>c</th>\n",
              "      <th>d</th>\n",
              "    </tr>\n",
              "  </thead>\n",
              "  <tbody>\n",
              "    <tr>\n",
              "      <th>0</th>\n",
              "      <td>1</td>\n",
              "      <td>a</td>\n",
              "      <td>aa</td>\n",
              "      <td>10</td>\n",
              "    </tr>\n",
              "    <tr>\n",
              "      <th>1</th>\n",
              "      <td>2</td>\n",
              "      <td>a</td>\n",
              "      <td>bb</td>\n",
              "      <td>11</td>\n",
              "    </tr>\n",
              "    <tr>\n",
              "      <th>2</th>\n",
              "      <td>3</td>\n",
              "      <td>b</td>\n",
              "      <td>cc</td>\n",
              "      <td>12</td>\n",
              "    </tr>\n",
              "    <tr>\n",
              "      <th>3</th>\n",
              "      <td>4</td>\n",
              "      <td>b</td>\n",
              "      <td>cc</td>\n",
              "      <td>13</td>\n",
              "    </tr>\n",
              "  </tbody>\n",
              "</table>\n",
              "</div>"
            ],
            "text/plain": [
              "   a  b   c   d\n",
              "0  1  a  aa  10\n",
              "1  2  a  bb  11\n",
              "2  3  b  cc  12\n",
              "3  4  b  cc  13"
            ]
          },
          "metadata": {},
          "execution_count": 9
        },
        {
          "output_type": "execute_result",
          "data": {
            "text/html": [
              "<div>\n",
              "<style scoped>\n",
              "    .dataframe tbody tr th:only-of-type {\n",
              "        vertical-align: middle;\n",
              "    }\n",
              "\n",
              "    .dataframe tbody tr th {\n",
              "        vertical-align: top;\n",
              "    }\n",
              "\n",
              "    .dataframe thead th {\n",
              "        text-align: right;\n",
              "    }\n",
              "</style>\n",
              "<table border=\"1\" class=\"dataframe\">\n",
              "  <thead>\n",
              "    <tr style=\"text-align: right;\">\n",
              "      <th></th>\n",
              "      <th>a</th>\n",
              "      <th>d</th>\n",
              "    </tr>\n",
              "    <tr>\n",
              "      <th>b</th>\n",
              "      <th></th>\n",
              "      <th></th>\n",
              "    </tr>\n",
              "  </thead>\n",
              "  <tbody>\n",
              "    <tr>\n",
              "      <th>a</th>\n",
              "      <td>3</td>\n",
              "      <td>21</td>\n",
              "    </tr>\n",
              "    <tr>\n",
              "      <th>b</th>\n",
              "      <td>7</td>\n",
              "      <td>25</td>\n",
              "    </tr>\n",
              "  </tbody>\n",
              "</table>\n",
              "</div>"
            ],
            "text/plain": [
              "   a   d\n",
              "b       \n",
              "a  3  21\n",
              "b  7  25"
            ]
          },
          "metadata": {},
          "execution_count": 9
        }
      ]
    },
    {
      "cell_type": "code",
      "metadata": {
        "id": "8rzkbL22e_da",
        "colab": {
          "base_uri": "https://localhost:8080/",
          "height": 384
        },
        "outputId": "c44639b3-374c-4126-8b28-38192da73209"
      },
      "source": [
        "# 3. To simplify matters, We will concern ourselves to just two columns\n",
        "#    Extract from our data, only two columns\n",
        "data_small_df = data_df[['cnt','mnth']]\n",
        "data_small_df.head() \n",
        "data_small_df.tail() \n"
      ],
      "execution_count": 10,
      "outputs": [
        {
          "output_type": "execute_result",
          "data": {
            "text/html": [
              "<div>\n",
              "<style scoped>\n",
              "    .dataframe tbody tr th:only-of-type {\n",
              "        vertical-align: middle;\n",
              "    }\n",
              "\n",
              "    .dataframe tbody tr th {\n",
              "        vertical-align: top;\n",
              "    }\n",
              "\n",
              "    .dataframe thead th {\n",
              "        text-align: right;\n",
              "    }\n",
              "</style>\n",
              "<table border=\"1\" class=\"dataframe\">\n",
              "  <thead>\n",
              "    <tr style=\"text-align: right;\">\n",
              "      <th></th>\n",
              "      <th>cnt</th>\n",
              "      <th>mnth</th>\n",
              "    </tr>\n",
              "  </thead>\n",
              "  <tbody>\n",
              "    <tr>\n",
              "      <th>0</th>\n",
              "      <td>985</td>\n",
              "      <td>1</td>\n",
              "    </tr>\n",
              "    <tr>\n",
              "      <th>1</th>\n",
              "      <td>801</td>\n",
              "      <td>1</td>\n",
              "    </tr>\n",
              "    <tr>\n",
              "      <th>2</th>\n",
              "      <td>1349</td>\n",
              "      <td>1</td>\n",
              "    </tr>\n",
              "    <tr>\n",
              "      <th>3</th>\n",
              "      <td>1562</td>\n",
              "      <td>1</td>\n",
              "    </tr>\n",
              "    <tr>\n",
              "      <th>4</th>\n",
              "      <td>1600</td>\n",
              "      <td>1</td>\n",
              "    </tr>\n",
              "  </tbody>\n",
              "</table>\n",
              "</div>"
            ],
            "text/plain": [
              "    cnt  mnth\n",
              "0   985     1\n",
              "1   801     1\n",
              "2  1349     1\n",
              "3  1562     1\n",
              "4  1600     1"
            ]
          },
          "metadata": {},
          "execution_count": 10
        },
        {
          "output_type": "execute_result",
          "data": {
            "text/html": [
              "<div>\n",
              "<style scoped>\n",
              "    .dataframe tbody tr th:only-of-type {\n",
              "        vertical-align: middle;\n",
              "    }\n",
              "\n",
              "    .dataframe tbody tr th {\n",
              "        vertical-align: top;\n",
              "    }\n",
              "\n",
              "    .dataframe thead th {\n",
              "        text-align: right;\n",
              "    }\n",
              "</style>\n",
              "<table border=\"1\" class=\"dataframe\">\n",
              "  <thead>\n",
              "    <tr style=\"text-align: right;\">\n",
              "      <th></th>\n",
              "      <th>cnt</th>\n",
              "      <th>mnth</th>\n",
              "    </tr>\n",
              "  </thead>\n",
              "  <tbody>\n",
              "    <tr>\n",
              "      <th>726</th>\n",
              "      <td>2114</td>\n",
              "      <td>12</td>\n",
              "    </tr>\n",
              "    <tr>\n",
              "      <th>727</th>\n",
              "      <td>3095</td>\n",
              "      <td>12</td>\n",
              "    </tr>\n",
              "    <tr>\n",
              "      <th>728</th>\n",
              "      <td>1341</td>\n",
              "      <td>12</td>\n",
              "    </tr>\n",
              "    <tr>\n",
              "      <th>729</th>\n",
              "      <td>1796</td>\n",
              "      <td>12</td>\n",
              "    </tr>\n",
              "    <tr>\n",
              "      <th>730</th>\n",
              "      <td>2729</td>\n",
              "      <td>12</td>\n",
              "    </tr>\n",
              "  </tbody>\n",
              "</table>\n",
              "</div>"
            ],
            "text/plain": [
              "      cnt  mnth\n",
              "726  2114    12\n",
              "727  3095    12\n",
              "728  1341    12\n",
              "729  1796    12\n",
              "730  2729    12"
            ]
          },
          "metadata": {},
          "execution_count": 10
        }
      ]
    },
    {
      "cell_type": "code",
      "metadata": {
        "id": "1tyqL3Ive_dc",
        "colab": {
          "base_uri": "https://localhost:8080/",
          "height": 384
        },
        "outputId": "6b2cff01-c925-4b24-b9f9-d8babe9a9004"
      },
      "source": [
        "# 3.1 Order this dataset by mnth (maybe it is already ordered. Just make doubly sure)\n",
        "data_small_df = data_small_df.sort_values(by=['mnth'])\n",
        "data_small_df.head()\n",
        "data_small_df.tail()"
      ],
      "execution_count": 11,
      "outputs": [
        {
          "output_type": "execute_result",
          "data": {
            "text/html": [
              "<div>\n",
              "<style scoped>\n",
              "    .dataframe tbody tr th:only-of-type {\n",
              "        vertical-align: middle;\n",
              "    }\n",
              "\n",
              "    .dataframe tbody tr th {\n",
              "        vertical-align: top;\n",
              "    }\n",
              "\n",
              "    .dataframe thead th {\n",
              "        text-align: right;\n",
              "    }\n",
              "</style>\n",
              "<table border=\"1\" class=\"dataframe\">\n",
              "  <thead>\n",
              "    <tr style=\"text-align: right;\">\n",
              "      <th></th>\n",
              "      <th>cnt</th>\n",
              "      <th>mnth</th>\n",
              "    </tr>\n",
              "  </thead>\n",
              "  <tbody>\n",
              "    <tr>\n",
              "      <th>0</th>\n",
              "      <td>985</td>\n",
              "      <td>1</td>\n",
              "    </tr>\n",
              "    <tr>\n",
              "      <th>368</th>\n",
              "      <td>2368</td>\n",
              "      <td>1</td>\n",
              "    </tr>\n",
              "    <tr>\n",
              "      <th>369</th>\n",
              "      <td>3272</td>\n",
              "      <td>1</td>\n",
              "    </tr>\n",
              "    <tr>\n",
              "      <th>370</th>\n",
              "      <td>4098</td>\n",
              "      <td>1</td>\n",
              "    </tr>\n",
              "    <tr>\n",
              "      <th>371</th>\n",
              "      <td>4521</td>\n",
              "      <td>1</td>\n",
              "    </tr>\n",
              "  </tbody>\n",
              "</table>\n",
              "</div>"
            ],
            "text/plain": [
              "      cnt  mnth\n",
              "0     985     1\n",
              "368  2368     1\n",
              "369  3272     1\n",
              "370  4098     1\n",
              "371  4521     1"
            ]
          },
          "metadata": {},
          "execution_count": 11
        },
        {
          "output_type": "execute_result",
          "data": {
            "text/html": [
              "<div>\n",
              "<style scoped>\n",
              "    .dataframe tbody tr th:only-of-type {\n",
              "        vertical-align: middle;\n",
              "    }\n",
              "\n",
              "    .dataframe tbody tr th {\n",
              "        vertical-align: top;\n",
              "    }\n",
              "\n",
              "    .dataframe thead th {\n",
              "        text-align: right;\n",
              "    }\n",
              "</style>\n",
              "<table border=\"1\" class=\"dataframe\">\n",
              "  <thead>\n",
              "    <tr style=\"text-align: right;\">\n",
              "      <th></th>\n",
              "      <th>cnt</th>\n",
              "      <th>mnth</th>\n",
              "    </tr>\n",
              "  </thead>\n",
              "  <tbody>\n",
              "    <tr>\n",
              "      <th>361</th>\n",
              "      <td>2302</td>\n",
              "      <td>12</td>\n",
              "    </tr>\n",
              "    <tr>\n",
              "      <th>362</th>\n",
              "      <td>2423</td>\n",
              "      <td>12</td>\n",
              "    </tr>\n",
              "    <tr>\n",
              "      <th>363</th>\n",
              "      <td>2999</td>\n",
              "      <td>12</td>\n",
              "    </tr>\n",
              "    <tr>\n",
              "      <th>350</th>\n",
              "      <td>2739</td>\n",
              "      <td>12</td>\n",
              "    </tr>\n",
              "    <tr>\n",
              "      <th>730</th>\n",
              "      <td>2729</td>\n",
              "      <td>12</td>\n",
              "    </tr>\n",
              "  </tbody>\n",
              "</table>\n",
              "</div>"
            ],
            "text/plain": [
              "      cnt  mnth\n",
              "361  2302    12\n",
              "362  2423    12\n",
              "363  2999    12\n",
              "350  2739    12\n",
              "730  2729    12"
            ]
          },
          "metadata": {},
          "execution_count": 11
        }
      ]
    },
    {
      "cell_type": "code",
      "metadata": {
        "id": "5-PvGEude_dc",
        "colab": {
          "base_uri": "https://localhost:8080/",
          "height": 444
        },
        "outputId": "d4ab059b-617f-43aa-96e3-d1f518d352ec"
      },
      "source": [
        "# 3.2 groupby with 'as_index = True'. 'mnth' comes as an index. This is default.\n",
        "data_plot = data_small_df.groupby('mnth', as_index = True).agg('sum')\n",
        "data_plot"
      ],
      "execution_count": 12,
      "outputs": [
        {
          "output_type": "execute_result",
          "data": {
            "text/html": [
              "<div>\n",
              "<style scoped>\n",
              "    .dataframe tbody tr th:only-of-type {\n",
              "        vertical-align: middle;\n",
              "    }\n",
              "\n",
              "    .dataframe tbody tr th {\n",
              "        vertical-align: top;\n",
              "    }\n",
              "\n",
              "    .dataframe thead th {\n",
              "        text-align: right;\n",
              "    }\n",
              "</style>\n",
              "<table border=\"1\" class=\"dataframe\">\n",
              "  <thead>\n",
              "    <tr style=\"text-align: right;\">\n",
              "      <th></th>\n",
              "      <th>cnt</th>\n",
              "    </tr>\n",
              "    <tr>\n",
              "      <th>mnth</th>\n",
              "      <th></th>\n",
              "    </tr>\n",
              "  </thead>\n",
              "  <tbody>\n",
              "    <tr>\n",
              "      <th>1</th>\n",
              "      <td>134933</td>\n",
              "    </tr>\n",
              "    <tr>\n",
              "      <th>2</th>\n",
              "      <td>151352</td>\n",
              "    </tr>\n",
              "    <tr>\n",
              "      <th>3</th>\n",
              "      <td>228920</td>\n",
              "    </tr>\n",
              "    <tr>\n",
              "      <th>4</th>\n",
              "      <td>269094</td>\n",
              "    </tr>\n",
              "    <tr>\n",
              "      <th>5</th>\n",
              "      <td>331686</td>\n",
              "    </tr>\n",
              "    <tr>\n",
              "      <th>6</th>\n",
              "      <td>346342</td>\n",
              "    </tr>\n",
              "    <tr>\n",
              "      <th>7</th>\n",
              "      <td>344948</td>\n",
              "    </tr>\n",
              "    <tr>\n",
              "      <th>8</th>\n",
              "      <td>351194</td>\n",
              "    </tr>\n",
              "    <tr>\n",
              "      <th>9</th>\n",
              "      <td>345991</td>\n",
              "    </tr>\n",
              "    <tr>\n",
              "      <th>10</th>\n",
              "      <td>322352</td>\n",
              "    </tr>\n",
              "    <tr>\n",
              "      <th>11</th>\n",
              "      <td>254831</td>\n",
              "    </tr>\n",
              "    <tr>\n",
              "      <th>12</th>\n",
              "      <td>211036</td>\n",
              "    </tr>\n",
              "  </tbody>\n",
              "</table>\n",
              "</div>"
            ],
            "text/plain": [
              "         cnt\n",
              "mnth        \n",
              "1     134933\n",
              "2     151352\n",
              "3     228920\n",
              "4     269094\n",
              "5     331686\n",
              "6     346342\n",
              "7     344948\n",
              "8     351194\n",
              "9     345991\n",
              "10    322352\n",
              "11    254831\n",
              "12    211036"
            ]
          },
          "metadata": {},
          "execution_count": 12
        }
      ]
    },
    {
      "cell_type": "code",
      "metadata": {
        "id": "TfoPVypQe_dd",
        "colab": {
          "base_uri": "https://localhost:8080/",
          "height": 414
        },
        "outputId": "e04668cb-bc2c-425c-b5f3-c7c600abf416"
      },
      "source": [
        "# 3.3 groupby with 'as_index = False'. This time 'mnth' is a column\n",
        "data_plot = data_small_df.groupby('mnth', as_index = False).sum()\n",
        "data_plot"
      ],
      "execution_count": 13,
      "outputs": [
        {
          "output_type": "execute_result",
          "data": {
            "text/html": [
              "<div>\n",
              "<style scoped>\n",
              "    .dataframe tbody tr th:only-of-type {\n",
              "        vertical-align: middle;\n",
              "    }\n",
              "\n",
              "    .dataframe tbody tr th {\n",
              "        vertical-align: top;\n",
              "    }\n",
              "\n",
              "    .dataframe thead th {\n",
              "        text-align: right;\n",
              "    }\n",
              "</style>\n",
              "<table border=\"1\" class=\"dataframe\">\n",
              "  <thead>\n",
              "    <tr style=\"text-align: right;\">\n",
              "      <th></th>\n",
              "      <th>mnth</th>\n",
              "      <th>cnt</th>\n",
              "    </tr>\n",
              "  </thead>\n",
              "  <tbody>\n",
              "    <tr>\n",
              "      <th>0</th>\n",
              "      <td>1</td>\n",
              "      <td>134933</td>\n",
              "    </tr>\n",
              "    <tr>\n",
              "      <th>1</th>\n",
              "      <td>2</td>\n",
              "      <td>151352</td>\n",
              "    </tr>\n",
              "    <tr>\n",
              "      <th>2</th>\n",
              "      <td>3</td>\n",
              "      <td>228920</td>\n",
              "    </tr>\n",
              "    <tr>\n",
              "      <th>3</th>\n",
              "      <td>4</td>\n",
              "      <td>269094</td>\n",
              "    </tr>\n",
              "    <tr>\n",
              "      <th>4</th>\n",
              "      <td>5</td>\n",
              "      <td>331686</td>\n",
              "    </tr>\n",
              "    <tr>\n",
              "      <th>5</th>\n",
              "      <td>6</td>\n",
              "      <td>346342</td>\n",
              "    </tr>\n",
              "    <tr>\n",
              "      <th>6</th>\n",
              "      <td>7</td>\n",
              "      <td>344948</td>\n",
              "    </tr>\n",
              "    <tr>\n",
              "      <th>7</th>\n",
              "      <td>8</td>\n",
              "      <td>351194</td>\n",
              "    </tr>\n",
              "    <tr>\n",
              "      <th>8</th>\n",
              "      <td>9</td>\n",
              "      <td>345991</td>\n",
              "    </tr>\n",
              "    <tr>\n",
              "      <th>9</th>\n",
              "      <td>10</td>\n",
              "      <td>322352</td>\n",
              "    </tr>\n",
              "    <tr>\n",
              "      <th>10</th>\n",
              "      <td>11</td>\n",
              "      <td>254831</td>\n",
              "    </tr>\n",
              "    <tr>\n",
              "      <th>11</th>\n",
              "      <td>12</td>\n",
              "      <td>211036</td>\n",
              "    </tr>\n",
              "  </tbody>\n",
              "</table>\n",
              "</div>"
            ],
            "text/plain": [
              "    mnth     cnt\n",
              "0      1  134933\n",
              "1      2  151352\n",
              "2      3  228920\n",
              "3      4  269094\n",
              "4      5  331686\n",
              "5      6  346342\n",
              "6      7  344948\n",
              "7      8  351194\n",
              "8      9  345991\n",
              "9     10  322352\n",
              "10    11  254831\n",
              "11    12  211036"
            ]
          },
          "metadata": {},
          "execution_count": 13
        }
      ]
    },
    {
      "cell_type": "code",
      "metadata": {
        "id": "YK8mA2Oke_dd",
        "colab": {
          "base_uri": "https://localhost:8080/",
          "height": 338
        },
        "outputId": "7c86b143-bb79-4efd-e199-6b1e7dd975c8"
      },
      "source": [
        "# 3.4 Plot the 'cnt' column of this dataset\n",
        "#     Certain months have same behaviour\n",
        "data_plot['cnt'].plot.bar(figsize=(10,5))"
      ],
      "execution_count": 14,
      "outputs": [
        {
          "output_type": "execute_result",
          "data": {
            "text/plain": [
              "<matplotlib.axes._subplots.AxesSubplot at 0x7fe8fc4f6750>"
            ]
          },
          "metadata": {},
          "execution_count": 14
        },
        {
          "output_type": "display_data",
          "data": {
            "image/png": "[encoded data removed]",
            "text/plain": [
              "<Figure size 720x360 with 1 Axes>"
            ]
          },
          "metadata": {
            "needs_background": "light"
          }
        }
      ]
    },
    {
      "cell_type": "code",
      "metadata": {
        "id": "SKdcO_9He_dd",
        "colab": {
          "base_uri": "https://localhost:8080/",
          "height": 201
        },
        "outputId": "cdccb8c1-957e-4666-e93e-dacc12e14fe8"
      },
      "source": [
        "# 3.5 Scale the 'cnt' column:\n",
        "\n",
        "scaler = MinMaxScaler()\n",
        "data_small_df['cnt_Scaled'] = scaler.fit_transform(data_small_df[['cnt']])\n",
        "data_small_df.head()"
      ],
      "execution_count": 15,
      "outputs": [
        {
          "output_type": "execute_result",
          "data": {
            "text/html": [
              "<div>\n",
              "<style scoped>\n",
              "    .dataframe tbody tr th:only-of-type {\n",
              "        vertical-align: middle;\n",
              "    }\n",
              "\n",
              "    .dataframe tbody tr th {\n",
              "        vertical-align: top;\n",
              "    }\n",
              "\n",
              "    .dataframe thead th {\n",
              "        text-align: right;\n",
              "    }\n",
              "</style>\n",
              "<table border=\"1\" class=\"dataframe\">\n",
              "  <thead>\n",
              "    <tr style=\"text-align: right;\">\n",
              "      <th></th>\n",
              "      <th>cnt</th>\n",
              "      <th>mnth</th>\n",
              "      <th>cnt_Scaled</th>\n",
              "    </tr>\n",
              "  </thead>\n",
              "  <tbody>\n",
              "    <tr>\n",
              "      <th>0</th>\n",
              "      <td>985</td>\n",
              "      <td>1</td>\n",
              "      <td>0.110792</td>\n",
              "    </tr>\n",
              "    <tr>\n",
              "      <th>368</th>\n",
              "      <td>2368</td>\n",
              "      <td>1</td>\n",
              "      <td>0.269903</td>\n",
              "    </tr>\n",
              "    <tr>\n",
              "      <th>369</th>\n",
              "      <td>3272</td>\n",
              "      <td>1</td>\n",
              "      <td>0.373907</td>\n",
              "    </tr>\n",
              "    <tr>\n",
              "      <th>370</th>\n",
              "      <td>4098</td>\n",
              "      <td>1</td>\n",
              "      <td>0.468937</td>\n",
              "    </tr>\n",
              "    <tr>\n",
              "      <th>371</th>\n",
              "      <td>4521</td>\n",
              "      <td>1</td>\n",
              "      <td>0.517602</td>\n",
              "    </tr>\n",
              "  </tbody>\n",
              "</table>\n",
              "</div>"
            ],
            "text/plain": [
              "      cnt  mnth  cnt_Scaled\n",
              "0     985     1    0.110792\n",
              "368  2368     1    0.269903\n",
              "369  3272     1    0.373907\n",
              "370  4098     1    0.468937\n",
              "371  4521     1    0.517602"
            ]
          },
          "metadata": {},
          "execution_count": 15
        }
      ]
    },
    {
      "cell_type": "markdown",
      "metadata": {
        "id": "CuEDxKrke_de"
      },
      "source": [
        "# Traditional Embeddings\n",
        "One Hot Encodings"
      ]
    },
    {
      "cell_type": "code",
      "metadata": {
        "id": "OhOkwYjTe_de",
        "colab": {
          "base_uri": "https://localhost:8080/",
          "height": 201
        },
        "outputId": "95e1905c-bcbc-47be-e8aa-362c6561ed79"
      },
      "source": [
        "# 4.0 Transform 'mnth' column to dummy variable using pandas get_dummies()\n",
        "\n",
        "pd.get_dummies(data_small_df['mnth']).head()"
      ],
      "execution_count": 16,
      "outputs": [
        {
          "output_type": "execute_result",
          "data": {
            "text/html": [
              "<div>\n",
              "<style scoped>\n",
              "    .dataframe tbody tr th:only-of-type {\n",
              "        vertical-align: middle;\n",
              "    }\n",
              "\n",
              "    .dataframe tbody tr th {\n",
              "        vertical-align: top;\n",
              "    }\n",
              "\n",
              "    .dataframe thead th {\n",
              "        text-align: right;\n",
              "    }\n",
              "</style>\n",
              "<table border=\"1\" class=\"dataframe\">\n",
              "  <thead>\n",
              "    <tr style=\"text-align: right;\">\n",
              "      <th></th>\n",
              "      <th>1</th>\n",
              "      <th>2</th>\n",
              "      <th>3</th>\n",
              "      <th>4</th>\n",
              "      <th>5</th>\n",
              "      <th>6</th>\n",
              "      <th>7</th>\n",
              "      <th>8</th>\n",
              "      <th>9</th>\n",
              "      <th>10</th>\n",
              "      <th>11</th>\n",
              "      <th>12</th>\n",
              "    </tr>\n",
              "  </thead>\n",
              "  <tbody>\n",
              "    <tr>\n",
              "      <th>0</th>\n",
              "      <td>1</td>\n",
              "      <td>0</td>\n",
              "      <td>0</td>\n",
              "      <td>0</td>\n",
              "      <td>0</td>\n",
              "      <td>0</td>\n",
              "      <td>0</td>\n",
              "      <td>0</td>\n",
              "      <td>0</td>\n",
              "      <td>0</td>\n",
              "      <td>0</td>\n",
              "      <td>0</td>\n",
              "    </tr>\n",
              "    <tr>\n",
              "      <th>368</th>\n",
              "      <td>1</td>\n",
              "      <td>0</td>\n",
              "      <td>0</td>\n",
              "      <td>0</td>\n",
              "      <td>0</td>\n",
              "      <td>0</td>\n",
              "      <td>0</td>\n",
              "      <td>0</td>\n",
              "      <td>0</td>\n",
              "      <td>0</td>\n",
              "      <td>0</td>\n",
              "      <td>0</td>\n",
              "    </tr>\n",
              "    <tr>\n",
              "      <th>369</th>\n",
              "      <td>1</td>\n",
              "      <td>0</td>\n",
              "      <td>0</td>\n",
              "      <td>0</td>\n",
              "      <td>0</td>\n",
              "      <td>0</td>\n",
              "      <td>0</td>\n",
              "      <td>0</td>\n",
              "      <td>0</td>\n",
              "      <td>0</td>\n",
              "      <td>0</td>\n",
              "      <td>0</td>\n",
              "    </tr>\n",
              "    <tr>\n",
              "      <th>370</th>\n",
              "      <td>1</td>\n",
              "      <td>0</td>\n",
              "      <td>0</td>\n",
              "      <td>0</td>\n",
              "      <td>0</td>\n",
              "      <td>0</td>\n",
              "      <td>0</td>\n",
              "      <td>0</td>\n",
              "      <td>0</td>\n",
              "      <td>0</td>\n",
              "      <td>0</td>\n",
              "      <td>0</td>\n",
              "    </tr>\n",
              "    <tr>\n",
              "      <th>371</th>\n",
              "      <td>1</td>\n",
              "      <td>0</td>\n",
              "      <td>0</td>\n",
              "      <td>0</td>\n",
              "      <td>0</td>\n",
              "      <td>0</td>\n",
              "      <td>0</td>\n",
              "      <td>0</td>\n",
              "      <td>0</td>\n",
              "      <td>0</td>\n",
              "      <td>0</td>\n",
              "      <td>0</td>\n",
              "    </tr>\n",
              "  </tbody>\n",
              "</table>\n",
              "</div>"
            ],
            "text/plain": [
              "     1   2   3   4   5   6   7   8   9   10  11  12\n",
              "0     1   0   0   0   0   0   0   0   0   0   0   0\n",
              "368   1   0   0   0   0   0   0   0   0   0   0   0\n",
              "369   1   0   0   0   0   0   0   0   0   0   0   0\n",
              "370   1   0   0   0   0   0   0   0   0   0   0   0\n",
              "371   1   0   0   0   0   0   0   0   0   0   0   0"
            ]
          },
          "metadata": {},
          "execution_count": 16
        }
      ]
    },
    {
      "cell_type": "markdown",
      "metadata": {
        "id": "a2ApkJJ2e_de"
      },
      "source": [
        "# Deep Embedding\n",
        "Discovering relationships"
      ]
    },
    {
      "cell_type": "code",
      "metadata": {
        "colab": {
          "base_uri": "https://localhost:8080/"
        },
        "id": "Qk-uRQPZe_df",
        "outputId": "1d042add-f5e8-49d4-b857-dd695ec154ba"
      },
      "source": [
        "# 4.1 Number of unique months:\n",
        "\n",
        "data_small_df['mnth'].unique()"
      ],
      "execution_count": 17,
      "outputs": [
        {
          "output_type": "execute_result",
          "data": {
            "text/plain": [
              "array([ 1,  2,  3,  4,  5,  6,  7,  8,  9, 10, 11, 12])"
            ]
          },
          "metadata": {},
          "execution_count": 17
        }
      ]
    },
    {
      "cell_type": "code",
      "metadata": {
        "id": "xmLSyge2e_df"
      },
      "source": [
        "# 4.2 Just little transformation:\n",
        "\n",
        "data_small_df['mnth'] = data_small_df['mnth']-1\n",
        "data_small_df['mnth'] = data_small_df['mnth'].astype(int)"
      ],
      "execution_count": 18,
      "outputs": []
    },
    {
      "cell_type": "code",
      "metadata": {
        "id": "_1EtIlUYe_df"
      },
      "source": [
        "# 5.0 Getting embeddings for months now.\n",
        "#     We use a simple NN:\n",
        "\n",
        "embedding_size = 3\n",
        "# 5.1 Our sequence input_length in each cell (per row) is just 1.\n",
        "#     So  input_length = 1\n",
        "model = Sequential()\n",
        "model.add(Embedding(input_dim = 12,               # Vocabulary size of 12\n",
        "                    output_dim = embedding_size,  # Vector size of 3\n",
        "                    input_length = 1,             # A category, such as: ['sharp knife' ] \n",
        "                                                  # would have input_length of 2. But, \n",
        "                                                  # a category such as: ['knife'] would have\n",
        "                                                  #  input_length of 1.\n",
        "                    name=\"embedding\"              # Layer name. We will later access it by this name\n",
        "                   )\n",
        "         )\n",
        "model.add(Flatten())                        # Needs flattening as output is (embedding_size,1)\n",
        "model.add(Dense(50, activation=\"relu\"))\n",
        "model.add(Dense(15, activation=\"relu\"))\n",
        "model.add(Dense(1))"
      ],
      "execution_count": 19,
      "outputs": []
    },
    {
      "cell_type": "code",
      "metadata": {
        "id": "EDmg4sykrW6x",
        "colab": {
          "base_uri": "https://localhost:8080/"
        },
        "outputId": "ab021241-944f-4ae4-ce0f-ba713222d8cc"
      },
      "source": [
        "# 5.1.1\n",
        "model.compile(loss = \"mse\",\n",
        "              optimizer = \"adam\",\n",
        "              metrics=[\"accuracy\"]\n",
        "              )\n",
        "\n",
        "\n",
        "# 5.1.2\n",
        "model.fit(x = data_small_df['mnth'].values,\n",
        "          y=  data_small_df['cnt_Scaled'].values,\n",
        "          epochs = 50,\n",
        "          batch_size = 4\n",
        "         )"
      ],
      "execution_count": 20,
      "outputs": [
        {
          "output_type": "stream",
          "name": "stdout",
          "text": [
            "Epoch 1/50\n",
            "183/183 [==============================] - 1s 2ms/step - loss: 0.0868 - accuracy: 0.0014\n",
            "Epoch 2/50\n",
            "183/183 [==============================] - 0s 2ms/step - loss: 0.0317 - accuracy: 0.0014\n",
            "Epoch 3/50\n",
            "183/183 [==============================] - 0s 2ms/step - loss: 0.0314 - accuracy: 0.0014\n",
            "Epoch 4/50\n",
            "183/183 [==============================] - 0s 2ms/step - loss: 0.0315 - accuracy: 0.0014\n",
            "Epoch 5/50\n",
            "183/183 [==============================] - 0s 2ms/step - loss: 0.0315 - accuracy: 0.0014\n",
            "Epoch 6/50\n",
            "183/183 [==============================] - 0s 2ms/step - loss: 0.0312 - accuracy: 0.0014\n",
            "Epoch 7/50\n",
            "183/183 [==============================] - 0s 2ms/step - loss: 0.0314 - accuracy: 0.0014\n",
            "Epoch 8/50\n",
            "183/183 [==============================] - 0s 2ms/step - loss: 0.0312 - accuracy: 0.0014\n",
            "Epoch 9/50\n",
            "183/183 [==============================] - 0s 2ms/step - loss: 0.0308 - accuracy: 0.0014\n",
            "Epoch 10/50\n",
            "183/183 [==============================] - 0s 2ms/step - loss: 0.0310 - accuracy: 0.0014\n",
            "Epoch 11/50\n",
            "183/183 [==============================] - 0s 2ms/step - loss: 0.0308 - accuracy: 0.0014\n",
            "Epoch 12/50\n",
            "183/183 [==============================] - 0s 2ms/step - loss: 0.0312 - accuracy: 0.0014\n",
            "Epoch 13/50\n",
            "183/183 [==============================] - 0s 2ms/step - loss: 0.0313 - accuracy: 0.0014\n",
            "Epoch 14/50\n",
            "183/183 [==============================] - 0s 2ms/step - loss: 0.0314 - accuracy: 0.0014\n",
            "Epoch 15/50\n",
            "183/183 [==============================] - 0s 2ms/step - loss: 0.0313 - accuracy: 0.0014\n",
            "Epoch 16/50\n",
            "183/183 [==============================] - 0s 2ms/step - loss: 0.0313 - accuracy: 0.0014\n",
            "Epoch 17/50\n",
            "183/183 [==============================] - 0s 2ms/step - loss: 0.0318 - accuracy: 0.0014\n",
            "Epoch 18/50\n",
            "183/183 [==============================] - 0s 2ms/step - loss: 0.0312 - accuracy: 0.0014\n",
            "Epoch 19/50\n",
            "183/183 [==============================] - 0s 2ms/step - loss: 0.0314 - accuracy: 0.0014\n",
            "Epoch 20/50\n",
            "183/183 [==============================] - 0s 2ms/step - loss: 0.0311 - accuracy: 0.0014\n",
            "Epoch 21/50\n",
            "183/183 [==============================] - 0s 2ms/step - loss: 0.0317 - accuracy: 0.0014\n",
            "Epoch 22/50\n",
            "183/183 [==============================] - 0s 2ms/step - loss: 0.0314 - accuracy: 0.0014\n",
            "Epoch 23/50\n",
            "183/183 [==============================] - 0s 2ms/step - loss: 0.0311 - accuracy: 0.0014\n",
            "Epoch 24/50\n",
            "183/183 [==============================] - 0s 2ms/step - loss: 0.0313 - accuracy: 0.0014\n",
            "Epoch 25/50\n",
            "183/183 [==============================] - 0s 2ms/step - loss: 0.0308 - accuracy: 0.0014\n",
            "Epoch 26/50\n",
            "183/183 [==============================] - 0s 2ms/step - loss: 0.0311 - accuracy: 0.0014\n",
            "Epoch 27/50\n",
            "183/183 [==============================] - 0s 2ms/step - loss: 0.0310 - accuracy: 0.0014\n",
            "Epoch 28/50\n",
            "183/183 [==============================] - 0s 2ms/step - loss: 0.0313 - accuracy: 0.0014\n",
            "Epoch 29/50\n",
            "183/183 [==============================] - 0s 2ms/step - loss: 0.0313 - accuracy: 0.0014\n",
            "Epoch 30/50\n",
            "183/183 [==============================] - 0s 2ms/step - loss: 0.0312 - accuracy: 0.0014\n",
            "Epoch 31/50\n",
            "183/183 [==============================] - 0s 2ms/step - loss: 0.0313 - accuracy: 0.0014\n",
            "Epoch 32/50\n",
            "183/183 [==============================] - 0s 2ms/step - loss: 0.0313 - accuracy: 0.0014\n",
            "Epoch 33/50\n",
            "183/183 [==============================] - 0s 2ms/step - loss: 0.0311 - accuracy: 0.0014\n",
            "Epoch 34/50\n",
            "183/183 [==============================] - 0s 2ms/step - loss: 0.0312 - accuracy: 0.0014\n",
            "Epoch 35/50\n",
            "183/183 [==============================] - 0s 2ms/step - loss: 0.0312 - accuracy: 0.0014\n",
            "Epoch 36/50\n",
            "183/183 [==============================] - 0s 2ms/step - loss: 0.0311 - accuracy: 0.0014\n",
            "Epoch 37/50\n",
            "183/183 [==============================] - 0s 2ms/step - loss: 0.0309 - accuracy: 0.0014\n",
            "Epoch 38/50\n",
            "183/183 [==============================] - 0s 2ms/step - loss: 0.0309 - accuracy: 0.0014\n",
            "Epoch 39/50\n",
            "183/183 [==============================] - 0s 2ms/step - loss: 0.0309 - accuracy: 0.0014\n",
            "Epoch 40/50\n",
            "183/183 [==============================] - 0s 2ms/step - loss: 0.0307 - accuracy: 0.0014\n",
            "Epoch 41/50\n",
            "183/183 [==============================] - 0s 2ms/step - loss: 0.0311 - accuracy: 0.0014\n",
            "Epoch 42/50\n",
            "183/183 [==============================] - 0s 2ms/step - loss: 0.0311 - accuracy: 0.0014\n",
            "Epoch 43/50\n",
            "183/183 [==============================] - 0s 2ms/step - loss: 0.0311 - accuracy: 0.0014\n",
            "Epoch 44/50\n",
            "183/183 [==============================] - 0s 2ms/step - loss: 0.0309 - accuracy: 0.0014\n",
            "Epoch 45/50\n",
            "183/183 [==============================] - 0s 2ms/step - loss: 0.0312 - accuracy: 0.0014\n",
            "Epoch 46/50\n",
            "183/183 [==============================] - 0s 2ms/step - loss: 0.0310 - accuracy: 0.0014\n",
            "Epoch 47/50\n",
            "183/183 [==============================] - 0s 2ms/step - loss: 0.0311 - accuracy: 0.0014\n",
            "Epoch 48/50\n",
            "183/183 [==============================] - 0s 2ms/step - loss: 0.0310 - accuracy: 0.0014\n",
            "Epoch 49/50\n",
            "183/183 [==============================] - 0s 2ms/step - loss: 0.0308 - accuracy: 0.0014\n",
            "Epoch 50/50\n",
            "183/183 [==============================] - 0s 2ms/step - loss: 0.0309 - accuracy: 0.0014\n"
          ]
        },
        {
          "output_type": "execute_result",
          "data": {
            "text/plain": [
              "<keras.callbacks.History at 0x7fe8f73c12d0>"
            ]
          },
          "metadata": {},
          "execution_count": 20
        }
      ]
    },
    {
      "cell_type": "code",
      "metadata": {
        "id": "uHFV4uYPe_dg",
        "colab": {
          "base_uri": "https://localhost:8080/"
        },
        "outputId": "af89cb4f-2726-4e12-f607-31135a5509e7"
      },
      "source": [
        "# 5.2 Model summary\n",
        "model.summary()"
      ],
      "execution_count": 21,
      "outputs": [
        {
          "output_type": "stream",
          "name": "stdout",
          "text": [
            "Model: \"sequential\"\n",
            "_________________________________________________________________\n",
            " Layer (type)                Output Shape              Param #   \n",
            "=================================================================\n",
            " embedding (Embedding)       (None, 1, 3)              36        \n",
            "                                                                 \n",
            " flatten (Flatten)           (None, 3)                 0         \n",
            "                                                                 \n",
            " dense (Dense)               (None, 50)                200       \n",
            "                                                                 \n",
            " dense_1 (Dense)             (None, 15)                765       \n",
            "                                                                 \n",
            " dense_2 (Dense)             (None, 1)                 16        \n",
            "                                                                 \n",
            "=================================================================\n",
            "Total params: 1,017\n",
            "Trainable params: 1,017\n",
            "Non-trainable params: 0\n",
            "_________________________________________________________________\n"
          ]
        }
      ]
    },
    {
      "cell_type": "code",
      "metadata": {
        "id": "IqOEJkUEe_dg"
      },
      "source": [
        "# 6.0 Get embeddings layer weights\n",
        "# 6.0.1 First get the 'layer' object\n",
        "layer = model.get_layer('embedding')\n",
        "\n",
        "\n",
        "# 6.0.2 Then get this layer's attributes\n",
        "output_embeddings = layer.get_weights()"
      ],
      "execution_count": 22,
      "outputs": []
    },
    {
      "cell_type": "code",
      "metadata": {
        "id": "iTD62zwUsCWq",
        "colab": {
          "base_uri": "https://localhost:8080/"
        },
        "outputId": "0b5e36c4-078c-4cba-e7d8-14ce495d0d75"
      },
      "source": [
        "# 6.0.3\n",
        "type(output_embeddings)     # It is a list that contains one array\n",
        "print(\"\\n=====\")\n",
        "print(len(output_embeddings))  # 1"
      ],
      "execution_count": 23,
      "outputs": [
        {
          "output_type": "execute_result",
          "data": {
            "text/plain": [
              "list"
            ]
          },
          "metadata": {},
          "execution_count": 23
        },
        {
          "output_type": "stream",
          "name": "stdout",
          "text": [
            "\n",
            "=====\n",
            "1\n"
          ]
        }
      ]
    },
    {
      "cell_type": "code",
      "metadata": {
        "id": "MHt4mIrhsbjm",
        "colab": {
          "base_uri": "https://localhost:8080/"
        },
        "outputId": "fee953df-8862-473e-cf96-a2df75854dee"
      },
      "source": [
        "# 6.1\n",
        "output_embeddings[0]     # Our weights array\n",
        "print(\"\\n============\")\n",
        "output_embeddings[0].shape  # (12,3)"
      ],
      "execution_count": 24,
      "outputs": [
        {
          "output_type": "execute_result",
          "data": {
            "text/plain": [
              "array([[ 0.16662988,  0.01871658,  0.19070278],\n",
              "       [ 0.13384628,  0.02709166,  0.11561958],\n",
              "       [ 0.01106033, -0.02490225,  0.0549031 ],\n",
              "       [-0.03054546,  0.02953362, -0.01951191],\n",
              "       [-0.06711937, -0.00811521, -0.11355954],\n",
              "       [-0.13009284,  0.01681714, -0.13006212],\n",
              "       [-0.08868358,  0.00465832, -0.13621555],\n",
              "       [-0.10076675,  0.02138255, -0.13054799],\n",
              "       [-0.15390669, -0.01842876, -0.11575412],\n",
              "       [-0.07380715,  0.01107316, -0.09282355],\n",
              "       [-0.01185911, -0.02852709,  0.0045522 ],\n",
              "       [ 0.06165524,  0.03442408,  0.05856368]], dtype=float32)"
            ]
          },
          "metadata": {},
          "execution_count": 24
        },
        {
          "output_type": "stream",
          "name": "stdout",
          "text": [
            "\n",
            "============\n"
          ]
        },
        {
          "output_type": "execute_result",
          "data": {
            "text/plain": [
              "(12, 3)"
            ]
          },
          "metadata": {},
          "execution_count": 24
        }
      ]
    },
    {
      "cell_type": "code",
      "metadata": {
        "id": "jjZeBxsSszgq",
        "colab": {
          "base_uri": "https://localhost:8080/",
          "height": 414
        },
        "outputId": "b4c16ae5-e230-4056-8ee0-c33e59f2206f"
      },
      "source": [
        "# 6.2 Transform array to dataframe\n",
        "output_embeddings_df = pd.DataFrame(output_embeddings[0])\n",
        "output_embeddings_df"
      ],
      "execution_count": 25,
      "outputs": [
        {
          "output_type": "execute_result",
          "data": {
            "text/html": [
              "<div>\n",
              "<style scoped>\n",
              "    .dataframe tbody tr th:only-of-type {\n",
              "        vertical-align: middle;\n",
              "    }\n",
              "\n",
              "    .dataframe tbody tr th {\n",
              "        vertical-align: top;\n",
              "    }\n",
              "\n",
              "    .dataframe thead th {\n",
              "        text-align: right;\n",
              "    }\n",
              "</style>\n",
              "<table border=\"1\" class=\"dataframe\">\n",
              "  <thead>\n",
              "    <tr style=\"text-align: right;\">\n",
              "      <th></th>\n",
              "      <th>0</th>\n",
              "      <th>1</th>\n",
              "      <th>2</th>\n",
              "    </tr>\n",
              "  </thead>\n",
              "  <tbody>\n",
              "    <tr>\n",
              "      <th>0</th>\n",
              "      <td>0.166630</td>\n",
              "      <td>0.018717</td>\n",
              "      <td>0.190703</td>\n",
              "    </tr>\n",
              "    <tr>\n",
              "      <th>1</th>\n",
              "      <td>0.133846</td>\n",
              "      <td>0.027092</td>\n",
              "      <td>0.115620</td>\n",
              "    </tr>\n",
              "    <tr>\n",
              "      <th>2</th>\n",
              "      <td>0.011060</td>\n",
              "      <td>-0.024902</td>\n",
              "      <td>0.054903</td>\n",
              "    </tr>\n",
              "    <tr>\n",
              "      <th>3</th>\n",
              "      <td>-0.030545</td>\n",
              "      <td>0.029534</td>\n",
              "      <td>-0.019512</td>\n",
              "    </tr>\n",
              "    <tr>\n",
              "      <th>4</th>\n",
              "      <td>-0.067119</td>\n",
              "      <td>-0.008115</td>\n",
              "      <td>-0.113560</td>\n",
              "    </tr>\n",
              "    <tr>\n",
              "      <th>5</th>\n",
              "      <td>-0.130093</td>\n",
              "      <td>0.016817</td>\n",
              "      <td>-0.130062</td>\n",
              "    </tr>\n",
              "    <tr>\n",
              "      <th>6</th>\n",
              "      <td>-0.088684</td>\n",
              "      <td>0.004658</td>\n",
              "      <td>-0.136216</td>\n",
              "    </tr>\n",
              "    <tr>\n",
              "      <th>7</th>\n",
              "      <td>-0.100767</td>\n",
              "      <td>0.021383</td>\n",
              "      <td>-0.130548</td>\n",
              "    </tr>\n",
              "    <tr>\n",
              "      <th>8</th>\n",
              "      <td>-0.153907</td>\n",
              "      <td>-0.018429</td>\n",
              "      <td>-0.115754</td>\n",
              "    </tr>\n",
              "    <tr>\n",
              "      <th>9</th>\n",
              "      <td>-0.073807</td>\n",
              "      <td>0.011073</td>\n",
              "      <td>-0.092824</td>\n",
              "    </tr>\n",
              "    <tr>\n",
              "      <th>10</th>\n",
              "      <td>-0.011859</td>\n",
              "      <td>-0.028527</td>\n",
              "      <td>0.004552</td>\n",
              "    </tr>\n",
              "    <tr>\n",
              "      <th>11</th>\n",
              "      <td>0.061655</td>\n",
              "      <td>0.034424</td>\n",
              "      <td>0.058564</td>\n",
              "    </tr>\n",
              "  </tbody>\n",
              "</table>\n",
              "</div>"
            ],
            "text/plain": [
              "           0         1         2\n",
              "0   0.166630  0.018717  0.190703\n",
              "1   0.133846  0.027092  0.115620\n",
              "2   0.011060 -0.024902  0.054903\n",
              "3  -0.030545  0.029534 -0.019512\n",
              "4  -0.067119 -0.008115 -0.113560\n",
              "5  -0.130093  0.016817 -0.130062\n",
              "6  -0.088684  0.004658 -0.136216\n",
              "7  -0.100767  0.021383 -0.130548\n",
              "8  -0.153907 -0.018429 -0.115754\n",
              "9  -0.073807  0.011073 -0.092824\n",
              "10 -0.011859 -0.028527  0.004552\n",
              "11  0.061655  0.034424  0.058564"
            ]
          },
          "metadata": {},
          "execution_count": 25
        }
      ]
    },
    {
      "cell_type": "code",
      "metadata": {
        "id": "d2H3h48JtCKA",
        "colab": {
          "base_uri": "https://localhost:8080/",
          "height": 414
        },
        "outputId": "52ff34d1-9d47-48fd-d1be-061993dde1df"
      },
      "source": [
        "# 6.3 Existing index becomes a column and a new index is added\n",
        "output_embeddings_df.reset_index()"
      ],
      "execution_count": 26,
      "outputs": [
        {
          "output_type": "execute_result",
          "data": {
            "text/html": [
              "<div>\n",
              "<style scoped>\n",
              "    .dataframe tbody tr th:only-of-type {\n",
              "        vertical-align: middle;\n",
              "    }\n",
              "\n",
              "    .dataframe tbody tr th {\n",
              "        vertical-align: top;\n",
              "    }\n",
              "\n",
              "    .dataframe thead th {\n",
              "        text-align: right;\n",
              "    }\n",
              "</style>\n",
              "<table border=\"1\" class=\"dataframe\">\n",
              "  <thead>\n",
              "    <tr style=\"text-align: right;\">\n",
              "      <th></th>\n",
              "      <th>index</th>\n",
              "      <th>0</th>\n",
              "      <th>1</th>\n",
              "      <th>2</th>\n",
              "    </tr>\n",
              "  </thead>\n",
              "  <tbody>\n",
              "    <tr>\n",
              "      <th>0</th>\n",
              "      <td>0</td>\n",
              "      <td>0.166630</td>\n",
              "      <td>0.018717</td>\n",
              "      <td>0.190703</td>\n",
              "    </tr>\n",
              "    <tr>\n",
              "      <th>1</th>\n",
              "      <td>1</td>\n",
              "      <td>0.133846</td>\n",
              "      <td>0.027092</td>\n",
              "      <td>0.115620</td>\n",
              "    </tr>\n",
              "    <tr>\n",
              "      <th>2</th>\n",
              "      <td>2</td>\n",
              "      <td>0.011060</td>\n",
              "      <td>-0.024902</td>\n",
              "      <td>0.054903</td>\n",
              "    </tr>\n",
              "    <tr>\n",
              "      <th>3</th>\n",
              "      <td>3</td>\n",
              "      <td>-0.030545</td>\n",
              "      <td>0.029534</td>\n",
              "      <td>-0.019512</td>\n",
              "    </tr>\n",
              "    <tr>\n",
              "      <th>4</th>\n",
              "      <td>4</td>\n",
              "      <td>-0.067119</td>\n",
              "      <td>-0.008115</td>\n",
              "      <td>-0.113560</td>\n",
              "    </tr>\n",
              "    <tr>\n",
              "      <th>5</th>\n",
              "      <td>5</td>\n",
              "      <td>-0.130093</td>\n",
              "      <td>0.016817</td>\n",
              "      <td>-0.130062</td>\n",
              "    </tr>\n",
              "    <tr>\n",
              "      <th>6</th>\n",
              "      <td>6</td>\n",
              "      <td>-0.088684</td>\n",
              "      <td>0.004658</td>\n",
              "      <td>-0.136216</td>\n",
              "    </tr>\n",
              "    <tr>\n",
              "      <th>7</th>\n",
              "      <td>7</td>\n",
              "      <td>-0.100767</td>\n",
              "      <td>0.021383</td>\n",
              "      <td>-0.130548</td>\n",
              "    </tr>\n",
              "    <tr>\n",
              "      <th>8</th>\n",
              "      <td>8</td>\n",
              "      <td>-0.153907</td>\n",
              "      <td>-0.018429</td>\n",
              "      <td>-0.115754</td>\n",
              "    </tr>\n",
              "    <tr>\n",
              "      <th>9</th>\n",
              "      <td>9</td>\n",
              "      <td>-0.073807</td>\n",
              "      <td>0.011073</td>\n",
              "      <td>-0.092824</td>\n",
              "    </tr>\n",
              "    <tr>\n",
              "      <th>10</th>\n",
              "      <td>10</td>\n",
              "      <td>-0.011859</td>\n",
              "      <td>-0.028527</td>\n",
              "      <td>0.004552</td>\n",
              "    </tr>\n",
              "    <tr>\n",
              "      <th>11</th>\n",
              "      <td>11</td>\n",
              "      <td>0.061655</td>\n",
              "      <td>0.034424</td>\n",
              "      <td>0.058564</td>\n",
              "    </tr>\n",
              "  </tbody>\n",
              "</table>\n",
              "</div>"
            ],
            "text/plain": [
              "    index         0         1         2\n",
              "0       0  0.166630  0.018717  0.190703\n",
              "1       1  0.133846  0.027092  0.115620\n",
              "2       2  0.011060 -0.024902  0.054903\n",
              "3       3 -0.030545  0.029534 -0.019512\n",
              "4       4 -0.067119 -0.008115 -0.113560\n",
              "5       5 -0.130093  0.016817 -0.130062\n",
              "6       6 -0.088684  0.004658 -0.136216\n",
              "7       7 -0.100767  0.021383 -0.130548\n",
              "8       8 -0.153907 -0.018429 -0.115754\n",
              "9       9 -0.073807  0.011073 -0.092824\n",
              "10     10 -0.011859 -0.028527  0.004552\n",
              "11     11  0.061655  0.034424  0.058564"
            ]
          },
          "metadata": {},
          "execution_count": 26
        }
      ]
    },
    {
      "cell_type": "code",
      "metadata": {
        "colab": {
          "base_uri": "https://localhost:8080/"
        },
        "id": "0SvCw_Jhe_dg",
        "outputId": "719d74a8-fabe-4aad-f0c1-e4b130d5e616"
      },
      "source": [
        "# 6.4 reset_index() and update data frame\n",
        "output_embeddings_df = output_embeddings_df.reset_index()\n",
        "output_embeddings_df.shape   # (12,4)"
      ],
      "execution_count": 27,
      "outputs": [
        {
          "output_type": "execute_result",
          "data": {
            "text/plain": [
              "(12, 4)"
            ]
          },
          "metadata": {},
          "execution_count": 27
        }
      ]
    },
    {
      "cell_type": "code",
      "metadata": {
        "id": "ZU-1N9moe_dg",
        "colab": {
          "base_uri": "https://localhost:8080/",
          "height": 414
        },
        "outputId": "0c834733-34aa-46aa-c7c0-800b3a691098"
      },
      "source": [
        "# 6.5 Name columns\n",
        "output_embeddings_df.columns = ['mnth', 'embedding_1', 'embedding_2', 'embedding_3']\n",
        "output_embeddings_df"
      ],
      "execution_count": 28,
      "outputs": [
        {
          "output_type": "execute_result",
          "data": {
            "text/html": [
              "<div>\n",
              "<style scoped>\n",
              "    .dataframe tbody tr th:only-of-type {\n",
              "        vertical-align: middle;\n",
              "    }\n",
              "\n",
              "    .dataframe tbody tr th {\n",
              "        vertical-align: top;\n",
              "    }\n",
              "\n",
              "    .dataframe thead th {\n",
              "        text-align: right;\n",
              "    }\n",
              "</style>\n",
              "<table border=\"1\" class=\"dataframe\">\n",
              "  <thead>\n",
              "    <tr style=\"text-align: right;\">\n",
              "      <th></th>\n",
              "      <th>mnth</th>\n",
              "      <th>embedding_1</th>\n",
              "      <th>embedding_2</th>\n",
              "      <th>embedding_3</th>\n",
              "    </tr>\n",
              "  </thead>\n",
              "  <tbody>\n",
              "    <tr>\n",
              "      <th>0</th>\n",
              "      <td>0</td>\n",
              "      <td>0.166630</td>\n",
              "      <td>0.018717</td>\n",
              "      <td>0.190703</td>\n",
              "    </tr>\n",
              "    <tr>\n",
              "      <th>1</th>\n",
              "      <td>1</td>\n",
              "      <td>0.133846</td>\n",
              "      <td>0.027092</td>\n",
              "      <td>0.115620</td>\n",
              "    </tr>\n",
              "    <tr>\n",
              "      <th>2</th>\n",
              "      <td>2</td>\n",
              "      <td>0.011060</td>\n",
              "      <td>-0.024902</td>\n",
              "      <td>0.054903</td>\n",
              "    </tr>\n",
              "    <tr>\n",
              "      <th>3</th>\n",
              "      <td>3</td>\n",
              "      <td>-0.030545</td>\n",
              "      <td>0.029534</td>\n",
              "      <td>-0.019512</td>\n",
              "    </tr>\n",
              "    <tr>\n",
              "      <th>4</th>\n",
              "      <td>4</td>\n",
              "      <td>-0.067119</td>\n",
              "      <td>-0.008115</td>\n",
              "      <td>-0.113560</td>\n",
              "    </tr>\n",
              "    <tr>\n",
              "      <th>5</th>\n",
              "      <td>5</td>\n",
              "      <td>-0.130093</td>\n",
              "      <td>0.016817</td>\n",
              "      <td>-0.130062</td>\n",
              "    </tr>\n",
              "    <tr>\n",
              "      <th>6</th>\n",
              "      <td>6</td>\n",
              "      <td>-0.088684</td>\n",
              "      <td>0.004658</td>\n",
              "      <td>-0.136216</td>\n",
              "    </tr>\n",
              "    <tr>\n",
              "      <th>7</th>\n",
              "      <td>7</td>\n",
              "      <td>-0.100767</td>\n",
              "      <td>0.021383</td>\n",
              "      <td>-0.130548</td>\n",
              "    </tr>\n",
              "    <tr>\n",
              "      <th>8</th>\n",
              "      <td>8</td>\n",
              "      <td>-0.153907</td>\n",
              "      <td>-0.018429</td>\n",
              "      <td>-0.115754</td>\n",
              "    </tr>\n",
              "    <tr>\n",
              "      <th>9</th>\n",
              "      <td>9</td>\n",
              "      <td>-0.073807</td>\n",
              "      <td>0.011073</td>\n",
              "      <td>-0.092824</td>\n",
              "    </tr>\n",
              "    <tr>\n",
              "      <th>10</th>\n",
              "      <td>10</td>\n",
              "      <td>-0.011859</td>\n",
              "      <td>-0.028527</td>\n",
              "      <td>0.004552</td>\n",
              "    </tr>\n",
              "    <tr>\n",
              "      <th>11</th>\n",
              "      <td>11</td>\n",
              "      <td>0.061655</td>\n",
              "      <td>0.034424</td>\n",
              "      <td>0.058564</td>\n",
              "    </tr>\n",
              "  </tbody>\n",
              "</table>\n",
              "</div>"
            ],
            "text/plain": [
              "    mnth  embedding_1  embedding_2  embedding_3\n",
              "0      0     0.166630     0.018717     0.190703\n",
              "1      1     0.133846     0.027092     0.115620\n",
              "2      2     0.011060    -0.024902     0.054903\n",
              "3      3    -0.030545     0.029534    -0.019512\n",
              "4      4    -0.067119    -0.008115    -0.113560\n",
              "5      5    -0.130093     0.016817    -0.130062\n",
              "6      6    -0.088684     0.004658    -0.136216\n",
              "7      7    -0.100767     0.021383    -0.130548\n",
              "8      8    -0.153907    -0.018429    -0.115754\n",
              "9      9    -0.073807     0.011073    -0.092824\n",
              "10    10    -0.011859    -0.028527     0.004552\n",
              "11    11     0.061655     0.034424     0.058564"
            ]
          },
          "metadata": {},
          "execution_count": 28
        }
      ]
    },
    {
      "cell_type": "markdown",
      "metadata": {
        "id": "W7pL-hume_dh"
      },
      "source": [
        "# Vizualisation\n",
        "Visualization of relationships"
      ]
    },
    {
      "cell_type": "code",
      "metadata": {
        "id": "U5sPCajse_dh",
        "colab": {
          "base_uri": "https://localhost:8080/",
          "height": 414
        },
        "outputId": "deb000bf-be17-4cae-c3e9-f0e97e82e8df"
      },
      "source": [
        "# 6.6 Get three embeddings columns\n",
        "output_embeddings_df.iloc[:,1:]"
      ],
      "execution_count": 29,
      "outputs": [
        {
          "output_type": "execute_result",
          "data": {
            "text/html": [
              "<div>\n",
              "<style scoped>\n",
              "    .dataframe tbody tr th:only-of-type {\n",
              "        vertical-align: middle;\n",
              "    }\n",
              "\n",
              "    .dataframe tbody tr th {\n",
              "        vertical-align: top;\n",
              "    }\n",
              "\n",
              "    .dataframe thead th {\n",
              "        text-align: right;\n",
              "    }\n",
              "</style>\n",
              "<table border=\"1\" class=\"dataframe\">\n",
              "  <thead>\n",
              "    <tr style=\"text-align: right;\">\n",
              "      <th></th>\n",
              "      <th>embedding_1</th>\n",
              "      <th>embedding_2</th>\n",
              "      <th>embedding_3</th>\n",
              "    </tr>\n",
              "  </thead>\n",
              "  <tbody>\n",
              "    <tr>\n",
              "      <th>0</th>\n",
              "      <td>0.166630</td>\n",
              "      <td>0.018717</td>\n",
              "      <td>0.190703</td>\n",
              "    </tr>\n",
              "    <tr>\n",
              "      <th>1</th>\n",
              "      <td>0.133846</td>\n",
              "      <td>0.027092</td>\n",
              "      <td>0.115620</td>\n",
              "    </tr>\n",
              "    <tr>\n",
              "      <th>2</th>\n",
              "      <td>0.011060</td>\n",
              "      <td>-0.024902</td>\n",
              "      <td>0.054903</td>\n",
              "    </tr>\n",
              "    <tr>\n",
              "      <th>3</th>\n",
              "      <td>-0.030545</td>\n",
              "      <td>0.029534</td>\n",
              "      <td>-0.019512</td>\n",
              "    </tr>\n",
              "    <tr>\n",
              "      <th>4</th>\n",
              "      <td>-0.067119</td>\n",
              "      <td>-0.008115</td>\n",
              "      <td>-0.113560</td>\n",
              "    </tr>\n",
              "    <tr>\n",
              "      <th>5</th>\n",
              "      <td>-0.130093</td>\n",
              "      <td>0.016817</td>\n",
              "      <td>-0.130062</td>\n",
              "    </tr>\n",
              "    <tr>\n",
              "      <th>6</th>\n",
              "      <td>-0.088684</td>\n",
              "      <td>0.004658</td>\n",
              "      <td>-0.136216</td>\n",
              "    </tr>\n",
              "    <tr>\n",
              "      <th>7</th>\n",
              "      <td>-0.100767</td>\n",
              "      <td>0.021383</td>\n",
              "      <td>-0.130548</td>\n",
              "    </tr>\n",
              "    <tr>\n",
              "      <th>8</th>\n",
              "      <td>-0.153907</td>\n",
              "      <td>-0.018429</td>\n",
              "      <td>-0.115754</td>\n",
              "    </tr>\n",
              "    <tr>\n",
              "      <th>9</th>\n",
              "      <td>-0.073807</td>\n",
              "      <td>0.011073</td>\n",
              "      <td>-0.092824</td>\n",
              "    </tr>\n",
              "    <tr>\n",
              "      <th>10</th>\n",
              "      <td>-0.011859</td>\n",
              "      <td>-0.028527</td>\n",
              "      <td>0.004552</td>\n",
              "    </tr>\n",
              "    <tr>\n",
              "      <th>11</th>\n",
              "      <td>0.061655</td>\n",
              "      <td>0.034424</td>\n",
              "      <td>0.058564</td>\n",
              "    </tr>\n",
              "  </tbody>\n",
              "</table>\n",
              "</div>"
            ],
            "text/plain": [
              "    embedding_1  embedding_2  embedding_3\n",
              "0      0.166630     0.018717     0.190703\n",
              "1      0.133846     0.027092     0.115620\n",
              "2      0.011060    -0.024902     0.054903\n",
              "3     -0.030545     0.029534    -0.019512\n",
              "4     -0.067119    -0.008115    -0.113560\n",
              "5     -0.130093     0.016817    -0.130062\n",
              "6     -0.088684     0.004658    -0.136216\n",
              "7     -0.100767     0.021383    -0.130548\n",
              "8     -0.153907    -0.018429    -0.115754\n",
              "9     -0.073807     0.011073    -0.092824\n",
              "10    -0.011859    -0.028527     0.004552\n",
              "11     0.061655     0.034424     0.058564"
            ]
          },
          "metadata": {},
          "execution_count": 29
        }
      ]
    },
    {
      "cell_type": "code",
      "metadata": {
        "id": "8lujln-te_dh",
        "colab": {
          "base_uri": "https://localhost:8080/",
          "height": 611
        },
        "outputId": "11ed7ae6-cb02-4d42-8a6f-4a30af8489a0"
      },
      "source": [
        "# 7.0 Plot each vector on 3D axis\n",
        "m = output_embeddings_df.iloc[:,1:].values\n",
        "labels = output_embeddings_df.iloc[:,0:1].values\n",
        "fig = plt.figure(figsize=(20,10))\n",
        "ax = fig.add_subplot(111, projection='3d')\n",
        "\n",
        "for i in range(len(labels)):\n",
        "    ax.scatter(m[i,0],m[i,1],m[i,2], color='b')\n",
        "    ax.text(m[i,0],m[i,1],m[i,2],'%s'%(str(labels[i][0])), size=20, zorder=1, color='k')\n",
        "\n",
        "ax.set_xlabel('Embedding 1')  \n",
        "ax.set_ylabel('Embedding 2')  \n",
        "ax.set_zlabel('Embedding 3')  \n",
        "plt.show()"
      ],
      "execution_count": 30,
      "outputs": [
        {
          "output_type": "execute_result",
          "data": {
            "text/plain": [
              "<mpl_toolkits.mplot3d.art3d.Path3DCollection at 0x7fe8f733a150>"
            ]
          },
          "metadata": {},
          "execution_count": 30
        },
        {
          "output_type": "execute_result",
          "data": {
            "text/plain": [
              "Text(0.16662988, 0.018716585, '0')"
            ]
          },
          "metadata": {},
          "execution_count": 30
        },
        {
          "output_type": "execute_result",
          "data": {
            "text/plain": [
              "<mpl_toolkits.mplot3d.art3d.Path3DCollection at 0x7fe8f733a3d0>"
            ]
          },
          "metadata": {},
          "execution_count": 30
        },
        {
          "output_type": "execute_result",
          "data": {
            "text/plain": [
              "Text(0.13384628, 0.027091658, '1')"
            ]
          },
          "metadata": {},
          "execution_count": 30
        },
        {
          "output_type": "execute_result",
          "data": {
            "text/plain": [
              "<mpl_toolkits.mplot3d.art3d.Path3DCollection at 0x7fe8f733a8d0>"
            ]
          },
          "metadata": {},
          "execution_count": 30
        },
        {
          "output_type": "execute_result",
          "data": {
            "text/plain": [
              "Text(0.011060327, -0.024902252, '2')"
            ]
          },
          "metadata": {},
          "execution_count": 30
        },
        {
          "output_type": "execute_result",
          "data": {
            "text/plain": [
              "<mpl_toolkits.mplot3d.art3d.Path3DCollection at 0x7fe8f733aed0>"
            ]
          },
          "metadata": {},
          "execution_count": 30
        },
        {
          "output_type": "execute_result",
          "data": {
            "text/plain": [
              "Text(-0.030545464, 0.029533623, '3')"
            ]
          },
          "metadata": {},
          "execution_count": 30
        },
        {
          "output_type": "execute_result",
          "data": {
            "text/plain": [
              "<mpl_toolkits.mplot3d.art3d.Path3DCollection at 0x7fe8f7348590>"
            ]
          },
          "metadata": {},
          "execution_count": 30
        },
        {
          "output_type": "execute_result",
          "data": {
            "text/plain": [
              "Text(-0.067119375, -0.008115213, '4')"
            ]
          },
          "metadata": {},
          "execution_count": 30
        },
        {
          "output_type": "execute_result",
          "data": {
            "text/plain": [
              "<mpl_toolkits.mplot3d.art3d.Path3DCollection at 0x7fe8f7348bd0>"
            ]
          },
          "metadata": {},
          "execution_count": 30
        },
        {
          "output_type": "execute_result",
          "data": {
            "text/plain": [
              "Text(-0.13009284, 0.016817143, '5')"
            ]
          },
          "metadata": {},
          "execution_count": 30
        },
        {
          "output_type": "execute_result",
          "data": {
            "text/plain": [
              "<mpl_toolkits.mplot3d.art3d.Path3DCollection at 0x7fe8f72e3350>"
            ]
          },
          "metadata": {},
          "execution_count": 30
        },
        {
          "output_type": "execute_result",
          "data": {
            "text/plain": [
              "Text(-0.088683575, 0.0046583177, '6')"
            ]
          },
          "metadata": {},
          "execution_count": 30
        },
        {
          "output_type": "execute_result",
          "data": {
            "text/plain": [
              "<mpl_toolkits.mplot3d.art3d.Path3DCollection at 0x7fe8f72e3850>"
            ]
          },
          "metadata": {},
          "execution_count": 30
        },
        {
          "output_type": "execute_result",
          "data": {
            "text/plain": [
              "Text(-0.10076675, 0.021382548, '7')"
            ]
          },
          "metadata": {},
          "execution_count": 30
        },
        {
          "output_type": "execute_result",
          "data": {
            "text/plain": [
              "<mpl_toolkits.mplot3d.art3d.Path3DCollection at 0x7fe8f72e3e50>"
            ]
          },
          "metadata": {},
          "execution_count": 30
        },
        {
          "output_type": "execute_result",
          "data": {
            "text/plain": [
              "Text(-0.15390669, -0.018428763, '8')"
            ]
          },
          "metadata": {},
          "execution_count": 30
        },
        {
          "output_type": "execute_result",
          "data": {
            "text/plain": [
              "<mpl_toolkits.mplot3d.art3d.Path3DCollection at 0x7fe8f72ec650>"
            ]
          },
          "metadata": {},
          "execution_count": 30
        },
        {
          "output_type": "execute_result",
          "data": {
            "text/plain": [
              "Text(-0.07380715, 0.011073164, '9')"
            ]
          },
          "metadata": {},
          "execution_count": 30
        },
        {
          "output_type": "execute_result",
          "data": {
            "text/plain": [
              "<mpl_toolkits.mplot3d.art3d.Path3DCollection at 0x7fe8f72eccd0>"
            ]
          },
          "metadata": {},
          "execution_count": 30
        },
        {
          "output_type": "execute_result",
          "data": {
            "text/plain": [
              "Text(-0.011859109, -0.028527094, '10')"
            ]
          },
          "metadata": {},
          "execution_count": 30
        },
        {
          "output_type": "execute_result",
          "data": {
            "text/plain": [
              "<mpl_toolkits.mplot3d.art3d.Path3DCollection at 0x7fe8f72fcbd0>"
            ]
          },
          "metadata": {},
          "execution_count": 30
        },
        {
          "output_type": "execute_result",
          "data": {
            "text/plain": [
              "Text(0.06165524, 0.034424078, '11')"
            ]
          },
          "metadata": {},
          "execution_count": 30
        },
        {
          "output_type": "execute_result",
          "data": {
            "text/plain": [
              "Text(0.5, 0, 'Embedding 1')"
            ]
          },
          "metadata": {},
          "execution_count": 30
        },
        {
          "output_type": "execute_result",
          "data": {
            "text/plain": [
              "Text(0.5, 0, 'Embedding 2')"
            ]
          },
          "metadata": {},
          "execution_count": 30
        },
        {
          "output_type": "execute_result",
          "data": {
            "text/plain": [
              "Text(0.5, 0, 'Embedding 3')"
            ]
          },
          "metadata": {},
          "execution_count": 30
        },
        {
          "output_type": "display_data",
          "data": {
            "image/png": "[encoded data removed]",
            "text/plain": [
              "<Figure size 1440x720 with 1 Axes>"
            ]
          },
          "metadata": {
            "needs_background": "light"
          }
        }
      ]
    },
    {
      "cell_type": "code",
      "metadata": {
        "id": "XalphT7Te_dh",
        "colab": {
          "base_uri": "https://localhost:8080/",
          "height": 338
        },
        "outputId": "a2283bd6-d2ca-4cea-969b-d4dc2b26a82b"
      },
      "source": [
        "data_plot['cnt'].plot.bar(figsize=(10,5))"
      ],
      "execution_count": 31,
      "outputs": [
        {
          "output_type": "execute_result",
          "data": {
            "text/plain": [
              "<matplotlib.axes._subplots.AxesSubplot at 0x7fe8f731e150>"
            ]
          },
          "metadata": {},
          "execution_count": 31
        },
        {
          "output_type": "display_data",
          "data": {
            "image/png": "[encoded data removed]",
            "text/plain": [
              "<Figure size 720x360 with 1 Axes>"
            ]
          },
          "metadata": {
            "needs_background": "light"
          }
        }
      ]
    }
  ]
}